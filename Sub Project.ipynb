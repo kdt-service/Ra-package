{
 "cells": [
  {
   "cell_type": "markdown",
   "id": "14c374dc",
   "metadata": {},
   "source": [
    "# 데이터 분석 패키지"
   ]
  },
  {
   "cell_type": "markdown",
   "id": "fa717188",
   "metadata": {},
   "source": [
    "서브 프로젝트 1 주제"
   ]
  },
  {
   "cell_type": "markdown",
   "id": "a5dbc0b5",
   "metadata": {},
   "source": [
    "- 코스피 지수"
   ]
  },
  {
   "cell_type": "markdown",
   "id": "3183729f",
   "metadata": {},
   "source": [
    "URL ='https://m.stock.naver.com/domestic/index/KOSPI/total'"
   ]
  },
  {
   "cell_type": "code",
   "execution_count": null,
   "id": "71ce6005",
   "metadata": {},
   "outputs": [],
   "source": []
  }
 ],
 "metadata": {
  "kernelspec": {
   "display_name": "Python 3 (ipykernel)",
   "language": "python",
   "name": "python3"
  },
  "language_info": {
   "codemirror_mode": {
    "name": "ipython",
    "version": 3
   },
   "file_extension": ".py",
   "mimetype": "text/x-python",
   "name": "python",
   "nbconvert_exporter": "python",
   "pygments_lexer": "ipython3",
   "version": "3.9.7"
  }
 },
 "nbformat": 4,
 "nbformat_minor": 5
}
