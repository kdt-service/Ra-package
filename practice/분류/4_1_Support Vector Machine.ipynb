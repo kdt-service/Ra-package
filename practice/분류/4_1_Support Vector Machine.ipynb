{
 "cells": [
  {
   "cell_type": "markdown",
   "metadata": {
    "colab_type": "text",
    "id": "aZU1d1URcSj2"
   },
   "source": [
    "# 1. LinearSVM (선형 서포트 벡터 머신)"
   ]
  },
  {
   "cell_type": "code",
   "execution_count": 1,
   "metadata": {},
   "outputs": [
    {
     "name": "stderr",
     "output_type": "stream",
     "text": [
      "'sudo'은(는) 내부 또는 외부 명령, 실행할 수 있는 프로그램, 또는\n",
      "배치 파일이 아닙니다.\n",
      "'sudo'은(는) 내부 또는 외부 명령, 실행할 수 있는 프로그램, 또는\n",
      "배치 파일이 아닙니다.\n",
      "'rm'은(는) 내부 또는 외부 명령, 실행할 수 있는 프로그램, 또는\n",
      "배치 파일이 아닙니다.\n"
     ]
    }
   ],
   "source": [
    "!sudo apt-get install -y fonts-nanum\n",
    "!sudo fc-cache -fv\n",
    "!rm ~/.cache/matplotlib -rf\n",
    "\n",
    "# 런타임 재시작 !"
   ]
  },
  {
   "cell_type": "code",
   "execution_count": 2,
   "metadata": {
    "colab": {},
    "colab_type": "code",
    "executionInfo": {
     "elapsed": 1775,
     "status": "ok",
     "timestamp": 1592529062770,
     "user": {
      "displayName": "Ardino Lee",
      "photoUrl": "https://lh3.googleusercontent.com/a-/AOh14GhB_WDJA1NwHt0QGkYj1f8YnMmiS1ZeCBKt3hA2=s64",
      "userId": "09906365095310647737"
     },
     "user_tz": -540
    },
    "id": "b5DCWakrcSj5"
   },
   "outputs": [],
   "source": [
    "import matplotlib.pyplot as plt\n",
    "plt.rc('font', family='NanumBarunGothic')\n",
    "plt.rcParams['axes.unicode_minus'] = False\n",
    "\n",
    "import warnings \n",
    "warnings.filterwarnings('ignore')\n",
    "\n",
    "import numpy as np"
   ]
  },
  {
   "cell_type": "code",
   "execution_count": 3,
   "metadata": {
    "colab": {},
    "colab_type": "code",
    "executionInfo": {
     "elapsed": 1761,
     "status": "ok",
     "timestamp": 1592529062772,
     "user": {
      "displayName": "Ardino Lee",
      "photoUrl": "https://lh3.googleusercontent.com/a-/AOh14GhB_WDJA1NwHt0QGkYj1f8YnMmiS1ZeCBKt3hA2=s64",
      "userId": "09906365095310647737"
     },
     "user_tz": -540
    },
    "id": "TfNom5y8cSj9"
   },
   "outputs": [],
   "source": [
    "from sklearn.svm import SVC\n",
    "from sklearn.datasets import make_classification\n",
    "from sklearn.model_selection import train_test_split\n",
    "\n",
    "X, y = make_classification(n_features = 2, n_redundant = 0, n_informative = 1,\n",
    "                          n_classes = 2, n_clusters_per_class = 1, random_state = 30)\n",
    "# 사이킷런의 SVM패키지 안에 서포트 벡터 머신의 모형 SVC(Support Vector Classifier)를 제공한다."
   ]
  },
  {
   "cell_type": "code",
   "execution_count": 4,
   "metadata": {
    "colab": {
     "base_uri": "https://localhost:8080/",
     "height": 107
    },
    "colab_type": "code",
    "executionInfo": {
     "elapsed": 590,
     "status": "ok",
     "timestamp": 1592529084599,
     "user": {
      "displayName": "Ardino Lee",
      "photoUrl": "https://lh3.googleusercontent.com/a-/AOh14GhB_WDJA1NwHt0QGkYj1f8YnMmiS1ZeCBKt3hA2=s64",
      "userId": "09906365095310647737"
     },
     "user_tz": -540
    },
    "id": "vqk5M_lncSkB",
    "outputId": "bbd81c50-e77c-4806-b935-f9e0716727cb"
   },
   "outputs": [
    {
     "data": {
      "text/plain": [
       "array([0, 0, 1, 0, 1, 0, 0, 1, 1, 0, 1, 1, 0, 0, 0, 0, 0, 0, 1, 1, 0, 0,\n",
       "       0, 0, 0, 1, 1, 1, 1, 0, 1, 0, 1, 0, 1, 1, 1, 0, 1, 0, 1, 1, 0, 0,\n",
       "       0, 0, 1, 1, 0, 0, 1, 1, 1, 1, 1, 1, 0, 1, 1, 0, 0, 1, 1, 1, 1, 0,\n",
       "       0, 1, 1, 0, 0, 1, 1, 1, 0, 0, 1, 1, 0, 0, 0, 1, 1, 0, 1, 0, 1, 0,\n",
       "       1, 1, 1, 0, 1, 0, 0, 0, 1, 0, 0, 0])"
      ]
     },
     "execution_count": 4,
     "metadata": {},
     "output_type": "execute_result"
    }
   ],
   "source": [
    "y"
   ]
  },
  {
   "cell_type": "code",
   "execution_count": null,
   "metadata": {
    "colab": {
     "base_uri": "https://localhost:8080/",
     "height": 356
    },
    "colab_type": "code",
    "executionInfo": {
     "elapsed": 1329,
     "status": "ok",
     "timestamp": 1592529096979,
     "user": {
      "displayName": "Ardino Lee",
      "photoUrl": "https://lh3.googleusercontent.com/a-/AOh14GhB_WDJA1NwHt0QGkYj1f8YnMmiS1ZeCBKt3hA2=s64",
      "userId": "09906365095310647737"
     },
     "user_tz": -540
    },
    "id": "6msspgQTcSkG",
    "outputId": "d0aceb66-7494-472b-ee4f-7ed39e62e9f0"
   },
   "outputs": [],
   "source": [
    "plt.figure(figsize = (10, 5))\n",
    "plt.scatter(X[:, 0], X[:, 1], marker = 'o', c = y, s = 100)\n",
    "plt.xlabel('$X_1$')\n",
    "plt.ylabel('$X_2$')\n",
    "plt.show()"
   ]
  },
  {
   "cell_type": "code",
   "execution_count": null,
   "metadata": {
    "colab": {},
    "colab_type": "code",
    "executionInfo": {
     "elapsed": 656,
     "status": "ok",
     "timestamp": 1592529112245,
     "user": {
      "displayName": "Ardino Lee",
      "photoUrl": "https://lh3.googleusercontent.com/a-/AOh14GhB_WDJA1NwHt0QGkYj1f8YnMmiS1ZeCBKt3hA2=s64",
      "userId": "09906365095310647737"
     },
     "user_tz": -540
    },
    "id": "Q16TlzsfcSkJ"
   },
   "outputs": [],
   "source": [
    "X_train, X_test, y_train, y_test = train_test_split(X, y, test_size = 0.2,\n",
    "                                                   shuffle = True)"
   ]
  },
  {
   "cell_type": "code",
   "execution_count": null,
   "metadata": {
    "colab": {},
    "colab_type": "code",
    "executionInfo": {
     "elapsed": 588,
     "status": "ok",
     "timestamp": 1592529193945,
     "user": {
      "displayName": "Ardino Lee",
      "photoUrl": "https://lh3.googleusercontent.com/a-/AOh14GhB_WDJA1NwHt0QGkYj1f8YnMmiS1ZeCBKt3hA2=s64",
      "userId": "09906365095310647737"
     },
     "user_tz": -540
    },
    "id": "Ekn3-evacSkN"
   },
   "outputs": [],
   "source": [
    "#1번 임포트 모델\n",
    "from sklearn.svm import SVC\n",
    "\n",
    "#2번 모델 선택 & 모델.fit(학습데이터)\n",
    "linear_svc = SVC(kernel = 'linear', C = 1).fit(X_train, y_train)"
   ]
  },
  {
   "cell_type": "markdown",
   "metadata": {
    "colab_type": "text",
    "id": "G3HoEKw-cSkR"
   },
   "source": [
    "SVC의 매개변수  \n",
    "- kernel : 커널을 설정한다, 기본값은 'rbf'  \n",
    "'rbf'가 무엇인지 왜 기본값인지. (radial basis function)\n",
    "- C : 슬랙 변수 가중치(slack variable weight) 즉, 모델의 오차 혀용률을 조절한다, 기본값은 1.0\n",
    "- C는 얼마나 많은 데이터 샘플들을 다른 클래스에 놓이는 것을 허용하는지를 정해준다.\n",
    "- 높은 C값은 모델을 더 유연하게 만들어주는 반면에, 낮은 C값은 모델을 더 안정적으로 만들어준다."
   ]
  },
  {
   "cell_type": "code",
   "execution_count": null,
   "metadata": {
    "colab": {
     "base_uri": "https://localhost:8080/",
     "height": 35
    },
    "colab_type": "code",
    "executionInfo": {
     "elapsed": 564,
     "status": "ok",
     "timestamp": 1592529249602,
     "user": {
      "displayName": "Ardino Lee",
      "photoUrl": "https://lh3.googleusercontent.com/a-/AOh14GhB_WDJA1NwHt0QGkYj1f8YnMmiS1ZeCBKt3hA2=s64",
      "userId": "09906365095310647737"
     },
     "user_tz": -540
    },
    "id": "MV_euROLcSkS",
    "outputId": "b8783ae9-c265-4ec6-b92c-3e998eafb27e"
   },
   "outputs": [],
   "source": [
    "linear_svc.n_support_\n",
    "# 각 클래스의 서포트의 개수, support vector의 개수"
   ]
  },
  {
   "cell_type": "code",
   "execution_count": null,
   "metadata": {
    "colab": {
     "base_uri": "https://localhost:8080/",
     "height": 431
    },
    "colab_type": "code",
    "executionInfo": {
     "elapsed": 599,
     "status": "ok",
     "timestamp": 1592529307173,
     "user": {
      "displayName": "Ardino Lee",
      "photoUrl": "https://lh3.googleusercontent.com/a-/AOh14GhB_WDJA1NwHt0QGkYj1f8YnMmiS1ZeCBKt3hA2=s64",
      "userId": "09906365095310647737"
     },
     "user_tz": -540
    },
    "id": "PbDtz4iDcSkV",
    "outputId": "d3af7fe7-b6e7-4f02-81c5-7f7decca26d2"
   },
   "outputs": [],
   "source": [
    "linear_svc.support_vectors_\n",
    "# 각 클래스의 서포트 x값 (x+. x-)"
   ]
  },
  {
   "cell_type": "code",
   "execution_count": null,
   "metadata": {
    "colab": {
     "base_uri": "https://localhost:8080/",
     "height": 661
    },
    "colab_type": "code",
    "executionInfo": {
     "elapsed": 621,
     "status": "ok",
     "timestamp": 1592529411311,
     "user": {
      "displayName": "Ardino Lee",
      "photoUrl": "https://lh3.googleusercontent.com/a-/AOh14GhB_WDJA1NwHt0QGkYj1f8YnMmiS1ZeCBKt3hA2=s64",
      "userId": "09906365095310647737"
     },
     "user_tz": -540
    },
    "id": "oFMjqjjucSkY",
    "outputId": "a71e93b7-3e23-4334-c195-f97ed4dc5bed"
   },
   "outputs": [],
   "source": [
    "plt.figure(figsize = (10,5))\n",
    "plt.scatter(X_train[y_train == 1, 0], X_train[y_train ==1, 1], c = 'b', label = '1', s=50)\n",
    "plt.scatter(X_train[y_train == 0, 0], X_train[y_train ==0, 1], c = 'r', label = '0', s=50)\n",
    "plt.scatter(linear_svc.support_vectors_[:, 0], linear_svc.support_vectors_[:, 1],\n",
    "           s = 150, c = 'g', alpha = 0.5)\n",
    "# alpha는 투명도\n",
    "plt.xlabel(\"$X_1$\")\n",
    "plt.ylabel(\"$X_2$\")\n",
    "plt.legend()\n",
    "plt.title(\"SVM 예측 결과\")\n",
    "\n",
    "plt.show()\n",
    "# 값이 너무 극닥적이기 때문에 조금 줄여서 할 필요가 있음."
   ]
  },
  {
   "cell_type": "code",
   "execution_count": null,
   "metadata": {
    "colab": {
     "base_uri": "https://localhost:8080/",
     "height": 89
    },
    "colab_type": "code",
    "executionInfo": {
     "elapsed": 616,
     "status": "ok",
     "timestamp": 1592529415994,
     "user": {
      "displayName": "Ardino Lee",
      "photoUrl": "https://lh3.googleusercontent.com/a-/AOh14GhB_WDJA1NwHt0QGkYj1f8YnMmiS1ZeCBKt3hA2=s64",
      "userId": "09906365095310647737"
     },
     "user_tz": -540
    },
    "id": "cZAmqd89cSkg",
    "outputId": "6fe2f7a9-8234-44c0-e010-c790167b2e76"
   },
   "outputs": [],
   "source": [
    "print('train score : {}\\n\\n'.format(linear_svc.score(X_train, y_train)))\n",
    "print('test score : {}'.format(linear_svc.score(X_test, y_test)))"
   ]
  },
  {
   "cell_type": "code",
   "execution_count": null,
   "metadata": {
    "colab": {
     "base_uri": "https://localhost:8080/",
     "height": 71
    },
    "colab_type": "code",
    "executionInfo": {
     "elapsed": 748,
     "status": "ok",
     "timestamp": 1592529425113,
     "user": {
      "displayName": "Ardino Lee",
      "photoUrl": "https://lh3.googleusercontent.com/a-/AOh14GhB_WDJA1NwHt0QGkYj1f8YnMmiS1ZeCBKt3hA2=s64",
      "userId": "09906365095310647737"
     },
     "user_tz": -540
    },
    "id": "ym20m8_McSkj",
    "outputId": "8c91e7bd-1874-40d4-94cc-339ab58f680e"
   },
   "outputs": [],
   "source": [
    "print('실제 : {}'.format(y_test))\n",
    "print('예측 : {}'.format(linear_svc.predict(X_test)))\n",
    "\n",
    "print(len(y_test))"
   ]
  },
  {
   "cell_type": "code",
   "execution_count": null,
   "metadata": {
    "colab": {},
    "colab_type": "code",
    "executionInfo": {
     "elapsed": 613,
     "status": "ok",
     "timestamp": 1592529516298,
     "user": {
      "displayName": "Ardino Lee",
      "photoUrl": "https://lh3.googleusercontent.com/a-/AOh14GhB_WDJA1NwHt0QGkYj1f8YnMmiS1ZeCBKt3hA2=s64",
      "userId": "09906365095310647737"
     },
     "user_tz": -540
    },
    "id": "KQBsDfvOcSkm"
   },
   "outputs": [],
   "source": [
    "linear_svc01 = SVC(kernel = 'linear', C = 0.1).fit(X_train, y_train)\n",
    "# 비교를 위해 C값을 매우 적게 설정했다."
   ]
  },
  {
   "cell_type": "code",
   "execution_count": null,
   "metadata": {
    "colab": {
     "base_uri": "https://localhost:8080/",
     "height": 35
    },
    "colab_type": "code",
    "executionInfo": {
     "elapsed": 579,
     "status": "ok",
     "timestamp": 1592529549677,
     "user": {
      "displayName": "Ardino Lee",
      "photoUrl": "https://lh3.googleusercontent.com/a-/AOh14GhB_WDJA1NwHt0QGkYj1f8YnMmiS1ZeCBKt3hA2=s64",
      "userId": "09906365095310647737"
     },
     "user_tz": -540
    },
    "id": "Fnsqcb1PcSkp",
    "outputId": "282cf267-791d-44ac-f888-dd9b11c28944"
   },
   "outputs": [],
   "source": [
    "linear_svc01.n_support_"
   ]
  },
  {
   "cell_type": "code",
   "execution_count": null,
   "metadata": {
    "colab": {
     "base_uri": "https://localhost:8080/",
     "height": 701
    },
    "colab_type": "code",
    "executionInfo": {
     "elapsed": 668,
     "status": "ok",
     "timestamp": 1592529552807,
     "user": {
      "displayName": "Ardino Lee",
      "photoUrl": "https://lh3.googleusercontent.com/a-/AOh14GhB_WDJA1NwHt0QGkYj1f8YnMmiS1ZeCBKt3hA2=s64",
      "userId": "09906365095310647737"
     },
     "user_tz": -540
    },
    "id": "8OAJAjiAcSkt",
    "outputId": "654b0064-7aa7-4d67-b1c0-c7713d76ff22",
    "scrolled": true
   },
   "outputs": [],
   "source": [
    "linear_svc01.support_vectors_"
   ]
  },
  {
   "cell_type": "code",
   "execution_count": null,
   "metadata": {
    "colab": {
     "base_uri": "https://localhost:8080/",
     "height": 661
    },
    "colab_type": "code",
    "executionInfo": {
     "elapsed": 675,
     "status": "ok",
     "timestamp": 1592529555678,
     "user": {
      "displayName": "Ardino Lee",
      "photoUrl": "https://lh3.googleusercontent.com/a-/AOh14GhB_WDJA1NwHt0QGkYj1f8YnMmiS1ZeCBKt3hA2=s64",
      "userId": "09906365095310647737"
     },
     "user_tz": -540
    },
    "id": "ZiY_PUercSkz",
    "outputId": "1d008be8-e64d-4fd7-8aa8-aa8c19dd75f6"
   },
   "outputs": [],
   "source": [
    "plt.figure(figsize = (10,5))\n",
    "plt.scatter(X_train[y_train == 1, 0], X_train[y_train ==1, 1], c = 'b', label = '1', s=50)\n",
    "plt.scatter(X_train[y_train == 0, 0], X_train[y_train ==0, 1], c = 'r', label = '0', s=50)\n",
    "plt.scatter(linear_svc01.support_vectors_[:, 0], linear_svc01.support_vectors_[:, 1],\n",
    "           s = 150, c = 'g', alpha = 0.5)\n",
    "# alpha는 투명도\n",
    "plt.xlabel(\"$X_1$\")\n",
    "plt.ylabel(\"$X_2$\")\n",
    "plt.legend()\n",
    "plt.title(\"SVM 예측 결과\")\n",
    "\n",
    "plt.show()"
   ]
  },
  {
   "cell_type": "code",
   "execution_count": null,
   "metadata": {
    "colab": {},
    "colab_type": "code",
    "executionInfo": {
     "elapsed": 608,
     "status": "ok",
     "timestamp": 1592529563200,
     "user": {
      "displayName": "Ardino Lee",
      "photoUrl": "https://lh3.googleusercontent.com/a-/AOh14GhB_WDJA1NwHt0QGkYj1f8YnMmiS1ZeCBKt3hA2=s64",
      "userId": "09906365095310647737"
     },
     "user_tz": -540
    },
    "id": "JCA_7N4bcSk3"
   },
   "outputs": [],
   "source": [
    "linear_svc10 = SVC(kernel = 'linear', C = 10).fit(X_train, y_train)"
   ]
  },
  {
   "cell_type": "code",
   "execution_count": null,
   "metadata": {
    "colab": {
     "base_uri": "https://localhost:8080/",
     "height": 35
    },
    "colab_type": "code",
    "executionInfo": {
     "elapsed": 567,
     "status": "ok",
     "timestamp": 1592529585332,
     "user": {
      "displayName": "Ardino Lee",
      "photoUrl": "https://lh3.googleusercontent.com/a-/AOh14GhB_WDJA1NwHt0QGkYj1f8YnMmiS1ZeCBKt3hA2=s64",
      "userId": "09906365095310647737"
     },
     "user_tz": -540
    },
    "id": "hC5IVreecSk6",
    "outputId": "8e1d7b6a-8ed0-47d0-bee1-f64d1c0daf3c"
   },
   "outputs": [],
   "source": [
    "linear_svc10.n_support_"
   ]
  },
  {
   "cell_type": "code",
   "execution_count": null,
   "metadata": {
    "colab": {
     "base_uri": "https://localhost:8080/",
     "height": 359
    },
    "colab_type": "code",
    "executionInfo": {
     "elapsed": 594,
     "status": "ok",
     "timestamp": 1592529595448,
     "user": {
      "displayName": "Ardino Lee",
      "photoUrl": "https://lh3.googleusercontent.com/a-/AOh14GhB_WDJA1NwHt0QGkYj1f8YnMmiS1ZeCBKt3hA2=s64",
      "userId": "09906365095310647737"
     },
     "user_tz": -540
    },
    "id": "36k7r8xzcSk9",
    "outputId": "652dd98f-80b1-4fe9-eba2-5e8b139bb774"
   },
   "outputs": [],
   "source": [
    "linear_svc10.support_vectors_"
   ]
  },
  {
   "cell_type": "code",
   "execution_count": null,
   "metadata": {
    "colab": {
     "base_uri": "https://localhost:8080/",
     "height": 661
    },
    "colab_type": "code",
    "executionInfo": {
     "elapsed": 760,
     "status": "ok",
     "timestamp": 1592529598197,
     "user": {
      "displayName": "Ardino Lee",
      "photoUrl": "https://lh3.googleusercontent.com/a-/AOh14GhB_WDJA1NwHt0QGkYj1f8YnMmiS1ZeCBKt3hA2=s64",
      "userId": "09906365095310647737"
     },
     "user_tz": -540
    },
    "id": "AqICIvBCcSlA",
    "outputId": "d362b6cb-6433-4dc4-c939-fe0b0bb26d49"
   },
   "outputs": [],
   "source": [
    "plt.figure(figsize = (10,5))\n",
    "plt.scatter(X_train[y_train == 1, 0], X_train[y_train ==1, 1], c = 'b', label = '1', s=50)\n",
    "plt.scatter(X_train[y_train == 0, 0], X_train[y_train ==0, 1], c = 'r', label = '0', s=50)\n",
    "plt.scatter(linear_svc10.support_vectors_[:, 0], linear_svc10.support_vectors_[:, 1],\n",
    "           s = 150, c = 'g', alpha = 0.5)\n",
    "# alpha는 투명도\n",
    "plt.xlabel(\"$X_1$\")\n",
    "plt.ylabel(\"$X_2$\")\n",
    "plt.legend()\n",
    "plt.title(\"SVM 예측 결과\")\n",
    "\n",
    "plt.show()"
   ]
  },
  {
   "cell_type": "markdown",
   "metadata": {
    "colab_type": "text",
    "id": "0aeMQe-ycSlE"
   },
   "source": [
    "SVM모델이 과적합이라면 C값을 줄여보도록 하자."
   ]
  },
  {
   "cell_type": "markdown",
   "metadata": {
    "colab_type": "text",
    "id": "AuKtWKsMcSlF"
   },
   "source": [
    "### 기본예제"
   ]
  },
  {
   "cell_type": "code",
   "execution_count": null,
   "metadata": {
    "colab": {},
    "colab_type": "code",
    "executionInfo": {
     "elapsed": 629,
     "status": "ok",
     "timestamp": 1592529918324,
     "user": {
      "displayName": "Ardino Lee",
      "photoUrl": "https://lh3.googleusercontent.com/a-/AOh14GhB_WDJA1NwHt0QGkYj1f8YnMmiS1ZeCBKt3hA2=s64",
      "userId": "09906365095310647737"
     },
     "user_tz": -540
    },
    "id": "E5LckBQtcSlG"
   },
   "outputs": [],
   "source": [
    "from sklearn.datasets import load_iris\n",
    "from sklearn.model_selection import train_test_split\n",
    "from sklearn.svm import SVC\n",
    "\n",
    "data_iris = load_iris()\n",
    "X = data_iris.data\n",
    "\n",
    "y = data_iris.target"
   ]
  },
  {
   "cell_type": "code",
   "execution_count": null,
   "metadata": {
    "colab": {
     "base_uri": "https://localhost:8080/",
     "height": 107
    },
    "colab_type": "code",
    "executionInfo": {
     "elapsed": 589,
     "status": "ok",
     "timestamp": 1592529955470,
     "user": {
      "displayName": "Ardino Lee",
      "photoUrl": "https://lh3.googleusercontent.com/a-/AOh14GhB_WDJA1NwHt0QGkYj1f8YnMmiS1ZeCBKt3hA2=s64",
      "userId": "09906365095310647737"
     },
     "user_tz": -540
    },
    "id": "pWwGw_TQLirS",
    "outputId": "f18d932a-7d0d-43ab-b2b0-621d005f12d3"
   },
   "outputs": [],
   "source": [
    "X[:5]"
   ]
  },
  {
   "cell_type": "code",
   "execution_count": null,
   "metadata": {
    "colab": {
     "base_uri": "https://localhost:8080/",
     "height": 35
    },
    "colab_type": "code",
    "executionInfo": {
     "elapsed": 702,
     "status": "ok",
     "timestamp": 1592529966012,
     "user": {
      "displayName": "Ardino Lee",
      "photoUrl": "https://lh3.googleusercontent.com/a-/AOh14GhB_WDJA1NwHt0QGkYj1f8YnMmiS1ZeCBKt3hA2=s64",
      "userId": "09906365095310647737"
     },
     "user_tz": -540
    },
    "id": "yrwiCeNuLrzr",
    "outputId": "3436352b-a095-426d-aa87-fcb737512878"
   },
   "outputs": [],
   "source": [
    "y[:5]"
   ]
  },
  {
   "cell_type": "code",
   "execution_count": null,
   "metadata": {
    "colab": {
     "base_uri": "https://localhost:8080/",
     "height": 87
    },
    "colab_type": "code",
    "executionInfo": {
     "elapsed": 936,
     "status": "ok",
     "timestamp": 1580371912345,
     "user": {
      "displayName": "wonjae lee",
      "photoUrl": "",
      "userId": "09906365095310647737"
     },
     "user_tz": -540
    },
    "id": "9IVPjcKgcSlJ",
    "outputId": "fbb752da-d12c-49e8-b618-c07e233f4640"
   },
   "outputs": [],
   "source": [
    "data_iris.feature_names\n",
    "# iris 데이터의 4가지 특성"
   ]
  },
  {
   "cell_type": "code",
   "execution_count": null,
   "metadata": {
    "colab": {
     "base_uri": "https://localhost:8080/",
     "height": 34
    },
    "colab_type": "code",
    "executionInfo": {
     "elapsed": 754,
     "status": "ok",
     "timestamp": 1580371912346,
     "user": {
      "displayName": "wonjae lee",
      "photoUrl": "",
      "userId": "09906365095310647737"
     },
     "user_tz": -540
    },
    "id": "zoYwRGOycSlM",
    "outputId": "0a02732c-e94c-4cfd-945e-c36a9fad1404"
   },
   "outputs": [],
   "source": [
    "data_iris.target_names\n",
    "# iris의 데이터의 target"
   ]
  },
  {
   "cell_type": "code",
   "execution_count": null,
   "metadata": {
    "colab": {
     "base_uri": "https://localhost:8080/",
     "height": 320
    },
    "colab_type": "code",
    "executionInfo": {
     "elapsed": 1061,
     "status": "ok",
     "timestamp": 1592530136193,
     "user": {
      "displayName": "Ardino Lee",
      "photoUrl": "https://lh3.googleusercontent.com/a-/AOh14GhB_WDJA1NwHt0QGkYj1f8YnMmiS1ZeCBKt3hA2=s64",
      "userId": "09906365095310647737"
     },
     "user_tz": -540
    },
    "id": "OXM1TSWZcSlP",
    "outputId": "5eab3c6e-2e25-4ffe-b137-ea4608802ee0"
   },
   "outputs": [],
   "source": [
    "plt.figure(figsize = (10, 5))\n",
    "plt.scatter(X[:, 1], X[:, 3], c = y)\n",
    "plt.show()"
   ]
  },
  {
   "cell_type": "code",
   "execution_count": null,
   "metadata": {
    "colab": {},
    "colab_type": "code",
    "executionInfo": {
     "elapsed": 596,
     "status": "ok",
     "timestamp": 1592530847163,
     "user": {
      "displayName": "Ardino Lee",
      "photoUrl": "https://lh3.googleusercontent.com/a-/AOh14GhB_WDJA1NwHt0QGkYj1f8YnMmiS1ZeCBKt3hA2=s64",
      "userId": "09906365095310647737"
     },
     "user_tz": -540
    },
    "id": "y1U1ZWqYcSlS"
   },
   "outputs": [],
   "source": [
    "X_train, X_test, y_train, y_test = train_test_split(X, y,\n",
    "                                                   stratify = data_iris.target,\n",
    "                                                     shuffle = True)"
   ]
  },
  {
   "cell_type": "code",
   "execution_count": null,
   "metadata": {
    "colab": {
     "base_uri": "https://localhost:8080/",
     "height": 35
    },
    "colab_type": "code",
    "executionInfo": {
     "elapsed": 575,
     "status": "ok",
     "timestamp": 1592530857411,
     "user": {
      "displayName": "Ardino Lee",
      "photoUrl": "https://lh3.googleusercontent.com/a-/AOh14GhB_WDJA1NwHt0QGkYj1f8YnMmiS1ZeCBKt3hA2=s64",
      "userId": "09906365095310647737"
     },
     "user_tz": -540
    },
    "id": "yTDPyBWYcSlV",
    "outputId": "cf020ee1-62d2-4596-8bf8-77ccbb1dd16a"
   },
   "outputs": [],
   "source": [
    "linear_svm = SVC(kernel = 'linear', C = 1).fit(X_train, y_train)\n",
    "\n",
    "print('test score : {}'.format(linear_svm.score(X_test, y_test)))"
   ]
  },
  {
   "cell_type": "code",
   "execution_count": null,
   "metadata": {
    "colab": {
     "base_uri": "https://localhost:8080/",
     "height": 53
    },
    "colab_type": "code",
    "executionInfo": {
     "elapsed": 604,
     "status": "ok",
     "timestamp": 1592530866661,
     "user": {
      "displayName": "Ardino Lee",
      "photoUrl": "https://lh3.googleusercontent.com/a-/AOh14GhB_WDJA1NwHt0QGkYj1f8YnMmiS1ZeCBKt3hA2=s64",
      "userId": "09906365095310647737"
     },
     "user_tz": -540
    },
    "id": "zK9c7qY-cSlY",
    "outputId": "1b88037c-6171-4b6d-e45a-8e43fd2d341f"
   },
   "outputs": [],
   "source": [
    "linear_svm.predict(X_test)\n",
    "# 예측값"
   ]
  },
  {
   "cell_type": "code",
   "execution_count": null,
   "metadata": {
    "colab": {
     "base_uri": "https://localhost:8080/",
     "height": 53
    },
    "colab_type": "code",
    "executionInfo": {
     "elapsed": 593,
     "status": "ok",
     "timestamp": 1592530870345,
     "user": {
      "displayName": "Ardino Lee",
      "photoUrl": "https://lh3.googleusercontent.com/a-/AOh14GhB_WDJA1NwHt0QGkYj1f8YnMmiS1ZeCBKt3hA2=s64",
      "userId": "09906365095310647737"
     },
     "user_tz": -540
    },
    "id": "Nb6CS_tVcSlb",
    "outputId": "ca1fc9a6-26d9-4e37-c2ee-1eb9ad50a5f1"
   },
   "outputs": [],
   "source": [
    "y_test\n",
    "# 실제값"
   ]
  },
  {
   "cell_type": "code",
   "execution_count": null,
   "metadata": {
    "colab": {
     "base_uri": "https://localhost:8080/",
     "height": 701
    },
    "colab_type": "code",
    "executionInfo": {
     "elapsed": 565,
     "status": "ok",
     "timestamp": 1592530877356,
     "user": {
      "displayName": "Ardino Lee",
      "photoUrl": "https://lh3.googleusercontent.com/a-/AOh14GhB_WDJA1NwHt0QGkYj1f8YnMmiS1ZeCBKt3hA2=s64",
      "userId": "09906365095310647737"
     },
     "user_tz": -540
    },
    "id": "2TDUtcKRcSlf",
    "outputId": "11029696-715d-432b-a05f-4364b47da79f",
    "scrolled": true
   },
   "outputs": [],
   "source": [
    "linear_svm.decision_function(X_test)\n",
    "# 확률수치를 알 수 있는 predict_proba()가 제공되지는 않지만 decision_function()이 제공된다."
   ]
  },
  {
   "cell_type": "code",
   "execution_count": null,
   "metadata": {
    "colab": {
     "base_uri": "https://localhost:8080/",
     "height": 35
    },
    "colab_type": "code",
    "executionInfo": {
     "elapsed": 634,
     "status": "ok",
     "timestamp": 1592530924756,
     "user": {
      "displayName": "Ardino Lee",
      "photoUrl": "https://lh3.googleusercontent.com/a-/AOh14GhB_WDJA1NwHt0QGkYj1f8YnMmiS1ZeCBKt3hA2=s64",
      "userId": "09906365095310647737"
     },
     "user_tz": -540
    },
    "id": "h8Z3ijp-cSli",
    "outputId": "81c508bf-40e1-4ed8-95ed-419edbcb4a5f"
   },
   "outputs": [],
   "source": [
    "# 시각화를 위해서 2개의 특성만 사용했다. (sepal width, pedal length)\n",
    "data_x = data_iris.data[:, [1,3]]\n",
    "data_y = data_iris.target\n",
    "\n",
    "X_train, X_test, y_train, y_test = train_test_split(data_x, data_y, test_size = 0.2,\n",
    "                                                   shuffle = True)\n",
    "linear_svm = SVC(kernel = 'linear', C = 1).fit(X_train, y_train)\n",
    "\n",
    "print('test score : {}'.format(linear_svm.score(X_test, y_test)))"
   ]
  },
  {
   "cell_type": "code",
   "execution_count": null,
   "metadata": {
    "colab": {
     "base_uri": "https://localhost:8080/",
     "height": 469
    },
    "colab_type": "code",
    "executionInfo": {
     "elapsed": 5993,
     "status": "ok",
     "timestamp": 1592530968383,
     "user": {
      "displayName": "Ardino Lee",
      "photoUrl": "https://lh3.googleusercontent.com/a-/AOh14GhB_WDJA1NwHt0QGkYj1f8YnMmiS1ZeCBKt3hA2=s64",
      "userId": "09906365095310647737"
     },
     "user_tz": -540
    },
    "id": "mFB7T3Oegc6P",
    "outputId": "12ef1a7f-bd63-4455-ad72-af2e58ec3d79"
   },
   "outputs": [],
   "source": [
    "pip install mglearn"
   ]
  },
  {
   "cell_type": "code",
   "execution_count": null,
   "metadata": {
    "colab": {
     "base_uri": "https://localhost:8080/",
     "height": 321
    },
    "colab_type": "code",
    "executionInfo": {
     "elapsed": 1618,
     "status": "ok",
     "timestamp": 1592531005853,
     "user": {
      "displayName": "Ardino Lee",
      "photoUrl": "https://lh3.googleusercontent.com/a-/AOh14GhB_WDJA1NwHt0QGkYj1f8YnMmiS1ZeCBKt3hA2=s64",
      "userId": "09906365095310647737"
     },
     "user_tz": -540
    },
    "id": "YMjVA_3xcSll",
    "outputId": "06ddc121-0408-473a-f82a-8e08bd2eaae5"
   },
   "outputs": [],
   "source": [
    "import mglearn\n",
    "# 시각화를 위해 mglearn모듈을 사용했다.\n",
    "\n",
    "plt.figure(figsize=(10,5))\n",
    "mglearn.plots.plot_2d_classification(linear_svm, X_train, eps=0.5, cm = 'terrain')\n",
    "mglearn.discrete_scatter(X_train[:,0], X_train[:,1], y_train)\n",
    "plt.xlabel('$X_1$')\n",
    "plt.ylabel('$X_2$')\n",
    "plt.show()\n",
    "# "
   ]
  },
  {
   "cell_type": "markdown",
   "metadata": {
    "colab_type": "text",
    "id": "oMA9We2QcSlo"
   },
   "source": [
    "C값을 변경해보자"
   ]
  },
  {
   "cell_type": "code",
   "execution_count": null,
   "metadata": {
    "colab": {},
    "colab_type": "code",
    "executionInfo": {
     "elapsed": 559,
     "status": "ok",
     "timestamp": 1592531084529,
     "user": {
      "displayName": "Ardino Lee",
      "photoUrl": "https://lh3.googleusercontent.com/a-/AOh14GhB_WDJA1NwHt0QGkYj1f8YnMmiS1ZeCBKt3hA2=s64",
      "userId": "09906365095310647737"
     },
     "user_tz": -540
    },
    "id": "eDtGRDG-cSlp"
   },
   "outputs": [],
   "source": [
    "C = [0.0001, 0.001, 0.01, 0.1, 1, 10, 100]\n",
    "# C값을 변경해 가면서 각 모델들의 score를 확인하고자 한다.\n",
    "# 한 번에 확인하기 위해서 C값을 리스트로 저장하고 for문을 이용하여 score를 구했다.\n",
    "train_score = []\n",
    "test_score = []\n",
    "\n",
    "for i in C:\n",
    "    linear_svm = SVC(kernel = 'linear', C = i).fit(X_train, y_train)\n",
    "    scoretr = linear_svm.score(X_train, y_train)\n",
    "    scorete = linear_svm.score(X_test, y_test)\n",
    "    train_score.append(scoretr)\n",
    "    test_score.append(scorete)"
   ]
  },
  {
   "cell_type": "code",
   "execution_count": null,
   "metadata": {
    "colab": {
     "base_uri": "https://localhost:8080/",
     "height": 858
    },
    "colab_type": "code",
    "executionInfo": {
     "elapsed": 618,
     "status": "ok",
     "timestamp": 1592531095730,
     "user": {
      "displayName": "Ardino Lee",
      "photoUrl": "https://lh3.googleusercontent.com/a-/AOh14GhB_WDJA1NwHt0QGkYj1f8YnMmiS1ZeCBKt3hA2=s64",
      "userId": "09906365095310647737"
     },
     "user_tz": -540
    },
    "id": "-6bIBKOgcSlt",
    "outputId": "b1aca65f-7e4d-4035-8ef3-f1ae81091fa9"
   },
   "outputs": [],
   "source": [
    "plt.figure(figsize = (10, 5))\n",
    "plt.plot(train_score, 'go-')\n",
    "plt.plot(test_score, 'mo:')\n",
    "plt.xticks(range(len(C)), C)\n",
    "plt.xlabel('C값의 변화')\n",
    "plt.ylabel('정확도')\n",
    "plt.legend(['train', 'test'])\n",
    "plt.show()"
   ]
  },
  {
   "cell_type": "markdown",
   "metadata": {
    "colab_type": "text",
    "id": "pRaktrvUcSlw"
   },
   "source": [
    "C값이 커질수록 과적합되는 모습을 볼 수 있다.  \n",
    "적절한 C값을 찾아줘야 한다."
   ]
  },
  {
   "cell_type": "markdown",
   "metadata": {
    "colab_type": "text",
    "id": "ncaW3vHJcSlx"
   },
   "source": [
    "### svm.LinearSVC()로 구현해보기"
   ]
  },
  {
   "cell_type": "code",
   "execution_count": null,
   "metadata": {
    "colab": {},
    "colab_type": "code",
    "executionInfo": {
     "elapsed": 544,
     "status": "ok",
     "timestamp": 1592531311828,
     "user": {
      "displayName": "Ardino Lee",
      "photoUrl": "https://lh3.googleusercontent.com/a-/AOh14GhB_WDJA1NwHt0QGkYj1f8YnMmiS1ZeCBKt3hA2=s64",
      "userId": "09906365095310647737"
     },
     "user_tz": -540
    },
    "id": "lx4RefAOQl5S"
   },
   "outputs": [],
   "source": [
    "LinearSVC?"
   ]
  },
  {
   "cell_type": "code",
   "execution_count": null,
   "metadata": {
    "colab": {},
    "colab_type": "code",
    "executionInfo": {
     "elapsed": 658,
     "status": "ok",
     "timestamp": 1592531454664,
     "user": {
      "displayName": "Ardino Lee",
      "photoUrl": "https://lh3.googleusercontent.com/a-/AOh14GhB_WDJA1NwHt0QGkYj1f8YnMmiS1ZeCBKt3hA2=s64",
      "userId": "09906365095310647737"
     },
     "user_tz": -540
    },
    "id": "3L4AoDdGcSlx"
   },
   "outputs": [],
   "source": [
    "from sklearn.svm import LinearSVC\n",
    "linear_svc2 = LinearSVC(C = 1, loss = 'hinge').fit(X_train, y_train)"
   ]
  },
  {
   "cell_type": "code",
   "execution_count": null,
   "metadata": {
    "colab": {
     "base_uri": "https://localhost:8080/",
     "height": 89
    },
    "colab_type": "code",
    "executionInfo": {
     "elapsed": 571,
     "status": "ok",
     "timestamp": 1592531458319,
     "user": {
      "displayName": "Ardino Lee",
      "photoUrl": "https://lh3.googleusercontent.com/a-/AOh14GhB_WDJA1NwHt0QGkYj1f8YnMmiS1ZeCBKt3hA2=s64",
      "userId": "09906365095310647737"
     },
     "user_tz": -540
    },
    "id": "INZ50RaPcSl1",
    "outputId": "7a433d2e-2ada-4dcc-aed3-29aef0128e99",
    "scrolled": false
   },
   "outputs": [],
   "source": [
    "print('train score : {}\\n\\n'.format(linear_svc2.score(X_train, y_train)))\n",
    "print('test score : {}'.format(linear_svc2.score(X_test, y_test)))"
   ]
  },
  {
   "cell_type": "code",
   "execution_count": null,
   "metadata": {
    "colab": {},
    "colab_type": "code",
    "executionInfo": {
     "elapsed": 643,
     "status": "ok",
     "timestamp": 1592531474101,
     "user": {
      "displayName": "Ardino Lee",
      "photoUrl": "https://lh3.googleusercontent.com/a-/AOh14GhB_WDJA1NwHt0QGkYj1f8YnMmiS1ZeCBKt3hA2=s64",
      "userId": "09906365095310647737"
     },
     "user_tz": -540
    },
    "id": "IyqAnyUBcSl4"
   },
   "outputs": [],
   "source": [
    "from sklearn.datasets import load_iris\n",
    "from sklearn.model_selection import train_test_split\n",
    "from sklearn.svm import LinearSVC\n",
    "\n",
    "data_iris = load_iris()\n",
    "X = data_iris.data[:, [1,3]]\n",
    "y = data_iris.target\n",
    "\n",
    "X_train, X_test, y_train, y_test = train_test_split(X, y,\n",
    "                                                   stratify = data_iris.target,\n",
    "                                                     shuffle = True)"
   ]
  },
  {
   "cell_type": "code",
   "execution_count": null,
   "metadata": {
    "colab": {
     "base_uri": "https://localhost:8080/",
     "height": 91
    },
    "colab_type": "code",
    "executionInfo": {
     "elapsed": 567,
     "status": "ok",
     "timestamp": 1592531476657,
     "user": {
      "displayName": "Ardino Lee",
      "photoUrl": "https://lh3.googleusercontent.com/a-/AOh14GhB_WDJA1NwHt0QGkYj1f8YnMmiS1ZeCBKt3hA2=s64",
      "userId": "09906365095310647737"
     },
     "user_tz": -540
    },
    "id": "ayFinchVcSl7",
    "outputId": "50332e0c-83b5-482b-df7e-734198af61af"
   },
   "outputs": [],
   "source": [
    "linear_svc = LinearSVC(C = 1, loss = 'hinge').fit(X_train, y_train)\n",
    "\n",
    "print('test score : {:.3f}'.format(linear_svc.score(X_test, y_test)))"
   ]
  },
  {
   "cell_type": "code",
   "execution_count": null,
   "metadata": {
    "colab": {
     "base_uri": "https://localhost:8080/",
     "height": 1000
    },
    "colab_type": "code",
    "executionInfo": {
     "elapsed": 640,
     "status": "ok",
     "timestamp": 1592531536015,
     "user": {
      "displayName": "Ardino Lee",
      "photoUrl": "https://lh3.googleusercontent.com/a-/AOh14GhB_WDJA1NwHt0QGkYj1f8YnMmiS1ZeCBKt3hA2=s64",
      "userId": "09906365095310647737"
     },
     "user_tz": -540
    },
    "id": "PnfWAyTZcSl-",
    "outputId": "49c49f3c-1673-4425-a540-d7b114766a59"
   },
   "outputs": [],
   "source": [
    "C = [0.0001, 0.001, 0.01, 0.1, 1, 10, 100]\n",
    "train_score = []\n",
    "test_score = []\n",
    "\n",
    "for i in C:\n",
    "    # SVC -> LinearSVC\n",
    "    linear_svm = LinearSVC(C = i, loss = 'hinge').fit(X_train, y_train)\n",
    "    scoretr = linear_svm.score(X_train, y_train)\n",
    "    scorete = linear_svm.score(X_test, y_test)\n",
    "    train_score.append(scoretr)\n",
    "    test_score.append(scorete)\n",
    "    \n",
    "plt.figure(figsize = (10, 5))\n",
    "plt.plot(train_score, 'go-')\n",
    "plt.plot(test_score, 'mo:')\n",
    "plt.xticks(range(len(C)), C)\n",
    "plt.xlabel('C값의 변화')\n",
    "plt.ylabel('정확도')\n",
    "plt.legend(['train', 'test'])\n",
    "plt.show()"
   ]
  },
  {
   "cell_type": "markdown",
   "metadata": {
    "colab_type": "text",
    "id": "WFEhuwEAcSmH"
   },
   "source": [
    "Logistic Regression은 확률값으로 WX의 값에 따라 0 ~ 1 사이의 확률값으로 예측해지만 SVM은 확률값이 아닌 1 or 0 으로 예측한다."
   ]
  },
  {
   "cell_type": "markdown",
   "metadata": {
    "colab_type": "text",
    "id": "nebwUDB9cSmI"
   },
   "source": [
    "Logistic Regression의 Cost는 Z(Decision Boundary)가 아무리 커져도 0이 되지 않는다. 반면, SVM의 Cost는 Z가 1 or -1인 순간 0이 된다.(이를 Hinge Loss라고 하는데, 비확률적 분류 모델인 SVM의 Cost로 적합하다.) "
   ]
  },
  {
   "cell_type": "markdown",
   "metadata": {
    "colab_type": "raw",
    "id": "CMiJjnL8cSmJ"
   },
   "source": [
    "- 선형 모델의 주요 매개변수  \n",
    "회귀 모델은 alpha, LinearSVC와 LogisticRegression은 C 이다.\n",
    "alpha가 클수록, C가 작을수록 모델은 단순해진다."
   ]
  },
  {
   "cell_type": "markdown",
   "metadata": {
    "colab_type": "text",
    "id": "pfzAgj3jcSmK"
   },
   "source": [
    "LinearSVC()\n",
    "  - kernel = 'linear'을 갖는 SVC()와 비슷하지만 libsvm이 아닌 liblinear의 관점에서 구현되어 규제와 loss함수 선택에 있어서 유연하며 데이터가 클 경우에 SVC()는 속도가 현저히 느려지기 때문에 LinearSVC()를 사용것을 권장한다.  \n",
    "  - penalty 매개변수로 규제를 선택할 수 있으며, loss 매개변수로는 loss함수를 선택할 수 있다.  \n",
    "  - pnealty의 기본값은 'l2'  \n",
    "  - loss의 기본값은 'squared hinge', SVC(kernel = 'linear')와 같은 효과를 위해서는 'hinge'로 설정한다.  \n",
    "  - 데이터의 스케일을 맞추지 않고 SVC 모델과 비교하게 되면 차이가 크게 난다. StandardScaler를 사용하면 데이터의 스케일을 자동으로 맞춰준다."
   ]
  },
  {
   "cell_type": "markdown",
   "metadata": {
    "colab_type": "text",
    "id": "bIT68rvZcSmM"
   },
   "source": [
    "### 스케일링 전, 후 비교"
   ]
  },
  {
   "cell_type": "code",
   "execution_count": null,
   "metadata": {
    "colab": {},
    "colab_type": "code",
    "executionInfo": {
     "elapsed": 626,
     "status": "ok",
     "timestamp": 1592532388964,
     "user": {
      "displayName": "Ardino Lee",
      "photoUrl": "https://lh3.googleusercontent.com/a-/AOh14GhB_WDJA1NwHt0QGkYj1f8YnMmiS1ZeCBKt3hA2=s64",
      "userId": "09906365095310647737"
     },
     "user_tz": -540
    },
    "id": "UpmOA0__cSmP"
   },
   "outputs": [],
   "source": [
    "from sklearn.svm import SVC\n",
    "from sklearn.datasets import make_blobs\n",
    "from sklearn.model_selection import train_test_split\n",
    "\n",
    "X,y = make_blobs(n_samples = 400, centers= 2, random_state = 33) # 33"
   ]
  },
  {
   "cell_type": "code",
   "execution_count": null,
   "metadata": {
    "colab": {
     "base_uri": "https://localhost:8080/",
     "height": 1000
    },
    "colab_type": "code",
    "executionInfo": {
     "elapsed": 777,
     "status": "ok",
     "timestamp": 1592533020321,
     "user": {
      "displayName": "Ardino Lee",
      "photoUrl": "https://lh3.googleusercontent.com/a-/AOh14GhB_WDJA1NwHt0QGkYj1f8YnMmiS1ZeCBKt3hA2=s64",
      "userId": "09906365095310647737"
     },
     "user_tz": -540
    },
    "id": "TrUV0kXgXRoZ",
    "outputId": "e0f322ec-8f55-4da5-eafc-60a3b5bfc957"
   },
   "outputs": [],
   "source": [
    "X[:, 0] # 모든 행의 0번째 열"
   ]
  },
  {
   "cell_type": "code",
   "execution_count": null,
   "metadata": {
    "colab": {
     "base_uri": "https://localhost:8080/",
     "height": 35
    },
    "colab_type": "code",
    "executionInfo": {
     "elapsed": 545,
     "status": "ok",
     "timestamp": 1592532526518,
     "user": {
      "displayName": "Ardino Lee",
      "photoUrl": "https://lh3.googleusercontent.com/a-/AOh14GhB_WDJA1NwHt0QGkYj1f8YnMmiS1ZeCBKt3hA2=s64",
      "userId": "09906365095310647737"
     },
     "user_tz": -540
    },
    "id": "5l6cvjaBVNRy",
    "outputId": "c847e171-1eb7-4881-efa3-f06e4a412dcd"
   },
   "outputs": [],
   "source": [
    "np.sum(np.square(X[:, 0])), np.sum(np.square(X[:, 1])) "
   ]
  },
  {
   "cell_type": "code",
   "execution_count": null,
   "metadata": {
    "colab": {},
    "colab_type": "code",
    "executionInfo": {
     "elapsed": 536,
     "status": "ok",
     "timestamp": 1592532562271,
     "user": {
      "displayName": "Ardino Lee",
      "photoUrl": "https://lh3.googleusercontent.com/a-/AOh14GhB_WDJA1NwHt0QGkYj1f8YnMmiS1ZeCBKt3hA2=s64",
      "userId": "09906365095310647737"
     },
     "user_tz": -540
    },
    "id": "x1ZqQhvGVeKr"
   },
   "outputs": [],
   "source": [
    "X[:, 0] = X[:, 0]*100"
   ]
  },
  {
   "cell_type": "code",
   "execution_count": null,
   "metadata": {
    "colab": {
     "base_uri": "https://localhost:8080/",
     "height": 35
    },
    "colab_type": "code",
    "executionInfo": {
     "elapsed": 519,
     "status": "ok",
     "timestamp": 1592532563324,
     "user": {
      "displayName": "Ardino Lee",
      "photoUrl": "https://lh3.googleusercontent.com/a-/AOh14GhB_WDJA1NwHt0QGkYj1f8YnMmiS1ZeCBKt3hA2=s64",
      "userId": "09906365095310647737"
     },
     "user_tz": -540
    },
    "id": "sR1c3GT1Vkpg",
    "outputId": "2083adc0-8b19-4a25-8929-8e50770b1e0d"
   },
   "outputs": [],
   "source": [
    "np.sum(np.square(X[:, 0])), np.sum(np.square(X[:, 1])) "
   ]
  },
  {
   "cell_type": "code",
   "execution_count": null,
   "metadata": {
    "colab": {},
    "colab_type": "code",
    "executionInfo": {
     "elapsed": 871,
     "status": "ok",
     "timestamp": 1592532598303,
     "user": {
      "displayName": "Ardino Lee",
      "photoUrl": "https://lh3.googleusercontent.com/a-/AOh14GhB_WDJA1NwHt0QGkYj1f8YnMmiS1ZeCBKt3hA2=s64",
      "userId": "09906365095310647737"
     },
     "user_tz": -540
    },
    "id": "8BUI1s1XVupZ"
   },
   "outputs": [],
   "source": [
    "X_train, X_test, y_train, y_test = train_test_split(X, y, test_size = 0.2, shuffle = True)\n",
    "\n",
    "pre_scale = SVC(kernel = 'linear', C = 1).fit(X_train, y_train)"
   ]
  },
  {
   "cell_type": "code",
   "execution_count": null,
   "metadata": {
    "colab": {
     "base_uri": "https://localhost:8080/",
     "height": 320
    },
    "colab_type": "code",
    "executionInfo": {
     "elapsed": 729,
     "status": "ok",
     "timestamp": 1592532601909,
     "user": {
      "displayName": "Ardino Lee",
      "photoUrl": "https://lh3.googleusercontent.com/a-/AOh14GhB_WDJA1NwHt0QGkYj1f8YnMmiS1ZeCBKt3hA2=s64",
      "userId": "09906365095310647737"
     },
     "user_tz": -540
    },
    "id": "6CA0WgaWcSmU",
    "outputId": "292a9856-f23a-4818-eb9e-7118fee3112e"
   },
   "outputs": [],
   "source": [
    "xmin = X_train[:, 0].min()\n",
    "xmax = X_train[:, 0].max()\n",
    "ymin = X_train[:, 1].min()\n",
    "ymax = X_train[:, 1].max()\n",
    "xx = np.linspace(xmin, xmax, 10)\n",
    "yy = np.linspace(ymin, ymax, 10)\n",
    "X1, X2 = np.meshgrid(xx, yy)\n",
    "\n",
    "Z = np.empty(X1.shape)\n",
    "for (i, j), val in np.ndenumerate(X1):\n",
    "    x1 = val\n",
    "    x2 = X2[i, j]\n",
    "    p = pre_scale.decision_function([[x1, x2]])\n",
    "    Z[i, j] = p[0]\n",
    "levels = [-1, 0, 1]\n",
    "plt.figure(figsize = (10, 5))\n",
    "plt.plot(X_train[:, 0][y_train == 1], X_train[:,1][y_train == 1], 'bo')\n",
    "plt.plot(X_train[:, 0][y_train == 0], X_train[:,1][y_train == 0], 'mo')\n",
    "plt.contour(X1, X2, Z, levels, colors='k', linestyles=['dashed', 'solid', 'dashed'])\n",
    "plt.scatter(pre_scale.support_vectors_[:, 0], \n",
    "            pre_scale.support_vectors_[:, 1], s=300, alpha=0.3)\n",
    "\n",
    "plt.show()"
   ]
  },
  {
   "cell_type": "code",
   "execution_count": null,
   "metadata": {
    "colab": {
     "base_uri": "https://localhost:8080/",
     "height": 35
    },
    "colab_type": "code",
    "executionInfo": {
     "elapsed": 587,
     "status": "ok",
     "timestamp": 1592532802420,
     "user": {
      "displayName": "Ardino Lee",
      "photoUrl": "https://lh3.googleusercontent.com/a-/AOh14GhB_WDJA1NwHt0QGkYj1f8YnMmiS1ZeCBKt3hA2=s64",
      "userId": "09906365095310647737"
     },
     "user_tz": -540
    },
    "id": "_T_bVIwGcSmY",
    "outputId": "a94dd04a-8ad9-4d72-d99e-08afd555521b"
   },
   "outputs": [],
   "source": [
    "from sklearn.preprocessing import StandardScaler\n",
    "scaler = StandardScaler()\n",
    "\n",
    "np.sum(np.square(X_train[:, 0])), np.sum(np.square(X_train[:, 1]))"
   ]
  },
  {
   "cell_type": "code",
   "execution_count": null,
   "metadata": {
    "colab": {
     "base_uri": "https://localhost:8080/",
     "height": 35
    },
    "colab_type": "code",
    "executionInfo": {
     "elapsed": 996,
     "status": "ok",
     "timestamp": 1592532835692,
     "user": {
      "displayName": "Ardino Lee",
      "photoUrl": "https://lh3.googleusercontent.com/a-/AOh14GhB_WDJA1NwHt0QGkYj1f8YnMmiS1ZeCBKt3hA2=s64",
      "userId": "09906365095310647737"
     },
     "user_tz": -540
    },
    "id": "v4wX-kerWU67",
    "outputId": "a94a3fb3-66ad-4a07-db4d-56071a634dfa"
   },
   "outputs": [],
   "source": [
    "X_scale = scaler.fit_transform(X_train)\n",
    "\n",
    "np.sum(np.square(X_scale[:, 0])), np.sum(np.square(X_scale[:, 1]))"
   ]
  },
  {
   "cell_type": "code",
   "execution_count": null,
   "metadata": {
    "colab": {},
    "colab_type": "code",
    "executionInfo": {
     "elapsed": 615,
     "status": "ok",
     "timestamp": 1592532875825,
     "user": {
      "displayName": "Ardino Lee",
      "photoUrl": "https://lh3.googleusercontent.com/a-/AOh14GhB_WDJA1NwHt0QGkYj1f8YnMmiS1ZeCBKt3hA2=s64",
      "userId": "09906365095310647737"
     },
     "user_tz": -540
    },
    "id": "hwVX2RtTWTxT"
   },
   "outputs": [],
   "source": [
    "fit_scale = SVC(kernel = 'linear', C = 1).fit(X_scale, y_train)"
   ]
  },
  {
   "cell_type": "code",
   "execution_count": null,
   "metadata": {
    "colab": {
     "base_uri": "https://localhost:8080/",
     "height": 320
    },
    "colab_type": "code",
    "executionInfo": {
     "elapsed": 879,
     "status": "ok",
     "timestamp": 1592532879560,
     "user": {
      "displayName": "Ardino Lee",
      "photoUrl": "https://lh3.googleusercontent.com/a-/AOh14GhB_WDJA1NwHt0QGkYj1f8YnMmiS1ZeCBKt3hA2=s64",
      "userId": "09906365095310647737"
     },
     "user_tz": -540
    },
    "id": "9q8vHRTTcSmb",
    "outputId": "9bc236f5-17ec-4b15-a209-18041b836168"
   },
   "outputs": [],
   "source": [
    "xmin = X_scale[:, 0].min()\n",
    "xmax = X_scale[:, 0].max()\n",
    "ymin = X_scale[:, 1].min()\n",
    "ymax = X_scale[:, 1].max()\n",
    "xx = np.linspace(xmin, xmax, 10)\n",
    "yy = np.linspace(ymin, ymax, 10)\n",
    "X1, X2 = np.meshgrid(xx, yy)\n",
    "\n",
    "Z = np.empty(X1.shape)\n",
    "for (i, j), val in np.ndenumerate(X1):\n",
    "    x1 = val\n",
    "    x2 = X2[i, j]\n",
    "    p = fit_scale.decision_function([[x1, x2]])\n",
    "    Z[i, j] = p[0]\n",
    "levels = [-1, 0, 1]\n",
    "\n",
    "plt.figure(figsize = (10, 5))\n",
    "plt.plot(X_scale[:, 0][y_train == 1], X_scale[:,1][y_train == 1], 'bo')\n",
    "plt.plot(X_scale[:, 0][y_train == 0], X_scale[:,1][y_train == 0], 'mo')\n",
    "plt.contour(X1, X2, Z, levels, colors='k', linestyles=['dashed', 'solid', 'dashed'])\n",
    "plt.scatter(fit_scale.support_vectors_[:, 0], \n",
    "            fit_scale.support_vectors_[:, 1], s=300, alpha=0.3)\n",
    "\n",
    "plt.show()"
   ]
  },
  {
   "cell_type": "code",
   "execution_count": null,
   "metadata": {
    "colab": {},
    "colab_type": "code",
    "id": "RHvI4JOcWScE"
   },
   "outputs": [],
   "source": []
  }
 ],
 "metadata": {
  "colab": {
   "name": "02_02 Support Vector Machine.ipynb",
   "provenance": []
  },
  "kernelspec": {
   "display_name": "Python 3 (ipykernel)",
   "language": "python",
   "name": "python3"
  },
  "language_info": {
   "codemirror_mode": {
    "name": "ipython",
    "version": 3
   },
   "file_extension": ".py",
   "mimetype": "text/x-python",
   "name": "python",
   "nbconvert_exporter": "python",
   "pygments_lexer": "ipython3",
   "version": "3.9.7"
  },
  "vscode": {
   "interpreter": {
    "hash": "74acc8fd29d08fd23b8add57691a7aaff18961a013511531a1e8050c061d9e6d"
   }
  }
 },
 "nbformat": 4,
 "nbformat_minor": 1
}
