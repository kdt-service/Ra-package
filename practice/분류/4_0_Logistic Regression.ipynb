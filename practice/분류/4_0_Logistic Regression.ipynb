{
 "cells": [
  {
   "cell_type": "code",
   "execution_count": 1,
   "metadata": {
    "id": "sBOxEchWm-5q"
   },
   "outputs": [
    {
     "name": "stderr",
     "output_type": "stream",
     "text": [
      "'sudo'은(는) 내부 또는 외부 명령, 실행할 수 있는 프로그램, 또는\n",
      "배치 파일이 아닙니다.\n",
      "'sudo'은(는) 내부 또는 외부 명령, 실행할 수 있는 프로그램, 또는\n",
      "배치 파일이 아닙니다.\n",
      "'rm'은(는) 내부 또는 외부 명령, 실행할 수 있는 프로그램, 또는\n",
      "배치 파일이 아닙니다.\n"
     ]
    }
   ],
   "source": [
    "!sudo apt-get install -y fonts-nanum\n",
    "!sudo fc-cache -fv\n",
    "!rm ~/.cache/matplotlib -rf\n",
    "\n",
    "# 런타임 재시작 !"
   ]
  },
  {
   "cell_type": "code",
   "execution_count": 9,
   "metadata": {
    "id": "vcm7vpewWMyt"
   },
   "outputs": [],
   "source": [
    "import matplotlib.pyplot as plt\n",
    "plt.rc('font', family='NanumBarunGothic')\n",
    "plt.rcParams['axes.unicode_minus'] = False\n",
    "\n",
    "import warnings \n",
    "warnings.filterwarnings('ignore')"
   ]
  },
  {
   "cell_type": "markdown",
   "metadata": {
    "id": "yKt4fzlsWMy0"
   },
   "source": [
    "# 2. 분류형 선형모델"
   ]
  },
  {
   "cell_type": "markdown",
   "metadata": {
    "id": "nZ0YEnW6WMy1"
   },
   "source": [
    "## 1. Logistic Regression"
   ]
  },
  {
   "cell_type": "markdown",
   "metadata": {
    "id": "h92WU55jWMy2"
   },
   "source": [
    "이름에 Regression이 들어가지만 회귀가 아닌 분류 모델임을 명심하자."
   ]
  },
  {
   "cell_type": "code",
   "execution_count": 3,
   "metadata": {
    "id": "mWlJCYkmWMy3"
   },
   "outputs": [],
   "source": [
    "# 가상의 분류 데이터를 생성해 보자.\n",
    "from sklearn.datasets import make_classification\n",
    "X, y = make_classification(n_samples = 100, n_features = 1, n_redundant = 0,\n",
    "                          n_informative = 1, n_clusters_per_class = 1,\n",
    "                          random_state = 30)"
   ]
  },
  {
   "cell_type": "markdown",
   "metadata": {
    "id": "s1xs89WxWMy6"
   },
   "source": [
    "- n_samples : data의 수, 기본값은 100  \n",
    "- n_features : feature의 수, 기본값은 20  \n",
    "- n_informative : 독립변수중 종속변수와 상관관계가 있는 성분의 수(y와 관련이 있는 x의 수), 기본값은 2  \n",
    "- n_redundant : 다른 독립변수들의 선형조합으로 만들어지는 독립변수의 수(다른 x들의 선형조합으로 만들어 지는 x의 수), 기본값은 2  \n",
    "- n_repeated : 중복되는 독립변수의 수, 기본값은 0, 독립변수란 입력값 X를 말한다.   \n",
    "- n_classes : 종속변수의 class 수, 기본값은 2  \n",
    "- n_clusters_per_class : 각 클래스당 클러스터 수, 기본값은 2, 클래스당 클러스터 수를 늘리게 되면 클래스 끼리 잘 분리되지 않은 상태의 데이터를 생성하게 된다., 주의 사항으로 n_classes * n_clusters_per_class는 2 ** n_informative보다 작거나 같게 설정해야 한다. \n",
    "- random_state : 난수 발생, 난수값을 다르게하면 각자 다른 형태의 데이터가 나오게 된다."
   ]
  },
  {
   "cell_type": "code",
   "execution_count": 4,
   "metadata": {
    "colab": {
     "base_uri": "https://localhost:8080/"
    },
    "executionInfo": {
     "elapsed": 4,
     "status": "ok",
     "timestamp": 1676207379532,
     "user": {
      "displayName": "최재진",
      "userId": "14104918437285699837"
     },
     "user_tz": -540
    },
    "id": "Pgrq7JGUWMy7",
    "outputId": "f86ed2f5-a2c0-42c0-d32e-5e74c13f9e27"
   },
   "outputs": [
    {
     "data": {
      "text/plain": [
       "(100, 1)"
      ]
     },
     "execution_count": 4,
     "metadata": {},
     "output_type": "execute_result"
    }
   ],
   "source": [
    "X.shape\n",
    "# 특성이 1인 데이터가 100개"
   ]
  },
  {
   "cell_type": "code",
   "execution_count": 5,
   "metadata": {
    "id": "QdydH5PB9Lxf"
   },
   "outputs": [
    {
     "data": {
      "text/plain": [
       "array([[-8.20382239e-01],\n",
       "       [ 9.85000696e-01],\n",
       "       [ 2.20060442e+00],\n",
       "       [ 1.39812364e+00],\n",
       "       [-1.93050284e+00],\n",
       "       [-1.12196761e-01],\n",
       "       [ 7.04371769e-01],\n",
       "       [-3.50239628e-01],\n",
       "       [-3.86680912e-01],\n",
       "       [-1.83682094e+00],\n",
       "       [-7.72808670e-01],\n",
       "       [ 3.70378557e-01],\n",
       "       [ 9.88398306e-01],\n",
       "       [ 1.38720071e+00],\n",
       "       [-1.77125524e-03],\n",
       "       [ 6.49574930e-01],\n",
       "       [-7.51676180e-01],\n",
       "       [ 7.87336585e-01],\n",
       "       [-5.09911121e-02],\n",
       "       [-1.17833654e+00],\n",
       "       [ 1.63332039e+00],\n",
       "       [-7.25574552e-01],\n",
       "       [ 1.27789479e-01],\n",
       "       [ 8.47684239e-01],\n",
       "       [ 8.01728718e-01],\n",
       "       [-1.89693043e+00],\n",
       "       [ 2.19847913e+00],\n",
       "       [-1.57823771e+00],\n",
       "       [ 1.26048240e-01],\n",
       "       [-1.59826112e+00],\n",
       "       [ 2.52113837e-01],\n",
       "       [-2.27673875e-01],\n",
       "       [ 1.70483415e+00],\n",
       "       [-1.31603932e+00],\n",
       "       [-1.61679515e+00],\n",
       "       [ 1.61793984e+00],\n",
       "       [-1.94916755e+00],\n",
       "       [ 1.64195882e+00],\n",
       "       [ 1.31964138e-02],\n",
       "       [-9.40887733e-01],\n",
       "       [ 6.76585873e-01],\n",
       "       [ 1.55031864e+00],\n",
       "       [-2.57959730e-01],\n",
       "       [-1.65364456e+00],\n",
       "       [ 6.83629163e-01],\n",
       "       [ 9.72217075e-02],\n",
       "       [-1.27623389e+00],\n",
       "       [-1.81835647e+00],\n",
       "       [-6.84837130e-01],\n",
       "       [-4.30160921e-01],\n",
       "       [ 8.17256927e-01],\n",
       "       [ 1.87306686e+00],\n",
       "       [-1.49844235e+00],\n",
       "       [-7.66438795e-01],\n",
       "       [-5.88253833e-01],\n",
       "       [ 2.23315502e-01],\n",
       "       [ 2.43675938e-02],\n",
       "       [-6.09766996e-01],\n",
       "       [-1.62488582e+00],\n",
       "       [-1.55050855e+00],\n",
       "       [ 1.30726911e+00],\n",
       "       [ 7.11637157e-01],\n",
       "       [ 1.87784548e-01],\n",
       "       [-1.06310481e+00],\n",
       "       [ 1.14456712e+00],\n",
       "       [-4.99403821e-01],\n",
       "       [-7.91691650e-01],\n",
       "       [ 1.61686060e+00],\n",
       "       [ 1.02111054e+00],\n",
       "       [ 1.69637115e+00],\n",
       "       [ 8.78084740e-01],\n",
       "       [ 1.40431335e+00],\n",
       "       [ 1.67094476e+00],\n",
       "       [ 1.89146687e+00],\n",
       "       [ 1.22718788e+00],\n",
       "       [ 2.66197855e-01],\n",
       "       [-1.81236356e+00],\n",
       "       [-1.92647003e+00],\n",
       "       [-2.11470545e+00],\n",
       "       [-5.44938983e-01],\n",
       "       [-5.95399808e-01],\n",
       "       [ 1.31391317e-01],\n",
       "       [ 1.24146621e+00],\n",
       "       [-8.32316738e-01],\n",
       "       [ 5.81861070e-01],\n",
       "       [-1.47579055e+00],\n",
       "       [ 1.23318265e+00],\n",
       "       [-9.82862920e-01],\n",
       "       [-3.54179592e-01],\n",
       "       [ 1.82172732e-01],\n",
       "       [ 3.02706521e-01],\n",
       "       [ 2.56673426e-01],\n",
       "       [-9.96608127e-01],\n",
       "       [ 9.53535984e-01],\n",
       "       [-1.44637092e+00],\n",
       "       [ 9.09754523e-01],\n",
       "       [-5.51478928e-01],\n",
       "       [-1.07883649e+00],\n",
       "       [ 2.58245976e-01],\n",
       "       [-2.60707536e-01]])"
      ]
     },
     "execution_count": 5,
     "metadata": {},
     "output_type": "execute_result"
    }
   ],
   "source": [
    "X"
   ]
  },
  {
   "cell_type": "code",
   "execution_count": 6,
   "metadata": {
    "id": "B_elZ9zh9Pbm"
   },
   "outputs": [
    {
     "data": {
      "text/plain": [
       "array([1, 1, 1, 1, 0, 1, 0, 0, 0, 0, 0, 1, 1, 1, 0, 1, 0, 1, 1, 0, 1, 0,\n",
       "       0, 1, 1, 0, 1, 0, 1, 0, 1, 0, 1, 0, 0, 1, 0, 1, 0, 0, 1, 1, 0, 0,\n",
       "       1, 1, 0, 0, 0, 0, 1, 1, 0, 0, 0, 0, 1, 0, 0, 0, 1, 1, 1, 0, 1, 0,\n",
       "       0, 1, 1, 1, 1, 1, 1, 1, 1, 1, 0, 0, 0, 0, 0, 0, 1, 0, 1, 0, 1, 0,\n",
       "       0, 1, 1, 1, 0, 1, 0, 1, 0, 0, 1, 1])"
      ]
     },
     "execution_count": 6,
     "metadata": {},
     "output_type": "execute_result"
    }
   ],
   "source": [
    "y"
   ]
  },
  {
   "cell_type": "code",
   "execution_count": 10,
   "metadata": {
    "id": "br63Yp7-WMzC"
   },
   "outputs": [
    {
     "data": {
      "image/png": "[encoded data removed]",
      "text/plain": [
       "<Figure size 720x360 with 1 Axes>"
      ]
     },
     "metadata": {
      "needs_background": "light"
     },
     "output_type": "display_data"
    }
   ],
   "source": [
    "plt.figure(figsize = (10, 5))\n",
    "plt.scatter(X, y, marker = '*', c = y, edgecolors = 'k', s = 200)\n",
    "plt.title('1개의 독립변수를 가진 데이터')\n",
    "plt.xlabel('X')\n",
    "plt.ylabel('y')\n",
    "plt.show()\n",
    "# 직접 생성한 데이터를 그래프로 그려보았다."
   ]
  },
  {
   "cell_type": "markdown",
   "metadata": {
    "id": "NVFhYpO7WMzF"
   },
   "source": [
    "- title은 그래프의 제목을 넣어주는 명령어 이고 xlabel, ylabel은 각각 x축, y축의 이름을 설정할 수 있다.  \n",
    "- plt.scatter()의 파라미터 c는 마커의 색을 지정할 수 있다 ( ex) 여기서 사용한 c = y는 y의 값이 해당하는 데이터에 해당하는 색이 들어간다), edgecolors는 점의 테두리색 지정, s는 원의 크기지정, marker는 모양을 지정할 수 있다."
   ]
  },
  {
   "cell_type": "code",
   "execution_count": 11,
   "metadata": {
    "colab": {
     "base_uri": "https://localhost:8080/",
     "height": 349
    },
    "executionInfo": {
     "elapsed": 5,
     "status": "ok",
     "timestamp": 1676207381298,
     "user": {
      "displayName": "최재진",
      "userId": "14104918437285699837"
     },
     "user_tz": -540
    },
    "id": "YOQic4XBWMzG",
    "outputId": "73219782-03de-457d-8eb1-526304399b7c"
   },
   "outputs": [
    {
     "data": {
      "image/png": "[encoded data removed]",
      "text/plain": [
       "<Figure size 720x360 with 2 Axes>"
      ]
     },
     "metadata": {
      "needs_background": "light"
     },
     "output_type": "display_data"
    }
   ],
   "source": [
    "X, y = make_classification(n_samples = 100, n_features = 2, n_redundant = 0,\n",
    "                          n_informative = 1, n_clusters_per_class = 1,\n",
    "                          random_state = 30)\n",
    "# 독립변수, 즉 n_features를 2로 설정한 데이터를 그래프로 그려보았다.\n",
    "plt.figure(figsize = (10, 5))\n",
    "plt.scatter(X[:, 0], X[:, 1], marker = '*', c = y, edgecolors = 'k', s = 200)\n",
    "plt.title('2개의 독립변수를 가진 데이터')\n",
    "plt.xlabel('$X_1$')\n",
    "plt.ylabel('$X_2$')\n",
    "plt.colorbar()\n",
    "plt.show()"
   ]
  },
  {
   "cell_type": "code",
   "execution_count": null,
   "metadata": {
    "colab": {
     "base_uri": "https://localhost:8080/",
     "height": 716
    },
    "executionInfo": {
     "elapsed": 1096,
     "status": "ok",
     "timestamp": 1676207382390,
     "user": {
      "displayName": "최재진",
      "userId": "14104918437285699837"
     },
     "user_tz": -540
    },
    "id": "wWj5WGPBWMzL",
    "outputId": "ca2fe791-49ec-4c46-eb66-b32e2362dc3a"
   },
   "outputs": [],
   "source": [
    "X1, y1 = make_classification(n_samples = 300, n_features = 2, n_informative = 2,\n",
    "                            n_redundant = 0, n_clusters_per_class = 1,\n",
    "                             random_state = 30)\n",
    "# 클래스당 클러스터 수를 1로 설정해보고 그래프를 그려보았다.\n",
    "plt.figure(figsize = (10, 5))\n",
    "plt.scatter(X1[:, 0], X1[:, 1], marker = '*', c = y1, s = 200, edgecolors = 'k')\n",
    "plt.title('클래스당 1개의 클러스터')\n",
    "plt.xlabel('$X_1$')\n",
    "plt.ylabel('$X_2$')\n",
    "plt.colorbar()\n",
    "plt.show()"
   ]
  },
  {
   "cell_type": "code",
   "execution_count": null,
   "metadata": {
    "colab": {
     "base_uri": "https://localhost:8080/",
     "height": 349
    },
    "executionInfo": {
     "elapsed": 10,
     "status": "ok",
     "timestamp": 1676207382390,
     "user": {
      "displayName": "최재진",
      "userId": "14104918437285699837"
     },
     "user_tz": -540
    },
    "id": "DtlD6KNsWMzO",
    "outputId": "663ad7b4-9935-476d-9f28-473416a353fc",
    "scrolled": true
   },
   "outputs": [],
   "source": [
    "X1, y1 = make_classification(n_samples = 300, n_features = 2, n_informative = 2,\n",
    "                            n_redundant = 0, n_clusters_per_class = 2,\n",
    "                             random_state = 30)\n",
    "# 클래스당 클러스터 수를 2로 설정해보고 그래프를 그려보았다.\n",
    "plt.figure(figsize = (10, 5))\n",
    "plt.scatter(X1[:, 0], X1[:, 1], marker = '*', c = y1, s = 200, edgecolors = 'k')\n",
    "plt.title('클래스당 2개의 클러스터')\n",
    "plt.xlabel('$X_1$')\n",
    "plt.ylabel('$X_2$')\n",
    "plt.colorbar()\n",
    "plt.show()"
   ]
  },
  {
   "cell_type": "code",
   "execution_count": 19,
   "metadata": {
    "id": "eTDmw_inWMzR"
   },
   "outputs": [],
   "source": [
    "from sklearn.linear_model import LogisticRegression\n",
    "from sklearn.model_selection import train_test_split\n",
    "\n",
    "# X, y = make_classification(n_samples = 400, n_features = 1, n_redundant = 0,\n",
    "#                           n_informative = 1, n_clusters_per_class = 1,\n",
    "#                           random_state = 30)\n",
    "\n",
    "X_train, X_test, y_train, y_test = train_test_split(X, y, test_size = 0.2,\n",
    "                                                   shuffle = True)\n",
    "\n",
    "model_logic = LogisticRegression().fit(X_train, y_train)"
   ]
  },
  {
   "cell_type": "code",
   "execution_count": 20,
   "metadata": {
    "colab": {
     "base_uri": "https://localhost:8080/"
    },
    "executionInfo": {
     "elapsed": 4,
     "status": "ok",
     "timestamp": 1676207411030,
     "user": {
      "displayName": "최재진",
      "userId": "14104918437285699837"
     },
     "user_tz": -540
    },
    "id": "jaoyO5BiWMzV",
    "outputId": "40b23830-b024-4748-f1d6-8ac284bcf6c0"
   },
   "outputs": [
    {
     "name": "stdout",
     "output_type": "stream",
     "text": [
      "weight : [[-0.07277815  2.62191185]]\n",
      "\n",
      "\n",
      "bias : [0.10476311]\n"
     ]
    }
   ],
   "source": [
    "print('weight : {}\\n\\n'.format(model_logic.coef_))\n",
    "print('bias : {}'.format(model_logic.intercept_))"
   ]
  },
  {
   "cell_type": "code",
   "execution_count": 21,
   "metadata": {
    "colab": {
     "base_uri": "https://localhost:8080/"
    },
    "executionInfo": {
     "elapsed": 3,
     "status": "ok",
     "timestamp": 1676207411030,
     "user": {
      "displayName": "최재진",
      "userId": "14104918437285699837"
     },
     "user_tz": -540
    },
    "id": "r_Q023jQWMzY",
    "outputId": "a9151ef2-e1cd-4d90-cbca-1846917f0a45"
   },
   "outputs": [
    {
     "name": "stdout",
     "output_type": "stream",
     "text": [
      "train score : 0.900\n",
      "\n",
      "\n",
      "test score : 0.900\n"
     ]
    }
   ],
   "source": [
    "print('train score : {:.3f}\\n\\n'.format(model_logic.score(X_train, y_train)))\n",
    "print('test score : {:.3f}'.format(model_logic.score(X_test, y_test)))"
   ]
  },
  {
   "cell_type": "code",
   "execution_count": 22,
   "metadata": {
    "colab": {
     "base_uri": "https://localhost:8080/"
    },
    "executionInfo": {
     "elapsed": 296,
     "status": "ok",
     "timestamp": 1676207411325,
     "user": {
      "displayName": "최재진",
      "userId": "14104918437285699837"
     },
     "user_tz": -540
    },
    "id": "a8FVEEQRWMzb",
    "outputId": "47401b62-c3ea-4ce6-b590-f96974ff43e0"
   },
   "outputs": [],
   "source": [
    "y_pred = model_logic.predict(X_test)\n",
    "# predict로 예측할 수 있다."
   ]
  },
  {
   "cell_type": "code",
   "execution_count": 24,
   "metadata": {},
   "outputs": [
    {
     "name": "stdout",
     "output_type": "stream",
     "text": [
      "[True, True, True, True, True, False, True, True, True, False, True, True, True, True, True, True, True, True, True, True]\n"
     ]
    },
    {
     "data": {
      "text/plain": [
       "0.9"
      ]
     },
     "execution_count": 24,
     "metadata": {},
     "output_type": "execute_result"
    }
   ],
   "source": [
    "accuracy_list = []\n",
    "for i in range(len(y_pred)):\n",
    "    accuracy_list.append(y_pred[i] == y_test[i])\n",
    "print(accuracy_list)\n",
    "\n",
    "sum(accuracy_list) / len(accuracy_list)"
   ]
  },
  {
   "cell_type": "code",
   "execution_count": null,
   "metadata": {
    "colab": {
     "base_uri": "https://localhost:8080/"
    },
    "executionInfo": {
     "elapsed": 3,
     "status": "ok",
     "timestamp": 1676207411325,
     "user": {
      "displayName": "최재진",
      "userId": "14104918437285699837"
     },
     "user_tz": -540
    },
    "id": "Y1_JB79sWMzf",
    "outputId": "43e5ae26-c5d1-4d64-d438-5bbf573c7e8c"
   },
   "outputs": [],
   "source": [
    "y_test"
   ]
  },
  {
   "cell_type": "code",
   "execution_count": null,
   "metadata": {
    "colab": {
     "base_uri": "https://localhost:8080/",
     "height": 319
    },
    "executionInfo": {
     "elapsed": 1059,
     "status": "ok",
     "timestamp": 1676207417577,
     "user": {
      "displayName": "최재진",
      "userId": "14104918437285699837"
     },
     "user_tz": -540
    },
    "id": "h7vrwRd5WMzj",
    "outputId": "2450f2de-4948-4fb6-8e40-7d6e48aebfff",
    "scrolled": true
   },
   "outputs": [],
   "source": [
    "import numpy as np\n",
    "plt.figure(figsize = (10,5))\n",
    "\n",
    "dot_x = np.linspace(-4, 4, 100)\n",
    "# -4 에서 4까지 50개의 균일한 간격으로 나눈 점을 생성\n",
    "\n",
    "log_func = 1.0/(1 + np.exp(-model_logic.coef_[0][0]*dot_x - model_logic.intercept_[0]))\n",
    "# 로지스틱 함수\n",
    "\n",
    "plt.plot(dot_x, log_func)\n",
    "plt.scatter(X_test[:, 1], model_logic.predict(X_test), marker = '*', c = y_test, \n",
    "            edgecolors = 'k', s = 300)\n",
    "plt.show()"
   ]
  },
  {
   "cell_type": "code",
   "execution_count": null,
   "metadata": {
    "id": "mu6lrKMdv3ss"
   },
   "outputs": [],
   "source": []
  },
  {
   "cell_type": "code",
   "execution_count": null,
   "metadata": {
    "colab": {
     "base_uri": "https://localhost:8080/"
    },
    "executionInfo": {
     "elapsed": 7,
     "status": "ok",
     "timestamp": 1676207383141,
     "user": {
      "displayName": "최재진",
      "userId": "14104918437285699837"
     },
     "user_tz": -540
    },
    "id": "8XM2C1FVWMzm",
    "outputId": "17a6ee2d-a182-4ed3-8eb2-5a6ce7506b18"
   },
   "outputs": [],
   "source": [
    "dot_x.shape"
   ]
  }
 ],
 "metadata": {
  "colab": {
   "provenance": []
  },
  "kernelspec": {
   "display_name": "Python 3 (ipykernel)",
   "language": "python",
   "name": "python3"
  },
  "language_info": {
   "codemirror_mode": {
    "name": "ipython",
    "version": 3
   },
   "file_extension": ".py",
   "mimetype": "text/x-python",
   "name": "python",
   "nbconvert_exporter": "python",
   "pygments_lexer": "ipython3",
   "version": "3.9.7"
  },
  "vscode": {
   "interpreter": {
    "hash": "74acc8fd29d08fd23b8add57691a7aaff18961a013511531a1e8050c061d9e6d"
   }
  }
 },
 "nbformat": 4,
 "nbformat_minor": 1
}
