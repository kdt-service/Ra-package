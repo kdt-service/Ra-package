{
 "cells": [
  {
   "cell_type": "markdown",
   "metadata": {},
   "source": [
    "# 전처리\n",
    "\n",
    " - 누락된 데이터 처리 (isnull, fillna, dropna)\n",
    " - 보간법 (simpleimputer)\n"
   ]
  },
  {
   "cell_type": "code",
   "execution_count": null,
   "metadata": {},
   "outputs": [],
   "source": [
    "import numpy as np\n",
    "import pandas as pd"
   ]
  },
  {
   "cell_type": "code",
   "execution_count": null,
   "metadata": {},
   "outputs": [],
   "source": [
    "df = pd.DataFrame([\n",
    "    [2, 1, 3],\n",
    "    [3, 2, 5],\n",
    "    [3, np.nan, 7],\n",
    "    [5, np.nan, 10],\n",
    "    [7, 5, 12],\n",
    "    [2, 5, 7],\n",
    "    [8, 9, 13],\n",
    "    [np.nan, 10, 13],\n",
    "    [6, 12, 12],\n",
    "    [9, 2, np.nan],\n",
    "    [6, 10, 12],\n",
    "    [2, 4, 6]\n",
    "], columns=['hour', 'attendance', 'score'])\n"
   ]
  },
  {
   "cell_type": "code",
   "execution_count": null,
   "metadata": {},
   "outputs": [],
   "source": [
    "# 누락된 데이터 확인\n",
    "df.isnull().sum()\n",
    "# df.info()"
   ]
  },
  {
   "cell_type": "code",
   "execution_count": null,
   "metadata": {},
   "outputs": [],
   "source": [
    "# 특정 값으로 데이터 채우기\n",
    "df.fillna(df.mean())"
   ]
  },
  {
   "cell_type": "code",
   "execution_count": null,
   "metadata": {},
   "outputs": [],
   "source": [
    "# 누락된 값이 있는 행에 대해서 데이터 제외\n",
    "df.dropna(axis=0)"
   ]
  },
  {
   "cell_type": "code",
   "execution_count": null,
   "metadata": {},
   "outputs": [],
   "source": [
    "# 누락된 값이 있는 열 제외\n",
    "df.dropna(axis=1)"
   ]
  },
  {
   "cell_type": "code",
   "execution_count": null,
   "metadata": {},
   "outputs": [],
   "source": [
    "from sklearn.impute import SimpleImputer\n",
    "#Specify the strategy to be the median class (mean, most_frequent)\n",
    "fea_transformer = SimpleImputer(strategy=\"median\")\n",
    "values = fea_transformer.fit_transform(df[[\"Distance\"]])\n",
    "pd.DataFrame(values)"
   ]
  },
  {
   "cell_type": "markdown",
   "metadata": {},
   "source": [
    "- 클래스 데이터 처리\n",
    "- label encoder\n",
    "- ont-hot encoder"
   ]
  },
  {
   "cell_type": "code",
   "execution_count": null,
   "metadata": {},
   "outputs": [],
   "source": [
    "# 중고차 데이터로드\n",
    "df = pd.read_excel('./hyundaiCar.xlsx')"
   ]
  },
  {
   "cell_type": "code",
   "execution_count": null,
   "metadata": {},
   "outputs": [],
   "source": [
    "from sklearn.preprocessing import LabelEncoder"
   ]
  },
  {
   "cell_type": "code",
   "execution_count": null,
   "metadata": {},
   "outputs": [],
   "source": [
    "label_encoder = LabelEncoder()"
   ]
  },
  {
   "cell_type": "code",
   "execution_count": null,
   "metadata": {},
   "outputs": [],
   "source": [
    "encoded_ts = label_encoder.fit_transform(df['변속기'].values) \n",
    "df['변속기_encode'] = encoded_ts"
   ]
  },
  {
   "cell_type": "code",
   "execution_count": null,
   "metadata": {},
   "outputs": [],
   "source": [
    "from sklearn.preprocessing import OneHotEncoder"
   ]
  },
  {
   "cell_type": "code",
   "execution_count": null,
   "metadata": {},
   "outputs": [],
   "source": [
    "onehot_encoder = OneHotEncoder()"
   ]
  },
  {
   "cell_type": "code",
   "execution_count": null,
   "metadata": {},
   "outputs": [],
   "source": [
    "encoded_oil = onehot_encoder.fit_transform(df['연료'].values) \n",
    "\n",
    "# 연료_가솔린, 연료_디젤로 칼럼을 만든다.\n",
    "oil_columns = ['연료_' + oil for oil in onehot_encoder.categories_]\n",
    "\n",
    "# 만든 칼럼에 각 데이터를 추가\n",
    "df[oil_columns] = encoded_oil"
   ]
  },
  {
   "cell_type": "markdown",
   "metadata": {},
   "source": [
    "## 스케일링\n",
    "\n",
    "- MinMaxScaler\n",
    "- StandardScaler\n",
    "- RobustScaler"
   ]
  },
  {
   "cell_type": "code",
   "execution_count": null,
   "metadata": {},
   "outputs": [],
   "source": [
    "from sklearn.preprocessing import MinMaxScaler\n",
    "from sklearn.preprocessing import StandardScaler\n",
    "from sklearn.preprocessing import RobustScaler"
   ]
  },
  {
   "cell_type": "code",
   "execution_count": null,
   "metadata": {},
   "outputs": [],
   "source": [
    "mms = MinMaxScaler()\n",
    "\n",
    "numeric_columns = ['가격', '연비', '마력', '토크', '배기량', '중량']\n",
    "\n",
    "df_norm_mm = mms.fit_transform(df[numeric_columns])"
   ]
  },
  {
   "cell_type": "code",
   "execution_count": null,
   "metadata": {},
   "outputs": [],
   "source": [
    "sds = StandardScaler()\n",
    "\n",
    "numeric_columns = ['가격', '연비', '마력', '토크', '배기량', '중량']\n",
    "\n",
    "df_norm_sd = sds.fit_transform(df[numeric_columns])"
   ]
  },
  {
   "cell_type": "code",
   "execution_count": null,
   "metadata": {},
   "outputs": [],
   "source": [
    "rbs = RobustScaler()\n",
    "\n",
    "numeric_columns = ['가격', '연비', '마력', '토크', '배기량', '중량']\n",
    "\n",
    "df_norm_rb = rbs.fit_transform(df[numeric_columns])"
   ]
  }
 ],
 "metadata": {
  "kernelspec": {
   "display_name": "Python 3 (ipykernel)",
   "language": "python",
   "name": "python3"
  },
  "language_info": {
   "codemirror_mode": {
    "name": "ipython",
    "version": 3
   },
   "file_extension": ".py",
   "mimetype": "text/x-python",
   "name": "python",
   "nbconvert_exporter": "python",
   "pygments_lexer": "ipython3",
   "version": "3.9.7"
  },
  "vscode": {
   "interpreter": {
    "hash": "e508c96042fd7b3aa969c1a8875668ac50b0a6c54de6b2bab6d59ac763cd3db2"
   }
  }
 },
 "nbformat": 4,
 "nbformat_minor": 2
}
