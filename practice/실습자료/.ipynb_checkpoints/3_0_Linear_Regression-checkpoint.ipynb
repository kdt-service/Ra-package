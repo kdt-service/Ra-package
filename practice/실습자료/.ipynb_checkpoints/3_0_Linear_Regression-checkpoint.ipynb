{
 "cells": [
  {
   "cell_type": "markdown",
   "metadata": {
    "colab_type": "text",
    "id": "JPdPyjLuY0ev"
   },
   "source": [
    "# 1. Linear Regression"
   ]
  },
  {
   "cell_type": "markdown",
   "metadata": {
    "colab_type": "text",
    "id": "BMEMDE-bL7fe"
   },
   "source": [
    "### 가상의 데이터로 예측하기"
   ]
  },
  {
   "cell_type": "code",
   "execution_count": null,
   "metadata": {
    "colab": {},
    "colab_type": "code",
    "executionInfo": {
     "elapsed": 1031,
     "status": "ok",
     "timestamp": 1592379122942,
     "user": {
      "displayName": "Ardino Lee",
      "photoUrl": "https://lh3.googleusercontent.com/a-/AOh14GhB_WDJA1NwHt0QGkYj1f8YnMmiS1ZeCBKt3hA2=s64",
      "userId": "09906365095310647737"
     },
     "user_tz": -540
    },
    "id": "urnyUV0WY0e0"
   },
   "outputs": [],
   "source": [
    "from sklearn.datasets import make_regression"
   ]
  },
  {
   "cell_type": "markdown",
   "metadata": {
    "colab_type": "text",
    "id": "mJoJL8aYY0e8"
   },
   "source": [
    "-  Scikit-Learn의 datasets 서브패키지는 회귀분석용 가상 데이터를 생성하는 명령어인 make_regression()을 제공한다.\n",
    "- make_regression()으로 만들어진 데이터는 종속 변수 y의 값이 독립변수 x 벡터의 선형 조합인 선형관계를 가진다."
   ]
  },
  {
   "cell_type": "code",
   "execution_count": null,
   "metadata": {
    "colab": {},
    "colab_type": "code",
    "executionInfo": {
     "elapsed": 1021,
     "status": "ok",
     "timestamp": 1592379122944,
     "user": {
      "displayName": "Ardino Lee",
      "photoUrl": "https://lh3.googleusercontent.com/a-/AOh14GhB_WDJA1NwHt0QGkYj1f8YnMmiS1ZeCBKt3hA2=s64",
      "userId": "09906365095310647737"
     },
     "user_tz": -540
    },
    "id": "1yEpBrFkY0e9"
   },
   "outputs": [],
   "source": [
    "# 가상의 데이터 생성\n",
    "data = make_regression(n_samples = 1000, n_features = 1, bias = 1000, noise = 50) \n",
    "# 1000개의 데이터, 1개의 특성 가진 데이터 셋을 생성합니다.\n",
    "\n",
    "#X_1 -> data[0] / y_1 -> data[1]"
   ]
  },
  {
   "cell_type": "code",
   "execution_count": null,
   "metadata": {
    "colab": {
     "base_uri": "https://localhost:8080/",
     "height": 287
    },
    "colab_type": "code",
    "executionInfo": {
     "elapsed": 983,
     "status": "ok",
     "timestamp": 1592379122945,
     "user": {
      "displayName": "Ardino Lee",
      "photoUrl": "https://lh3.googleusercontent.com/a-/AOh14GhB_WDJA1NwHt0QGkYj1f8YnMmiS1ZeCBKt3hA2=s64",
      "userId": "09906365095310647737"
     },
     "user_tz": -540
    },
    "id": "fn2uoYwjiW_D",
    "outputId": "7602c14f-cde8-4943-9044-75f38df0eb70"
   },
   "outputs": [],
   "source": [
    "print('input data :\\n{}, \\n\\n output data :\\n{}'.format(data[0][-10:], data[1][-10:]))"
   ]
  },
  {
   "cell_type": "markdown",
   "metadata": {
    "colab_type": "text",
    "id": "bVZmSzSNY0fA"
   },
   "source": [
    "- n_samples : 기본값은 100, 표본 데이터의 갯수, 정수  \n",
    "- n_features : 기본값은 100, 독립변수의 수(차원), 정수  \n",
    "- n_target : 기본값은 1, 종속변수의 수, 정수  \n",
    "- bias = 기본값은 0.0, y절편, 실수   \n",
    "- nosie = 기본값은 0.0, 분포 "
   ]
  },
  {
   "cell_type": "code",
   "execution_count": null,
   "metadata": {
    "colab": {
     "base_uri": "https://localhost:8080/",
     "height": 265
    },
    "colab_type": "code",
    "executionInfo": {
     "elapsed": 1315,
     "status": "ok",
     "timestamp": 1592379123301,
     "user": {
      "displayName": "Ardino Lee",
      "photoUrl": "https://lh3.googleusercontent.com/a-/AOh14GhB_WDJA1NwHt0QGkYj1f8YnMmiS1ZeCBKt3hA2=s64",
      "userId": "09906365095310647737"
     },
     "user_tz": -540
    },
    "id": "0MuDcNGrY0fB",
    "outputId": "b22aa85c-1ac1-45ab-9023-e387f01825f2",
    "scrolled": true
   },
   "outputs": [],
   "source": [
    "# 위에서 생성한 가상 데이터 셋을 그래프위에 그려 보았습니다.\n",
    "from matplotlib import pyplot as plt\n",
    "%matplotlib inline\n",
    "plt.scatter(data[0], data[1])\n",
    "plt.show()"
   ]
  },
  {
   "cell_type": "markdown",
   "metadata": {
    "colab_type": "text",
    "id": "0nSwUoadY0fD"
   },
   "source": [
    "#### 선형 모델을 만들어 보자."
   ]
  },
  {
   "cell_type": "code",
   "execution_count": null,
   "metadata": {
    "colab": {},
    "colab_type": "code",
    "executionInfo": {
     "elapsed": 1306,
     "status": "ok",
     "timestamp": 1592379123302,
     "user": {
      "displayName": "Ardino Lee",
      "photoUrl": "https://lh3.googleusercontent.com/a-/AOh14GhB_WDJA1NwHt0QGkYj1f8YnMmiS1ZeCBKt3hA2=s64",
      "userId": "09906365095310647737"
     },
     "user_tz": -540
    },
    "id": "D2wn21HVY0fD"
   },
   "outputs": [],
   "source": [
    "from sklearn.model_selection import train_test_split\n",
    "# train_test_split은 데이터를 학습용 데이터와 검증용 데이터로 분리시켜줍니다.\n",
    "\n",
    "X_train, X_test, y_train, y_test = train_test_split(data[0], data[1], test_size = 0.2, shuffle = True)\n",
    "\n",
    "# 생성한 가상의 데이터를 훈련용 데이터와 검증 데이터로 나눠주는 과정입니다."
   ]
  },
  {
   "cell_type": "markdown",
   "metadata": {
    "colab_type": "text",
    "id": "3VGi8Zq1Y0fF"
   },
   "source": [
    "- train_test_split(data, data2, test_size, train_size, shuffle, random_state)  \n",
    "  data: 독립변수 데이터  \n",
    "  data2: 종속변수 데이터 (data 인수에 종속변수가 포함되어 있다면 생략해도 된다.)  \n",
    "  test_size: 검증용 데이터의 개수. 1이하의 실수로 표현하면 비율을 나타낸다. (기본값은 0.25)  \n",
    "  train_size : 학습용 데이터의 개수. 1이하의 실수로 표현하면 비율을 나타낸다.(test_size와 train_size 중 하나만 사용해도 된다.)  \n",
    "  shuffle: 데이터를 섞어준다. (기본값은 True)  \n",
    "  random_state: 난수를 생성해준다."
   ]
  },
  {
   "cell_type": "code",
   "execution_count": null,
   "metadata": {
    "colab": {},
    "colab_type": "code",
    "executionInfo": {
     "elapsed": 1809,
     "status": "ok",
     "timestamp": 1592379123812,
     "user": {
      "displayName": "Ardino Lee",
      "photoUrl": "https://lh3.googleusercontent.com/a-/AOh14GhB_WDJA1NwHt0QGkYj1f8YnMmiS1ZeCBKt3hA2=s64",
      "userId": "09906365095310647737"
     },
     "user_tz": -540
    },
    "id": "fr8N2T4ZY0fG"
   },
   "outputs": [],
   "source": [
    "# 선형회귀(Linear Regression)\n",
    "\n",
    "from sklearn.linear_model import LinearRegression\n",
    "# LinearRegression을 import 합니다.\n",
    "\n",
    "hypothesis = LinearRegression()\n",
    "# import한 LinearRegression을 model이라는 변수에 대입한다.\n",
    "# 굳이 별도의 변수에 넣어주지 않고 LinearRegression() 으로 사용해도 무방합니다. 여기서는 설명을 위해 변수에 대입하였습니다.\n",
    "\n",
    "# model에는 W1 * X1 + W0 (선형회귀의 기본 Hypothesis)가 생략되어 있습니다."
   ]
  },
  {
   "cell_type": "markdown",
   "metadata": {
    "colab_type": "text",
    "id": "USZgb7TSY0fI"
   },
   "source": [
    "#### 생성한 모델을 학습시켜보자."
   ]
  },
  {
   "cell_type": "code",
   "execution_count": null,
   "metadata": {
    "colab": {},
    "colab_type": "code",
    "executionInfo": {
     "elapsed": 1808,
     "status": "ok",
     "timestamp": 1592379123816,
     "user": {
      "displayName": "Ardino Lee",
      "photoUrl": "https://lh3.googleusercontent.com/a-/AOh14GhB_WDJA1NwHt0QGkYj1f8YnMmiS1ZeCBKt3hA2=s64",
      "userId": "09906365095310647737"
     },
     "user_tz": -540
    },
    "id": "w1u6npHHY0fJ"
   },
   "outputs": [],
   "source": [
    "model_linear = hypothesis.fit(X_train, y_train)\n",
    "# fit()은 모델을 학습시키는 명령입니다.\n",
    "\n",
    "# cost = avg((model - y)**2) 생략된 코드입니다. (예측값에서 결과값을 뺀 평균 즉, cost를 구하는 것)\n",
    "# for i in range(10000):\n",
    "#     gradDecent(cost)  구한 cost값을 이용해서 gradient Descent 실행\n",
    "# 생략된 과정들이 fit()안에 들어 있습니다."
   ]
  },
  {
   "cell_type": "markdown",
   "metadata": {
    "colab_type": "text",
    "id": "PfE0J_XrY0fL"
   },
   "source": [
    "#### 생성한 모델의 weight(가중치, 계수)와 bias를 출력해보자."
   ]
  },
  {
   "cell_type": "code",
   "execution_count": null,
   "metadata": {
    "colab": {
     "base_uri": "https://localhost:8080/",
     "height": 35
    },
    "colab_type": "code",
    "executionInfo": {
     "elapsed": 1789,
     "status": "ok",
     "timestamp": 1592379123819,
     "user": {
      "displayName": "Ardino Lee",
      "photoUrl": "https://lh3.googleusercontent.com/a-/AOh14GhB_WDJA1NwHt0QGkYj1f8YnMmiS1ZeCBKt3hA2=s64",
      "userId": "09906365095310647737"
     },
     "user_tz": -540
    },
    "id": "ZNbAGNoAY0fM",
    "outputId": "c7fb4524-60a3-417c-9648-ed738504e3ef"
   },
   "outputs": [],
   "source": [
    "model_linear.coef_\n",
    "# coef_ 속성은 각 입력 특성에 하나씩 대응되는 Numpy 배열입니다.\n",
    "# 우리가 생성한 데이터에는 입력 특성이 하나이므로 하나만 출력됩니다.\n",
    "# coef_ 는 weight값을 보여줍니다."
   ]
  },
  {
   "cell_type": "code",
   "execution_count": null,
   "metadata": {
    "colab": {
     "base_uri": "https://localhost:8080/",
     "height": 35
    },
    "colab_type": "code",
    "executionInfo": {
     "elapsed": 1762,
     "status": "ok",
     "timestamp": 1592379123821,
     "user": {
      "displayName": "Ardino Lee",
      "photoUrl": "https://lh3.googleusercontent.com/a-/AOh14GhB_WDJA1NwHt0QGkYj1f8YnMmiS1ZeCBKt3hA2=s64",
      "userId": "09906365095310647737"
     },
     "user_tz": -540
    },
    "id": "Qr7V-GwtY0fO",
    "outputId": "01d5b43f-e46a-4941-89a5-febeecfbca23"
   },
   "outputs": [],
   "source": [
    "model_linear.intercept_\n",
    "# intercept_ 속성은 항상 실수 값 하나입니다.\n",
    "# intercept_ 는 bias(y 절편)값을 보여줍니다."
   ]
  },
  {
   "cell_type": "markdown",
   "metadata": {
    "colab_type": "text",
    "id": "Uoiuwap-Y0fQ"
   },
   "source": [
    "#### 우리가 생성한 모델을 검증 해보자."
   ]
  },
  {
   "cell_type": "markdown",
   "metadata": {
    "colab_type": "text",
    "id": "Qj-q1LttY0fR"
   },
   "source": [
    "- score()로 모델을 검증할 수 있다."
   ]
  },
  {
   "cell_type": "code",
   "execution_count": null,
   "metadata": {
    "colab": {
     "base_uri": "https://localhost:8080/",
     "height": 53
    },
    "colab_type": "code",
    "executionInfo": {
     "elapsed": 1739,
     "status": "ok",
     "timestamp": 1592379123823,
     "user": {
      "displayName": "Ardino Lee",
      "photoUrl": "https://lh3.googleusercontent.com/a-/AOh14GhB_WDJA1NwHt0QGkYj1f8YnMmiS1ZeCBKt3hA2=s64",
      "userId": "09906365095310647737"
     },
     "user_tz": -540
    },
    "id": "P-6rYKx8Y0fR",
    "outputId": "c3e47ad8-dc22-4c22-ff59-1ee02f0564e4"
   },
   "outputs": [],
   "source": [
    "print(\"train data score : {:.2f}\".format(model_linear.score(X_train, y_train)))\n",
    "print(\"test data score : {:.2f}\".format(model_linear.score(X_test, y_test)))"
   ]
  },
  {
   "cell_type": "code",
   "execution_count": null,
   "metadata": {
    "colab": {},
    "colab_type": "code",
    "executionInfo": {
     "elapsed": 1733,
     "status": "ok",
     "timestamp": 1592379123825,
     "user": {
      "displayName": "Ardino Lee",
      "photoUrl": "https://lh3.googleusercontent.com/a-/AOh14GhB_WDJA1NwHt0QGkYj1f8YnMmiS1ZeCBKt3hA2=s64",
      "userId": "09906365095310647737"
     },
     "user_tz": -540
    },
    "id": "f51mnFAWqnSq"
   },
   "outputs": [],
   "source": [
    "#Trainset data 와 함께, Hypothesis (직선) 시각화해보기\n",
    "#Testset data 와 함께, Hypothesis (직선) 시각화해보기"
   ]
  },
  {
   "cell_type": "code",
   "execution_count": null,
   "metadata": {
    "colab": {},
    "colab_type": "code",
    "executionInfo": {
     "elapsed": 1734,
     "status": "ok",
     "timestamp": 1592379123830,
     "user": {
      "displayName": "Ardino Lee",
      "photoUrl": "https://lh3.googleusercontent.com/a-/AOh14GhB_WDJA1NwHt0QGkYj1f8YnMmiS1ZeCBKt3hA2=s64",
      "userId": "09906365095310647737"
     },
     "user_tz": -540
    },
    "id": "3GtppRvCY0fU"
   },
   "outputs": [],
   "source": [
    "from sklearn.metrics import mean_squared_error, r2_score\n",
    "# 회귀 평가 지표인 mean squared error, R2 score를 불러옵니다.\n",
    "\n",
    "y_predict = model_linear.predict(X_test)\n",
    "# predcit() 명령어를 사용하여 y값을 예측합니다."
   ]
  },
  {
   "cell_type": "code",
   "execution_count": null,
   "metadata": {
    "colab": {},
    "colab_type": "code",
    "executionInfo": {
     "elapsed": 1732,
     "status": "ok",
     "timestamp": 1592379123832,
     "user": {
      "displayName": "Ardino Lee",
      "photoUrl": "https://lh3.googleusercontent.com/a-/AOh14GhB_WDJA1NwHt0QGkYj1f8YnMmiS1ZeCBKt3hA2=s64",
      "userId": "09906365095310647737"
     },
     "user_tz": -540
    },
    "id": "rynH2-RmY0fW"
   },
   "outputs": [],
   "source": [
    "mse = mean_squared_error(y_test, y_predict)\n",
    "# 실제 값과 예측값을 이용하여 mean squared error를 측정합니다."
   ]
  },
  {
   "cell_type": "code",
   "execution_count": null,
   "metadata": {
    "colab": {},
    "colab_type": "code",
    "executionInfo": {
     "elapsed": 1387,
     "status": "ok",
     "timestamp": 1592379123834,
     "user": {
      "displayName": "Ardino Lee",
      "photoUrl": "https://lh3.googleusercontent.com/a-/AOh14GhB_WDJA1NwHt0QGkYj1f8YnMmiS1ZeCBKt3hA2=s64",
      "userId": "09906365095310647737"
     },
     "user_tz": -540
    },
    "id": "QubvGM12Y0fY"
   },
   "outputs": [],
   "source": [
    "import numpy as np\n",
    "rmse = np.sqrt(mse)\n",
    "# root mean squared error를 측정할 수 있습니다.\n",
    "# sqrt는 루트를 씌워주는 명령어입니다."
   ]
  },
  {
   "cell_type": "code",
   "execution_count": null,
   "metadata": {
    "colab": {
     "base_uri": "https://localhost:8080/",
     "height": 35
    },
    "colab_type": "code",
    "executionInfo": {
     "elapsed": 1042,
     "status": "ok",
     "timestamp": 1592379124618,
     "user": {
      "displayName": "Ardino Lee",
      "photoUrl": "https://lh3.googleusercontent.com/a-/AOh14GhB_WDJA1NwHt0QGkYj1f8YnMmiS1ZeCBKt3hA2=s64",
      "userId": "09906365095310647737"
     },
     "user_tz": -540
    },
    "id": "A_0cHZ3fY0fa",
    "outputId": "d49046c2-c2f4-4afb-c5de-f61a0df3c731"
   },
   "outputs": [],
   "source": [
    "print('MSE : {:.3f}, RMSE : {:.3f}'.format(mse, rmse))"
   ]
  },
  {
   "cell_type": "code",
   "execution_count": null,
   "metadata": {
    "colab": {
     "base_uri": "https://localhost:8080/",
     "height": 35
    },
    "colab_type": "code",
    "executionInfo": {
     "elapsed": 698,
     "status": "ok",
     "timestamp": 1592379124903,
     "user": {
      "displayName": "Ardino Lee",
      "photoUrl": "https://lh3.googleusercontent.com/a-/AOh14GhB_WDJA1NwHt0QGkYj1f8YnMmiS1ZeCBKt3hA2=s64",
      "userId": "09906365095310647737"
     },
     "user_tz": -540
    },
    "id": "zx8skmxvY0fd",
    "outputId": "e760dba0-6f26-4ad1-8eb1-a0b5ff1c27dd"
   },
   "outputs": [],
   "source": [
    "print('test data score : {:.2f}'.format(r2_score(y_test, y_predict)))\n",
    "# 실제값과 직접 만들어본 예측값을 이용하여 모델의 성능을 측정할 수 있습니다."
   ]
  },
  {
   "cell_type": "markdown",
   "metadata": {
    "colab_type": "text",
    "id": "8ayU4y0gY0fg"
   },
   "source": [
    "- score(X_test, y_test)를 실행하게 되면 내부함수에서 X_test를 이용하여 예측값을 생성합니다. 그 후 생성된 예측값과 y_test(실제값)을 이용하여 성능을 검증해줍니다.  \n",
    "- 모델의 성능만을 측정할때는 위의 번거러운 과정없이 score함수만을 활용하면 됩니다."
   ]
  },
  {
   "cell_type": "markdown",
   "metadata": {
    "colab_type": "text",
    "id": "h7db6M2wY0fg"
   },
   "source": [
    "#### Linear Regression with Multi-Variable"
   ]
  },
  {
   "cell_type": "markdown",
   "metadata": {
    "colab_type": "text",
    "id": "xt4lm1VkY0fh"
   },
   "source": [
    "앞에서는 1개의 특성(feature)을 가진 데이터 셋으로 선형회귀를 해보았다. 지금부터는 여러개의 특성을 가진 데이터 셋으로 션형회귀를 해보자."
   ]
  },
  {
   "cell_type": "code",
   "execution_count": null,
   "metadata": {
    "colab": {
     "base_uri": "https://localhost:8080/",
     "height": 395
    },
    "colab_type": "code",
    "executionInfo": {
     "elapsed": 1316,
     "status": "ok",
     "timestamp": 1592379128172,
     "user": {
      "displayName": "Ardino Lee",
      "photoUrl": "https://lh3.googleusercontent.com/a-/AOh14GhB_WDJA1NwHt0QGkYj1f8YnMmiS1ZeCBKt3hA2=s64",
      "userId": "09906365095310647737"
     },
     "user_tz": -540
    },
    "id": "-iYnh6KwY0fi",
    "outputId": "f1d6d51f-648f-43c2-e7e8-a3e4220b60ce"
   },
   "outputs": [],
   "source": [
    "X_multi, y_multi = make_regression(n_samples = 1000, n_features = 100, bias = 10, noise = 50)\n",
    "\n",
    "print('input data : \\n{}, \\n\\n output data : \\n{}'.format(X_multi[:1], y_multi[:1]))"
   ]
  },
  {
   "cell_type": "markdown",
   "metadata": {
    "colab_type": "text",
    "id": "Z6XgjQgJY0fk"
   },
   "source": [
    "여기서는 input data를 살펴보도록 하자.  \n",
    "1개의 input data에 100개의 각각 다른 값들이 들어있다. 그 이유는 n_features = 100, 즉 100개의 특성을 가지고 있는 데이터이다."
   ]
  },
  {
   "cell_type": "code",
   "execution_count": null,
   "metadata": {
    "colab": {},
    "colab_type": "code",
    "executionInfo": {
     "elapsed": 974,
     "status": "ok",
     "timestamp": 1592379128176,
     "user": {
      "displayName": "Ardino Lee",
      "photoUrl": "https://lh3.googleusercontent.com/a-/AOh14GhB_WDJA1NwHt0QGkYj1f8YnMmiS1ZeCBKt3hA2=s64",
      "userId": "09906365095310647737"
     },
     "user_tz": -540
    },
    "id": "E7EIk2LbY0fk"
   },
   "outputs": [],
   "source": [
    "X_train, X_test, y_train, y_test = train_test_split(X_multi, y_multi, test_size = 0.3, shuffle = True)\n",
    "# 생성한 가상의 데이터를 학습용과 검증용으로 나눠줍니다."
   ]
  },
  {
   "cell_type": "code",
   "execution_count": null,
   "metadata": {
    "colab": {},
    "colab_type": "code",
    "executionInfo": {
     "elapsed": 1161,
     "status": "ok",
     "timestamp": 1592379128552,
     "user": {
      "displayName": "Ardino Lee",
      "photoUrl": "https://lh3.googleusercontent.com/a-/AOh14GhB_WDJA1NwHt0QGkYj1f8YnMmiS1ZeCBKt3hA2=s64",
      "userId": "09906365095310647737"
     },
     "user_tz": -540
    },
    "id": "XYvsV_P1Y0fm"
   },
   "outputs": [],
   "source": [
    "hypothesis_multi = LinearRegression()\n",
    "# hypothesis = W0 + W1 * X1 + W2 * X2 + ... + W10 * X10\n",
    "# weight의 값은 10개 bias는 11개로 구성되어 있다."
   ]
  },
  {
   "cell_type": "code",
   "execution_count": null,
   "metadata": {
    "colab": {},
    "colab_type": "code",
    "executionInfo": {
     "elapsed": 959,
     "status": "ok",
     "timestamp": 1592379128554,
     "user": {
      "displayName": "Ardino Lee",
      "photoUrl": "https://lh3.googleusercontent.com/a-/AOh14GhB_WDJA1NwHt0QGkYj1f8YnMmiS1ZeCBKt3hA2=s64",
      "userId": "09906365095310647737"
     },
     "user_tz": -540
    },
    "id": "1_tL7HXMY0fr"
   },
   "outputs": [],
   "source": [
    "model_linear_multi = hypothesis_multi.fit(X_train, y_train)\n",
    "# 모델을 학습시킵니다."
   ]
  },
  {
   "cell_type": "code",
   "execution_count": null,
   "metadata": {
    "colab": {
     "base_uri": "https://localhost:8080/",
     "height": 557
    },
    "colab_type": "code",
    "executionInfo": {
     "elapsed": 761,
     "status": "ok",
     "timestamp": 1592379128555,
     "user": {
      "displayName": "Ardino Lee",
      "photoUrl": "https://lh3.googleusercontent.com/a-/AOh14GhB_WDJA1NwHt0QGkYj1f8YnMmiS1ZeCBKt3hA2=s64",
      "userId": "09906365095310647737"
     },
     "user_tz": -540
    },
    "id": "mTZ00aHOY0ft",
    "outputId": "8f826683-a169-4df1-b9cb-137019668e8c"
   },
   "outputs": [],
   "source": [
    "print('weight : \\n{}\\n\\n'.format(model_linear_multi.coef_))\n",
    "print('bias : \\n{}'.format(model_linear_multi.intercept_))"
   ]
  },
  {
   "cell_type": "code",
   "execution_count": null,
   "metadata": {
    "colab": {
     "base_uri": "https://localhost:8080/",
     "height": 53
    },
    "colab_type": "code",
    "executionInfo": {
     "elapsed": 573,
     "status": "ok",
     "timestamp": 1592379128557,
     "user": {
      "displayName": "Ardino Lee",
      "photoUrl": "https://lh3.googleusercontent.com/a-/AOh14GhB_WDJA1NwHt0QGkYj1f8YnMmiS1ZeCBKt3hA2=s64",
      "userId": "09906365095310647737"
     },
     "user_tz": -540
    },
    "id": "cSXTPok_Y0fv",
    "outputId": "f095cfa6-004c-4add-b5b0-5fcd35173777",
    "scrolled": true
   },
   "outputs": [],
   "source": [
    "print('학습 데이터 점수 : {:.2f}'.format(model_linear_multi.score(X_train, y_train)))\n",
    "print('검증 데이터 점수 : {:.2f}'.format(model_linear_multi.score(X_test, y_test)))"
   ]
  },
  {
   "cell_type": "markdown",
   "metadata": {
    "colab_type": "text",
    "id": "J4DWnbWCY0fw"
   },
   "source": [
    "noise = 100"
   ]
  },
  {
   "cell_type": "code",
   "execution_count": null,
   "metadata": {
    "colab": {},
    "colab_type": "code",
    "executionInfo": {
     "elapsed": 524,
     "status": "ok",
     "timestamp": 1592379128864,
     "user": {
      "displayName": "Ardino Lee",
      "photoUrl": "https://lh3.googleusercontent.com/a-/AOh14GhB_WDJA1NwHt0QGkYj1f8YnMmiS1ZeCBKt3hA2=s64",
      "userId": "09906365095310647737"
     },
     "user_tz": -540
    },
    "id": "YJUmb3k3Y0fy"
   },
   "outputs": [],
   "source": [
    "from sklearn.model_selection import train_test_split\n",
    "from sklearn.linear_model import LinearRegression\n",
    "X_2,y_2 = make_regression(n_samples = 1000, n_features = 1, bias = 10, noise = 200)"
   ]
  },
  {
   "cell_type": "code",
   "execution_count": null,
   "metadata": {
    "colab": {
     "base_uri": "https://localhost:8080/",
     "height": 265
    },
    "colab_type": "code",
    "executionInfo": {
     "elapsed": 1030,
     "status": "ok",
     "timestamp": 1592379130204,
     "user": {
      "displayName": "Ardino Lee",
      "photoUrl": "https://lh3.googleusercontent.com/a-/AOh14GhB_WDJA1NwHt0QGkYj1f8YnMmiS1ZeCBKt3hA2=s64",
      "userId": "09906365095310647737"
     },
     "user_tz": -540
    },
    "id": "vF8DdSlVY0f1",
    "outputId": "2bd8c676-3875-4bc4-c4b3-ade309c4f773",
    "scrolled": true
   },
   "outputs": [],
   "source": [
    "from matplotlib import pyplot as plt\n",
    "plt.scatter(X_2, y_2)\n",
    "plt.show()"
   ]
  },
  {
   "cell_type": "code",
   "execution_count": null,
   "metadata": {
    "colab": {},
    "colab_type": "code",
    "executionInfo": {
     "elapsed": 680,
     "status": "ok",
     "timestamp": 1592379130205,
     "user": {
      "displayName": "Ardino Lee",
      "photoUrl": "https://lh3.googleusercontent.com/a-/AOh14GhB_WDJA1NwHt0QGkYj1f8YnMmiS1ZeCBKt3hA2=s64",
      "userId": "09906365095310647737"
     },
     "user_tz": -540
    },
    "id": "1ksYu2_SY0f3"
   },
   "outputs": [],
   "source": [
    "X_train, X_test, y_train, y_test = train_test_split(X_2, y_2, test_size = 0.2, \n",
    "                                                    shuffle = True)\n",
    "hypothesis_noise100 = LinearRegression()\n",
    "model_linear_noise100 = hypothesis_noise100.fit(X_train, y_train)"
   ]
  },
  {
   "cell_type": "code",
   "execution_count": null,
   "metadata": {
    "colab": {
     "base_uri": "https://localhost:8080/",
     "height": 125
    },
    "colab_type": "code",
    "executionInfo": {
     "elapsed": 554,
     "status": "ok",
     "timestamp": 1592379131146,
     "user": {
      "displayName": "Ardino Lee",
      "photoUrl": "https://lh3.googleusercontent.com/a-/AOh14GhB_WDJA1NwHt0QGkYj1f8YnMmiS1ZeCBKt3hA2=s64",
      "userId": "09906365095310647737"
     },
     "user_tz": -540
    },
    "id": "5Z2ce5weY0f6",
    "outputId": "5dde2d85-c122-42e9-cee6-f518682d6da8"
   },
   "outputs": [],
   "source": [
    "print('weight : \\n{}\\n\\n'.format(model_linear_noise100.coef_))\n",
    "print('bias : \\n{}'.format(model_linear_noise100.intercept_))"
   ]
  },
  {
   "cell_type": "code",
   "execution_count": null,
   "metadata": {
    "colab": {
     "base_uri": "https://localhost:8080/",
     "height": 53
    },
    "colab_type": "code",
    "executionInfo": {
     "elapsed": 449,
     "status": "ok",
     "timestamp": 1592379131545,
     "user": {
      "displayName": "Ardino Lee",
      "photoUrl": "https://lh3.googleusercontent.com/a-/AOh14GhB_WDJA1NwHt0QGkYj1f8YnMmiS1ZeCBKt3hA2=s64",
      "userId": "09906365095310647737"
     },
     "user_tz": -540
    },
    "id": "c0fy-z6SY0f8",
    "outputId": "bf94323f-ea1c-459e-afc8-c94235eca342"
   },
   "outputs": [],
   "source": [
    "print('학습 데이터 점수 : {:.2f}'.format(model_linear_noise100.score(X_train, y_train)))\n",
    "print('검증 데이터 점수 : {:.2f}'.format(model_linear_noise100.score(X_test, y_test)))"
   ]
  },
  {
   "cell_type": "markdown",
   "metadata": {
    "colab_type": "text",
    "id": "LGE0qOzvY0f-"
   },
   "source": [
    "make_regression을 이용해 가상 데이터를 생성할 때 noise의 값에 따른 결과를 보여주고 있다."
   ]
  },
  {
   "cell_type": "markdown",
   "metadata": {
    "colab_type": "text",
    "id": "Dpgr-H3kLtLT"
   },
   "source": [
    "### 보스턴 주택데이터 예측하기"
   ]
  },
  {
   "cell_type": "code",
   "execution_count": null,
   "metadata": {
    "colab": {},
    "colab_type": "code",
    "executionInfo": {
     "elapsed": 586,
     "status": "ok",
     "timestamp": 1592380565042,
     "user": {
      "displayName": "Ardino Lee",
      "photoUrl": "https://lh3.googleusercontent.com/a-/AOh14GhB_WDJA1NwHt0QGkYj1f8YnMmiS1ZeCBKt3hA2=s64",
      "userId": "09906365095310647737"
     },
     "user_tz": -540
    },
    "id": "-bVrdg9Lxnpp"
   },
   "outputs": [],
   "source": [
    "from sklearn.datasets import load_boston"
   ]
  },
  {
   "cell_type": "code",
   "execution_count": null,
   "metadata": {
    "colab": {
     "base_uri": "https://localhost:8080/",
     "height": 1000
    },
    "colab_type": "code",
    "executionInfo": {
     "elapsed": 611,
     "status": "ok",
     "timestamp": 1592380567872,
     "user": {
      "displayName": "Ardino Lee",
      "photoUrl": "https://lh3.googleusercontent.com/a-/AOh14GhB_WDJA1NwHt0QGkYj1f8YnMmiS1ZeCBKt3hA2=s64",
      "userId": "09906365095310647737"
     },
     "user_tz": -540
    },
    "id": "ZpZwcyfiHNER",
    "outputId": "893d8ece-9b42-4a7d-8021-d345f117fb3d"
   },
   "outputs": [],
   "source": [
    "boston = load_boston()\n",
    "boston"
   ]
  },
  {
   "cell_type": "code",
   "execution_count": null,
   "metadata": {
    "colab": {
     "base_uri": "https://localhost:8080/",
     "height": 251
    },
    "colab_type": "code",
    "executionInfo": {
     "elapsed": 573,
     "status": "ok",
     "timestamp": 1592380571538,
     "user": {
      "displayName": "Ardino Lee",
      "photoUrl": "https://lh3.googleusercontent.com/a-/AOh14GhB_WDJA1NwHt0QGkYj1f8YnMmiS1ZeCBKt3hA2=s64",
      "userId": "09906365095310647737"
     },
     "user_tz": -540
    },
    "id": "_6g6FAriyCqA",
    "outputId": "3cef7a79-510e-421d-ea61-08db0f7490db"
   },
   "outputs": [],
   "source": [
    "boston['data']"
   ]
  },
  {
   "cell_type": "code",
   "execution_count": null,
   "metadata": {
    "colab": {
     "base_uri": "https://localhost:8080/",
     "height": 845
    },
    "colab_type": "code",
    "executionInfo": {
     "elapsed": 707,
     "status": "ok",
     "timestamp": 1592380583381,
     "user": {
      "displayName": "Ardino Lee",
      "photoUrl": "https://lh3.googleusercontent.com/a-/AOh14GhB_WDJA1NwHt0QGkYj1f8YnMmiS1ZeCBKt3hA2=s64",
      "userId": "09906365095310647737"
     },
     "user_tz": -540
    },
    "id": "UVolSnJ2ySsb",
    "outputId": "8d090172-f4e9-43d8-c506-39ee331af254"
   },
   "outputs": [],
   "source": [
    "boston['target']"
   ]
  },
  {
   "cell_type": "code",
   "execution_count": null,
   "metadata": {
    "colab": {
     "base_uri": "https://localhost:8080/",
     "height": 53
    },
    "colab_type": "code",
    "executionInfo": {
     "elapsed": 670,
     "status": "ok",
     "timestamp": 1592380594087,
     "user": {
      "displayName": "Ardino Lee",
      "photoUrl": "https://lh3.googleusercontent.com/a-/AOh14GhB_WDJA1NwHt0QGkYj1f8YnMmiS1ZeCBKt3hA2=s64",
      "userId": "09906365095310647737"
     },
     "user_tz": -540
    },
    "id": "d5G17SvnynLU",
    "outputId": "d23416a1-c1d3-42ea-d4b2-3054f1cb76d7"
   },
   "outputs": [],
   "source": [
    "boston['feature_names']"
   ]
  },
  {
   "cell_type": "code",
   "execution_count": null,
   "metadata": {
    "colab": {
     "base_uri": "https://localhost:8080/",
     "height": 35
    },
    "colab_type": "code",
    "executionInfo": {
     "elapsed": 428,
     "status": "ok",
     "timestamp": 1592380595055,
     "user": {
      "displayName": "Ardino Lee",
      "photoUrl": "https://lh3.googleusercontent.com/a-/AOh14GhB_WDJA1NwHt0QGkYj1f8YnMmiS1ZeCBKt3hA2=s64",
      "userId": "09906365095310647737"
     },
     "user_tz": -540
    },
    "id": "7L_jQuls1BMJ",
    "outputId": "041d9ca7-a6bf-4e7f-d453-f1353667e587"
   },
   "outputs": [],
   "source": [
    "boston['data'].shape, boston['target'].shape"
   ]
  },
  {
   "cell_type": "code",
   "execution_count": null,
   "metadata": {
    "colab": {},
    "colab_type": "code",
    "executionInfo": {
     "elapsed": 509,
     "status": "ok",
     "timestamp": 1592380676086,
     "user": {
      "displayName": "Ardino Lee",
      "photoUrl": "https://lh3.googleusercontent.com/a-/AOh14GhB_WDJA1NwHt0QGkYj1f8YnMmiS1ZeCBKt3hA2=s64",
      "userId": "09906365095310647737"
     },
     "user_tz": -540
    },
    "id": "oqbYWlwfSM3i"
   },
   "outputs": [],
   "source": [
    "train_test_split?"
   ]
  },
  {
   "cell_type": "code",
   "execution_count": null,
   "metadata": {
    "colab": {},
    "colab_type": "code",
    "executionInfo": {
     "elapsed": 578,
     "status": "ok",
     "timestamp": 1592380698685,
     "user": {
      "displayName": "Ardino Lee",
      "photoUrl": "https://lh3.googleusercontent.com/a-/AOh14GhB_WDJA1NwHt0QGkYj1f8YnMmiS1ZeCBKt3hA2=s64",
      "userId": "09906365095310647737"
     },
     "user_tz": -540
    },
    "id": "coJxJNEa1Q3q"
   },
   "outputs": [],
   "source": [
    "from sklearn.model_selection import train_test_split\n",
    "\n",
    "X_train, X_test, y_train, y_test = train_test_split(boston['data'], boston['target'],\n",
    "                                                    test_size=0.2,\n",
    "                                                    shuffle=True)"
   ]
  },
  {
   "cell_type": "code",
   "execution_count": null,
   "metadata": {
    "colab": {},
    "colab_type": "code",
    "executionInfo": {
     "elapsed": 554,
     "status": "ok",
     "timestamp": 1592379145854,
     "user": {
      "displayName": "Ardino Lee",
      "photoUrl": "https://lh3.googleusercontent.com/a-/AOh14GhB_WDJA1NwHt0QGkYj1f8YnMmiS1ZeCBKt3hA2=s64",
      "userId": "09906365095310647737"
     },
     "user_tz": -540
    },
    "id": "SvaIJxdaMKN9"
   },
   "outputs": [],
   "source": [
    "LinearRegression?"
   ]
  },
  {
   "cell_type": "code",
   "execution_count": null,
   "metadata": {
    "colab": {
     "base_uri": "https://localhost:8080/",
     "height": 143
    },
    "colab_type": "code",
    "executionInfo": {
     "elapsed": 575,
     "status": "ok",
     "timestamp": 1592380731798,
     "user": {
      "displayName": "Ardino Lee",
      "photoUrl": "https://lh3.googleusercontent.com/a-/AOh14GhB_WDJA1NwHt0QGkYj1f8YnMmiS1ZeCBKt3hA2=s64",
      "userId": "09906365095310647737"
     },
     "user_tz": -540
    },
    "id": "Nye0BPzd3num",
    "outputId": "583e4a3a-3ebe-49a9-c07a-cb1f0fd05c4b"
   },
   "outputs": [],
   "source": [
    "from sklearn.linear_model import LinearRegression\n",
    "\n",
    "hypothesis = LinearRegression()\n",
    "\n",
    "model_boston = hypothesis.fit(X_train, y_train)\n",
    "\n",
    "print('learning finished..')\n",
    "print('coef_: {}'.format(model_boston.coef_))\n",
    "print()\n",
    "print('bias: {}'.format(model_boston.intercept_))"
   ]
  },
  {
   "cell_type": "code",
   "execution_count": null,
   "metadata": {
    "colab": {
     "base_uri": "https://localhost:8080/",
     "height": 35
    },
    "colab_type": "code",
    "executionInfo": {
     "elapsed": 604,
     "status": "ok",
     "timestamp": 1592380788990,
     "user": {
      "displayName": "Ardino Lee",
      "photoUrl": "https://lh3.googleusercontent.com/a-/AOh14GhB_WDJA1NwHt0QGkYj1f8YnMmiS1ZeCBKt3hA2=s64",
      "userId": "09906365095310647737"
     },
     "user_tz": -540
    },
    "id": "qtNKjlAW56Gf",
    "outputId": "0a5cba6e-4b90-4acb-d122-fcfee7f40b1a"
   },
   "outputs": [],
   "source": [
    "model_boston.score(X_train, y_train), model_boston.score(X_test, y_test)"
   ]
  },
  {
   "cell_type": "code",
   "execution_count": null,
   "metadata": {
    "colab": {
     "base_uri": "https://localhost:8080/",
     "height": 395
    },
    "colab_type": "code",
    "executionInfo": {
     "elapsed": 803,
     "status": "ok",
     "timestamp": 1592380802692,
     "user": {
      "displayName": "Ardino Lee",
      "photoUrl": "https://lh3.googleusercontent.com/a-/AOh14GhB_WDJA1NwHt0QGkYj1f8YnMmiS1ZeCBKt3hA2=s64",
      "userId": "09906365095310647737"
     },
     "user_tz": -540
    },
    "id": "-RfIidFw6G1A",
    "outputId": "eadcec00-dd4e-4794-ad13-6fed26284135"
   },
   "outputs": [],
   "source": [
    "model_boston.predict(X_test)"
   ]
  },
  {
   "cell_type": "code",
   "execution_count": null,
   "metadata": {
    "colab": {},
    "colab_type": "code",
    "id": "IkqUSbqQSsJj"
   },
   "outputs": [],
   "source": []
  }
 ],
 "metadata": {
  "colab": {
   "collapsed_sections": [
    "Uoiuwap-Y0fQ"
   ],
   "name": "01_01 Linear_Regression.ipynb",
   "provenance": []
  },
  "kernelspec": {
   "display_name": "Python 3 (ipykernel)",
   "language": "python",
   "name": "python3"
  },
  "language_info": {
   "codemirror_mode": {
    "name": "ipython",
    "version": 3
   },
   "file_extension": ".py",
   "mimetype": "text/x-python",
   "name": "python",
   "nbconvert_exporter": "python",
   "pygments_lexer": "ipython3",
   "version": "3.9.13"
  },
  "vscode": {
   "interpreter": {
    "hash": "e508c96042fd7b3aa969c1a8875668ac50b0a6c54de6b2bab6d59ac763cd3db2"
   }
  }
 },
 "nbformat": 4,
 "nbformat_minor": 1
}
