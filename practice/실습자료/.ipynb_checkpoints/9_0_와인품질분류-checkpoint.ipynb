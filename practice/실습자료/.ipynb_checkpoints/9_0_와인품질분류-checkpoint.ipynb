{
 "cells": [
  {
   "cell_type": "markdown",
   "metadata": {},
   "source": [
    "# 와인 품질(Quality) 분류 경진대회\n",
    "\n",
    "- https://dacon.io/competitions/open/235610/overview/description\n",
    "\n",
    "- 목표 : 와인 품질 분류 머신러닝 모델 개발"
   ]
  },
  {
   "cell_type": "markdown",
   "metadata": {},
   "source": [
    "## 패키지 Import\n",
    "\n",
    "데이터과학 기본\n",
    "- numpy\n",
    "- pandas"
   ]
  },
  {
   "cell_type": "code",
   "execution_count": null,
   "metadata": {},
   "outputs": [],
   "source": [
    "import numpy as np\n",
    "import pandas as pd"
   ]
  },
  {
   "cell_type": "markdown",
   "metadata": {},
   "source": [
    "### 데이터 불러오기\n",
    "\n",
    "1. 다운로드 받은 train.csv 파일의 경로를 입력해서 데이터를 가져와주세요 ! (DATA_DIR)\n",
    "\n",
    "\n",
    "- 데이터 구조\n",
    "    - index 구분자\n",
    "    - quality 품질\n",
    "    - fixed acidity 산도\n",
    "    - volatile acidity 휘발성산\n",
    "    - citric acid 시트르산\n",
    "    - residual sugar 잔당 : 발효 후 와인 속에 남아있는 당분\n",
    "    - chlorides 염화물\n",
    "    - free sulfur dioxide 독립 이산화황\n",
    "    - total sulfur dioxide 총 이산화황\n",
    "    - density 밀도\n",
    "    - pH 수소이온농도\n",
    "    - sulphates 황산염\n",
    "    - alcohol 도수\n",
    "    - type 종류"
   ]
  },
  {
   "cell_type": "code",
   "execution_count": null,
   "metadata": {},
   "outputs": [],
   "source": [
    "DATA_DIR = 'https://dacon.io/competitions/open/235610/overview/description'"
   ]
  },
  {
   "cell_type": "code",
   "execution_count": null,
   "metadata": {},
   "outputs": [],
   "source": [
    "df_wine = pd.read_csv(f\"{DATA_DIR}/train.csv\", index_col=0)\n",
    "df_wine.head()"
   ]
  },
  {
   "cell_type": "markdown",
   "metadata": {},
   "source": [
    "### EDA\n",
    "\n",
    "시각화\n",
    "- matplotlib\n",
    "- seaborn\n",
    "\n",
    "1. 데이터의 열 별 정보를 확인 (결측치 확인)\n",
    "2. 변수간 상관관계 확인\n",
    "3. 변수 별 분포 확인"
   ]
  },
  {
   "cell_type": "code",
   "execution_count": null,
   "metadata": {},
   "outputs": [],
   "source": [
    "%matplotlib inline\n",
    "from matplotlib import pyplot as plt\n",
    "import seaborn as sns\n",
    "\n",
    "#경고 메시지 숨기기\n",
    "import warnings\n",
    "warnings.filterwarnings(action='ignore')"
   ]
  },
  {
   "cell_type": "code",
   "execution_count": null,
   "metadata": {},
   "outputs": [],
   "source": [
    "df_wine.info()"
   ]
  },
  {
   "cell_type": "code",
   "execution_count": null,
   "metadata": {},
   "outputs": [],
   "source": [
    "# seaborn의 heatmap함수를 통해 불러온 데이터프레임의 상관계수들을 시각화해주세요 ! \n",
    "# 데이터프레임 corr() 메서드\n",
    "plt.figure(figsize=(12, 12))\n",
    "sns.heatmap(data={여기에 코드를 입력해주세요.}, annot=True)"
   ]
  },
  {
   "cell_type": "code",
   "execution_count": null,
   "metadata": {},
   "outputs": [],
   "source": [
    "# 각 칼럼별 분포 확인\n",
    "plt.figure(figsize=(12, 12))\n",
    "for i in range(12):\n",
    "    plt.subplot(3, 4, i+1)\n",
    "    sns.distplot(df_wine.iloc[:, i])\n",
    "plt.tight_layout()\n",
    "plt.show()"
   ]
  },
  {
   "cell_type": "markdown",
   "metadata": {},
   "source": [
    "### 데이터 전처리\n",
    "\n",
    "1. Scaler\n",
    "2. 범주형 변수 처리\n",
    "\n",
    "+ 제출 후, 추가적인 전처리를 해보세요 !"
   ]
  },
  {
   "cell_type": "code",
   "execution_count": null,
   "metadata": {},
   "outputs": [],
   "source": [
    "from sklearn.preprocessing import LabelEncoder\n",
    "from sklearn.preprocessing import StandardScaler"
   ]
  },
  {
   "cell_type": "code",
   "execution_count": null,
   "metadata": {},
   "outputs": [],
   "source": [
    "df_wine.columns"
   ]
  },
  {
   "cell_type": "code",
   "execution_count": null,
   "metadata": {},
   "outputs": [],
   "source": [
    "sds = StandardScaler()\n",
    "\n",
    "# 숫자형 칼럼만 넣어주세요 !\n",
    "numeric_columns = []\n",
    "\n",
    "df_wine_norm = sds.fit_transform(df_wine[numeric_columns])"
   ]
  },
  {
   "cell_type": "code",
   "execution_count": null,
   "metadata": {},
   "outputs": [],
   "source": [
    "enc = LabelEncoder()\n",
    "train_data = np.hstack([df_wine_norm, enc.fit_transform(df_wine['type']).reshape(-1, 1)])\n",
    "\n",
    "# 위의 scaler와 encoder는 test 데이터셋에도 동일하게 적용해야 합니다."
   ]
  },
  {
   "cell_type": "code",
   "execution_count": null,
   "metadata": {},
   "outputs": [],
   "source": [
    "train_data.shape\n",
    "#5497, 12"
   ]
  },
  {
   "cell_type": "markdown",
   "metadata": {},
   "source": [
    "### 모델링\n",
    "\n",
    "1. Logistic Regression (로지스틱 회귀)\n",
    "2. Decision Tree (의사결정 나무)\n",
    "3. Random Forest (랜덤포레스트)\n",
    "4. XGBoost (XGBoost)"
   ]
  },
  {
   "cell_type": "code",
   "execution_count": null,
   "metadata": {},
   "outputs": [],
   "source": [
    "from sklearn.linear_model import LogisticRegression\n",
    "from sklearn.tree import DecisionTreeClassifier\n",
    "from sklearn.ensemble import RandomForestClassifier\n",
    "# import xgboost as xgb"
   ]
  },
  {
   "cell_type": "code",
   "execution_count": null,
   "metadata": {},
   "outputs": [],
   "source": [
    "model_lr = LogisticRegression()\n",
    "model_dt = DecisionTreeClassifier(criterion = 'entropy', max_depth = 1, random_state = 0)\n",
    "model_rf = RandomForestClassifier(n_estimators = 8, random_state = 0)\n",
    "# model_xgb = xgb.XGBClassifier()"
   ]
  },
  {
   "cell_type": "markdown",
   "metadata": {},
   "source": [
    "### 학습\n",
    "\n",
    "1. 데이터를 학습, 검증데이터로 분리해주세요 !\n",
    "2. 학습데이터에서 독립변수와 종속변수와를 구분하고 모델을 학습시켜주세요.\n",
    "3. 검증데이터로 점수를 확인해보세요 !  \n",
    "    3-1. 랜덤포레스트, XGBoost는 Feature Importance도 확인해주세요 !\n",
    "4. 하이퍼파라미터 튜닝을 해보세요.\n",
    "    - GridSeacrCV"
   ]
  },
  {
   "cell_type": "code",
   "execution_count": null,
   "metadata": {},
   "outputs": [],
   "source": [
    "from sklearn.model_selection import train_test_split"
   ]
  },
  {
   "cell_type": "code",
   "execution_count": null,
   "metadata": {},
   "outputs": [],
   "source": [
    "# 위에처 전처리한 학습 데이터와 타겟변수를 넣어주세요 !\n",
    "train_x, valid_x, train_y, valid_y = train_test_split(전처리한 학습 데이터, 타겟 변수, \n",
    "                                                        test_size=0.2, shuffle=True)"
   ]
  },
  {
   "cell_type": "code",
   "execution_count": null,
   "metadata": {},
   "outputs": [],
   "source": [
    "model_lr.fit(train_x, train_y)\n",
    "model_dt.fit(train_x, train_y)\n",
    "model_rf.fit(train_x, train_y)\n",
    "# model_xgb.fit(train_x, train_y)"
   ]
  },
  {
   "cell_type": "code",
   "execution_count": null,
   "metadata": {},
   "outputs": [],
   "source": [
    "print('train score : {:.3f}'.format(model_lr.score(train_x, train_y)))\n",
    "print('test socre : {:.3f}'.format(model_lr.score(valid_x, valid_y)))"
   ]
  },
  {
   "cell_type": "code",
   "execution_count": null,
   "metadata": {},
   "outputs": [],
   "source": [
    "print('train score : {:.3f}'.format(model_dt.score(train_x, train_y)))\n",
    "print('test socre : {:.3f}'.format(model_dt.score(valid_x, valid_y)))"
   ]
  },
  {
   "cell_type": "code",
   "execution_count": null,
   "metadata": {},
   "outputs": [],
   "source": [
    "print('train score : {:.3f}'.format(model_rf.score(train_x, train_y)))\n",
    "print('test socre : {:.3f}'.format(model_rf.score(valid_x, valid_y)))"
   ]
  },
  {
   "cell_type": "code",
   "execution_count": null,
   "metadata": {},
   "outputs": [],
   "source": [
    "# print('train score : {:.3f}'.format(model_xgb.score(train_x, train_y)))\n",
    "# print('test socre : {:.3f}'.format(model_xgb.score(valid_x, valid_y)))"
   ]
  },
  {
   "cell_type": "markdown",
   "metadata": {},
   "source": [
    "### 추론\n",
    "\n",
    "- test.csv 파일을 불러와서 독립변수와 종속변수를 분리해주세요 !\n",
    "- 학습할 떄 사용한 전처리를 해주세요 !\n",
    "- 학습한 모델을 토대로 Quality를 예측해주세요 !"
   ]
  },
  {
   "cell_type": "code",
   "execution_count": null,
   "metadata": {},
   "outputs": [],
   "source": [
    "df_test = pd.read_csv(f\"{DATA_DIR}/test.csv\", index_col=0)\n",
    "\n",
    "df_test_norm = sds.fit_transform(df_test[numeric_columns])\n",
    "test_data = np.hstack([df_test_norm, enc.fit_transform(df_test['type']).reshape(-1, 1)])\n",
    "\n",
    "# 여기선 random forest로만 예측합니다. 다른 모델들로도 예측해보세요 !\n",
    "y_pred = model_rf.predict(test_data)"
   ]
  },
  {
   "cell_type": "markdown",
   "metadata": {},
   "source": [
    "### 검정\n",
    "\n",
    "- submission.csv 파일을 불러와 예측한 결과를 quality 열에 넣어주세요 !"
   ]
  },
  {
   "cell_type": "code",
   "execution_count": null,
   "metadata": {},
   "outputs": [],
   "source": [
    "df_submission = pd.read_csv(f\"{DATA_DIR}/sample_submission.csv\")"
   ]
  },
  {
   "cell_type": "code",
   "execution_count": null,
   "metadata": {},
   "outputs": [],
   "source": [
    "df_submission['quality'] = y_pred"
   ]
  },
  {
   "cell_type": "code",
   "execution_count": null,
   "metadata": {},
   "outputs": [],
   "source": [
    "df_submission.to_csv('my_submission.csv', index=False)"
   ]
  },
  {
   "cell_type": "markdown",
   "metadata": {},
   "source": [
    "### 제출\n",
    "\n",
    "- 경진대회 사이트에 제출해주세요 !"
   ]
  }
 ],
 "metadata": {
  "kernelspec": {
   "display_name": "Python 3 (ipykernel)",
   "language": "python",
   "name": "python3"
  },
  "language_info": {
   "codemirror_mode": {
    "name": "ipython",
    "version": 3
   },
   "file_extension": ".py",
   "mimetype": "text/x-python",
   "name": "python",
   "nbconvert_exporter": "python",
   "pygments_lexer": "ipython3",
   "version": "3.9.7"
  },
  "vscode": {
   "interpreter": {
    "hash": "e508c96042fd7b3aa969c1a8875668ac50b0a6c54de6b2bab6d59ac763cd3db2"
   }
  }
 },
 "nbformat": 4,
 "nbformat_minor": 2
}
