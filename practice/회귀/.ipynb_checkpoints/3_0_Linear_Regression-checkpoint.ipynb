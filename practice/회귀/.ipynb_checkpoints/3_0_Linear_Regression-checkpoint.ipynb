{
 "cells": [
  {
   "cell_type": "markdown",
   "metadata": {
    "colab_type": "text",
    "id": "JPdPyjLuY0ev"
   },
   "source": [
    "# 1. Linear Regression"
   ]
  },
  {
   "cell_type": "markdown",
   "metadata": {
    "colab_type": "text",
    "id": "BMEMDE-bL7fe"
   },
   "source": [
    "### 가상의 데이터로 예측하기"
   ]
  },
  {
   "cell_type": "code",
   "execution_count": 1,
   "metadata": {
    "colab": {},
    "colab_type": "code",
    "executionInfo": {
     "elapsed": 1031,
     "status": "ok",
     "timestamp": 1592379122942,
     "user": {
      "displayName": "Ardino Lee",
      "photoUrl": "https://lh3.googleusercontent.com/a-/AOh14GhB_WDJA1NwHt0QGkYj1f8YnMmiS1ZeCBKt3hA2=s64",
      "userId": "09906365095310647737"
     },
     "user_tz": -540
    },
    "id": "urnyUV0WY0e0"
   },
   "outputs": [],
   "source": [
    "from sklearn.datasets import make_regression"
   ]
  },
  {
   "cell_type": "markdown",
   "metadata": {
    "colab_type": "text",
    "id": "mJoJL8aYY0e8"
   },
   "source": [
    "-  Scikit-Learn의 datasets 서브패키지는 회귀분석용 가상 데이터를 생성하는 명령어인 make_regression()을 제공한다.\n",
    "- make_regression()으로 만들어진 데이터는 종속 변수 y의 값이 독립변수 x 벡터의 선형 조합인 선형관계를 가진다."
   ]
  },
  {
   "cell_type": "code",
   "execution_count": 2,
   "metadata": {
    "colab": {},
    "colab_type": "code",
    "executionInfo": {
     "elapsed": 1021,
     "status": "ok",
     "timestamp": 1592379122944,
     "user": {
      "displayName": "Ardino Lee",
      "photoUrl": "https://lh3.googleusercontent.com/a-/AOh14GhB_WDJA1NwHt0QGkYj1f8YnMmiS1ZeCBKt3hA2=s64",
      "userId": "09906365095310647737"
     },
     "user_tz": -540
    },
    "id": "1yEpBrFkY0e9"
   },
   "outputs": [],
   "source": [
    "# 가상의 데이터 생성\n",
    "data = make_regression(n_samples = 1000, n_features = 1, bias = 1000, noise = 50) \n",
    "# 1000개의 데이터, 1개의 특성 가진 데이터 셋을 생성합니다.\n",
    "\n",
    "#X_1 -> data[0] / y_1 -> data[1]"
   ]
  },
  {
   "cell_type": "code",
   "execution_count": 3,
   "metadata": {
    "colab": {
     "base_uri": "https://localhost:8080/",
     "height": 287
    },
    "colab_type": "code",
    "executionInfo": {
     "elapsed": 983,
     "status": "ok",
     "timestamp": 1592379122945,
     "user": {
      "displayName": "Ardino Lee",
      "photoUrl": "https://lh3.googleusercontent.com/a-/AOh14GhB_WDJA1NwHt0QGkYj1f8YnMmiS1ZeCBKt3hA2=s64",
      "userId": "09906365095310647737"
     },
     "user_tz": -540
    },
    "id": "fn2uoYwjiW_D",
    "outputId": "7602c14f-cde8-4943-9044-75f38df0eb70"
   },
   "outputs": [
    {
     "name": "stdout",
     "output_type": "stream",
     "text": [
      "input data :\n",
      "[[-0.62685831]\n",
      " [ 0.64760339]\n",
      " [ 0.10335028]\n",
      " [ 1.47505882]\n",
      " [-1.91263655]\n",
      " [-0.664963  ]\n",
      " [-0.01794092]\n",
      " [ 0.7345895 ]\n",
      " [ 0.2279745 ]\n",
      " [-0.11176191]], \n",
      "\n",
      " output data :\n",
      "[1076.88411693 1193.9510187  1060.13459344 1028.61915171  838.6690731\n",
      "  881.38521579  976.3907628  1002.45656355  971.12930736  991.22016607]\n"
     ]
    }
   ],
   "source": [
    "print('input data :\\n{}, \\n\\n output data :\\n{}'.format(data[0][-10:], data[1][-10:]))"
   ]
  },
  {
   "cell_type": "markdown",
   "metadata": {
    "colab_type": "text",
    "id": "bVZmSzSNY0fA"
   },
   "source": [
    "- n_samples : 기본값은 100, 표본 데이터의 갯수, 정수  \n",
    "- n_features : 기본값은 100, 독립변수의 수(차원), 정수  \n",
    "- n_target : 기본값은 1, 종속변수의 수, 정수  \n",
    "- bias = 기본값은 0.0, y절편, 실수   \n",
    "- noise = 기본값은 0.0, 분포 "
   ]
  },
  {
   "cell_type": "code",
   "execution_count": 4,
   "metadata": {
    "colab": {
     "base_uri": "https://localhost:8080/",
     "height": 265
    },
    "colab_type": "code",
    "executionInfo": {
     "elapsed": 1315,
     "status": "ok",
     "timestamp": 1592379123301,
     "user": {
      "displayName": "Ardino Lee",
      "photoUrl": "https://lh3.googleusercontent.com/a-/AOh14GhB_WDJA1NwHt0QGkYj1f8YnMmiS1ZeCBKt3hA2=s64",
      "userId": "09906365095310647737"
     },
     "user_tz": -540
    },
    "id": "0MuDcNGrY0fB",
    "outputId": "b22aa85c-1ac1-45ab-9023-e387f01825f2",
    "scrolled": true
   },
   "outputs": [
    {
     "data": {
      "image/png": "[encoded data removed]",
      "text/plain": [
       "<Figure size 432x288 with 1 Axes>"
      ]
     },
     "metadata": {
      "needs_background": "light"
     },
     "output_type": "display_data"
    }
   ],
   "source": [
    "# 위에서 생성한 가상 데이터 셋을 그래프위에 그려 보았습니다.\n",
    "from matplotlib import pyplot as plt\n",
    "%matplotlib inline\n",
    "plt.scatter(data[0], data[1])\n",
    "plt.show()"
   ]
  },
  {
   "cell_type": "markdown",
   "metadata": {
    "colab_type": "text",
    "id": "0nSwUoadY0fD"
   },
   "source": [
    "#### 선형 모델을 만들어 보자."
   ]
  },
  {
   "cell_type": "code",
   "execution_count": null,
   "metadata": {
    "colab": {},
    "colab_type": "code",
    "executionInfo": {
     "elapsed": 1306,
     "status": "ok",
     "timestamp": 1592379123302,
     "user": {
      "displayName": "Ardino Lee",
      "photoUrl": "https://lh3.googleusercontent.com/a-/AOh14GhB_WDJA1NwHt0QGkYj1f8YnMmiS1ZeCBKt3hA2=s64",
      "userId": "09906365095310647737"
     },
     "user_tz": -540
    },
    "id": "D2wn21HVY0fD"
   },
   "outputs": [],
   "source": [
    "from sklearn.model_selection import train_test_split\n",
    "# train_test_split은 데이터를 학습용 데이터와 검증용 데이터로 분리시켜줍니다.\n",
    "\n",
    "X_train, X_test, y_train, y_test = train_test_split(data[0], data[1], test_size = 0.2, shuffle = True)\n",
    "\n",
    "# 생성한 가상의 데이터를 훈련용 데이터와 검증 데이터로 나눠주는 과정입니다."
   ]
  },
  {
   "cell_type": "markdown",
   "metadata": {
    "colab_type": "text",
    "id": "3VGi8Zq1Y0fF"
   },
   "source": [
    "- train_test_split(data, data2, test_size, train_size, shuffle, random_state)  \n",
    "  data: 독립변수 데이터  \n",
    "  data2: 종속변수 데이터 (data 인수에 종속변수가 포함되어 있다면 생략해도 된다.)  \n",
    "  test_size: 검증용 데이터의 개수. 1이하의 실수로 표현하면 비율을 나타낸다. (기본값은 0.25)  \n",
    "  train_size : 학습용 데이터의 개수. 1이하의 실수로 표현하면 비율을 나타낸다.(test_size와 train_size 중 하나만 사용해도 된다.)  \n",
    "  shuffle: 데이터를 섞어준다. (기본값은 True)  \n",
    "  random_state: 난수를 생성해준다."
   ]
  },
  {
   "cell_type": "code",
   "execution_count": null,
   "metadata": {
    "colab": {},
    "colab_type": "code",
    "executionInfo": {
     "elapsed": 1809,
     "status": "ok",
     "timestamp": 1592379123812,
     "user": {
      "displayName": "Ardino Lee",
      "photoUrl": "https://lh3.googleusercontent.com/a-/AOh14GhB_WDJA1NwHt0QGkYj1f8YnMmiS1ZeCBKt3hA2=s64",
      "userId": "09906365095310647737"
     },
     "user_tz": -540
    },
    "id": "fr8N2T4ZY0fG"
   },
   "outputs": [],
   "source": [
    "# 선형회귀(Linear Regression)\n",
    "\n",
    "from sklearn.linear_model import LinearRegression\n",
    "# LinearRegression을 import 합니다.\n",
    "\n",
    "hypothesis = LinearRegression()\n",
    "# import한 LinearRegression을 model이라는 변수에 대입한다.\n",
    "# 굳이 별도의 변수에 넣어주지 않고 LinearRegression() 으로 사용해도 무방합니다. 여기서는 설명을 위해 변수에 대입하였습니다.\n",
    "\n",
    "# model에는 W1 * X1 + W0 (선형회귀의 기본 Hypothesis)가 생략되어 있습니다."
   ]
  },
  {
   "cell_type": "markdown",
   "metadata": {
    "colab_type": "text",
    "id": "USZgb7TSY0fI"
   },
   "source": [
    "#### 생성한 모델을 학습시켜보자."
   ]
  },
  {
   "cell_type": "code",
   "execution_count": null,
   "metadata": {
    "colab": {},
    "colab_type": "code",
    "executionInfo": {
     "elapsed": 1808,
     "status": "ok",
     "timestamp": 1592379123816,
     "user": {
      "displayName": "Ardino Lee",
      "photoUrl": "https://lh3.googleusercontent.com/a-/AOh14GhB_WDJA1NwHt0QGkYj1f8YnMmiS1ZeCBKt3hA2=s64",
      "userId": "09906365095310647737"
     },
     "user_tz": -540
    },
    "id": "w1u6npHHY0fJ"
   },
   "outputs": [],
   "source": [
    "model_linear = hypothesis.fit(X_train, y_train)\n",
    "# fit()은 모델을 학습시키는 명령입니다.\n",
    "\n",
    "# cost = avg((model - y)**2) 생략된 코드입니다. (예측값에서 결과값을 뺀 평균 즉, cost를 구하는 것)\n",
    "# for i in range(10000):\n",
    "#     gradDecent(cost)  구한 cost값을 이용해서 gradient Descent 실행\n",
    "# 생략된 과정들이 fit()안에 들어 있습니다."
   ]
  },
  {
   "cell_type": "markdown",
   "metadata": {
    "colab_type": "text",
    "id": "PfE0J_XrY0fL"
   },
   "source": [
    "#### 생성한 모델의 weight(가중치, 계수)와 bias를 출력해보자."
   ]
  },
  {
   "cell_type": "code",
   "execution_count": null,
   "metadata": {
    "colab": {
     "base_uri": "https://localhost:8080/",
     "height": 35
    },
    "colab_type": "code",
    "executionInfo": {
     "elapsed": 1789,
     "status": "ok",
     "timestamp": 1592379123819,
     "user": {
      "displayName": "Ardino Lee",
      "photoUrl": "https://lh3.googleusercontent.com/a-/AOh14GhB_WDJA1NwHt0QGkYj1f8YnMmiS1ZeCBKt3hA2=s64",
      "userId": "09906365095310647737"
     },
     "user_tz": -540
    },
    "id": "ZNbAGNoAY0fM",
    "outputId": "c7fb4524-60a3-417c-9648-ed738504e3ef"
   },
   "outputs": [],
   "source": [
    "model_linear.coef_\n",
    "# coef_ 속성은 각 입력 특성에 하나씩 대응되는 Numpy 배열입니다.\n",
    "# 우리가 생성한 데이터에는 입력 특성이 하나이므로 하나만 출력됩니다.\n",
    "# coef_ 는 weight값을 보여줍니다."
   ]
  },
  {
   "cell_type": "code",
   "execution_count": null,
   "metadata": {
    "colab": {
     "base_uri": "https://localhost:8080/",
     "height": 35
    },
    "colab_type": "code",
    "executionInfo": {
     "elapsed": 1762,
     "status": "ok",
     "timestamp": 1592379123821,
     "user": {
      "displayName": "Ardino Lee",
      "photoUrl": "https://lh3.googleusercontent.com/a-/AOh14GhB_WDJA1NwHt0QGkYj1f8YnMmiS1ZeCBKt3hA2=s64",
      "userId": "09906365095310647737"
     },
     "user_tz": -540
    },
    "id": "Qr7V-GwtY0fO",
    "outputId": "01d5b43f-e46a-4941-89a5-febeecfbca23"
   },
   "outputs": [],
   "source": [
    "model_linear.intercept_\n",
    "# intercept_ 속성은 항상 실수 값 하나입니다.\n",
    "# intercept_ 는 bias(y 절편)값을 보여줍니다."
   ]
  },
  {
   "cell_type": "markdown",
   "metadata": {
    "colab_type": "text",
    "id": "Uoiuwap-Y0fQ"
   },
   "source": [
    "#### 우리가 생성한 모델을 검증 해보자."
   ]
  },
  {
   "cell_type": "markdown",
   "metadata": {
    "colab_type": "text",
    "id": "Qj-q1LttY0fR"
   },
   "source": [
    "- score()로 모델을 검증할 수 있다."
   ]
  },
  {
   "cell_type": "code",
   "execution_count": null,
   "metadata": {
    "colab": {
     "base_uri": "https://localhost:8080/",
     "height": 53
    },
    "colab_type": "code",
    "executionInfo": {
     "elapsed": 1739,
     "status": "ok",
     "timestamp": 1592379123823,
     "user": {
      "displayName": "Ardino Lee",
      "photoUrl": "https://lh3.googleusercontent.com/a-/AOh14GhB_WDJA1NwHt0QGkYj1f8YnMmiS1ZeCBKt3hA2=s64",
      "userId": "09906365095310647737"
     },
     "user_tz": -540
    },
    "id": "P-6rYKx8Y0fR",
    "outputId": "c3e47ad8-dc22-4c22-ff59-1ee02f0564e4"
   },
   "outputs": [],
   "source": [
    "print(\"train data score : {:.2f}\".format(model_linear.score(X_train, y_train)))\n",
    "print(\"test data score : {:.2f}\".format(model_linear.score(X_test, y_test)))"
   ]
  },
  {
   "cell_type": "code",
   "execution_count": null,
   "metadata": {
    "colab": {},
    "colab_type": "code",
    "executionInfo": {
     "elapsed": 1733,
     "status": "ok",
     "timestamp": 1592379123825,
     "user": {
      "displayName": "Ardino Lee",
      "photoUrl": "https://lh3.googleusercontent.com/a-/AOh14GhB_WDJA1NwHt0QGkYj1f8YnMmiS1ZeCBKt3hA2=s64",
      "userId": "09906365095310647737"
     },
     "user_tz": -540
    },
    "id": "f51mnFAWqnSq"
   },
   "outputs": [],
   "source": [
    "#Trainset data 와 함께, Hypothesis (직선) 시각화해보기\n",
    "#Testset data 와 함께, Hypothesis (직선) 시각화해보기"
   ]
  },
  {
   "cell_type": "code",
   "execution_count": null,
   "metadata": {
    "colab": {},
    "colab_type": "code",
    "executionInfo": {
     "elapsed": 1734,
     "status": "ok",
     "timestamp": 1592379123830,
     "user": {
      "displayName": "Ardino Lee",
      "photoUrl": "https://lh3.googleusercontent.com/a-/AOh14GhB_WDJA1NwHt0QGkYj1f8YnMmiS1ZeCBKt3hA2=s64",
      "userId": "09906365095310647737"
     },
     "user_tz": -540
    },
    "id": "3GtppRvCY0fU"
   },
   "outputs": [],
   "source": [
    "from sklearn.metrics import mean_squared_error, r2_score\n",
    "# 회귀 평가 지표인 mean squared error, R2 score를 불러옵니다.\n",
    "\n",
    "y_predict = model_linear.predict(X_test)\n",
    "# predcit() 명령어를 사용하여 y값을 예측합니다."
   ]
  },
  {
   "cell_type": "code",
   "execution_count": null,
   "metadata": {
    "colab": {},
    "colab_type": "code",
    "executionInfo": {
     "elapsed": 1732,
     "status": "ok",
     "timestamp": 1592379123832,
     "user": {
      "displayName": "Ardino Lee",
      "photoUrl": "https://lh3.googleusercontent.com/a-/AOh14GhB_WDJA1NwHt0QGkYj1f8YnMmiS1ZeCBKt3hA2=s64",
      "userId": "09906365095310647737"
     },
     "user_tz": -540
    },
    "id": "rynH2-RmY0fW"
   },
   "outputs": [],
   "source": [
    "mse = mean_squared_error(y_test, y_predict)\n",
    "# 실제 값과 예측값을 이용하여 mean squared error를 측정합니다."
   ]
  },
  {
   "cell_type": "code",
   "execution_count": null,
   "metadata": {
    "colab": {},
    "colab_type": "code",
    "executionInfo": {
     "elapsed": 1387,
     "status": "ok",
     "timestamp": 1592379123834,
     "user": {
      "displayName": "Ardino Lee",
      "photoUrl": "https://lh3.googleusercontent.com/a-/AOh14GhB_WDJA1NwHt0QGkYj1f8YnMmiS1ZeCBKt3hA2=s64",
      "userId": "09906365095310647737"
     },
     "user_tz": -540
    },
    "id": "QubvGM12Y0fY"
   },
   "outputs": [],
   "source": [
    "import numpy as np\n",
    "rmse = np.sqrt(mse)\n",
    "# root mean squared error를 측정할 수 있습니다.\n",
    "# sqrt는 루트를 씌워주는 명령어입니다."
   ]
  },
  {
   "cell_type": "code",
   "execution_count": null,
   "metadata": {
    "colab": {
     "base_uri": "https://localhost:8080/",
     "height": 35
    },
    "colab_type": "code",
    "executionInfo": {
     "elapsed": 1042,
     "status": "ok",
     "timestamp": 1592379124618,
     "user": {
      "displayName": "Ardino Lee",
      "photoUrl": "https://lh3.googleusercontent.com/a-/AOh14GhB_WDJA1NwHt0QGkYj1f8YnMmiS1ZeCBKt3hA2=s64",
      "userId": "09906365095310647737"
     },
     "user_tz": -540
    },
    "id": "A_0cHZ3fY0fa",
    "outputId": "d49046c2-c2f4-4afb-c5de-f61a0df3c731"
   },
   "outputs": [],
   "source": [
    "print('MSE : {:.3f}, RMSE : {:.3f}'.format(mse, rmse))"
   ]
  },
  {
   "cell_type": "code",
   "execution_count": null,
   "metadata": {
    "colab": {
     "base_uri": "https://localhost:8080/",
     "height": 35
    },
    "colab_type": "code",
    "executionInfo": {
     "elapsed": 698,
     "status": "ok",
     "timestamp": 1592379124903,
     "user": {
      "displayName": "Ardino Lee",
      "photoUrl": "https://lh3.googleusercontent.com/a-/AOh14GhB_WDJA1NwHt0QGkYj1f8YnMmiS1ZeCBKt3hA2=s64",
      "userId": "09906365095310647737"
     },
     "user_tz": -540
    },
    "id": "zx8skmxvY0fd",
    "outputId": "e760dba0-6f26-4ad1-8eb1-a0b5ff1c27dd"
   },
   "outputs": [],
   "source": [
    "print('test data score : {:.2f}'.format(r2_score(y_test, y_predict)))\n",
    "# 실제값과 직접 만들어본 예측값을 이용하여 모델의 성능을 측정할 수 있습니다."
   ]
  },
  {
   "cell_type": "markdown",
   "metadata": {
    "colab_type": "text",
    "id": "8ayU4y0gY0fg"
   },
   "source": [
    "- score(X_test, y_test)를 실행하게 되면 내부함수에서 X_test를 이용하여 예측값을 생성합니다. 그 후 생성된 예측값과 y_test(실제값)을 이용하여 성능을 검증해줍니다.  \n",
    "- 모델의 성능만을 측정할때는 위의 번거러운 과정없이 score함수만을 활용하면 됩니다."
   ]
  },
  {
   "cell_type": "markdown",
   "metadata": {
    "colab_type": "text",
    "id": "h7db6M2wY0fg"
   },
   "source": [
    "#### Linear Regression with Multi-Variable"
   ]
  },
  {
   "cell_type": "markdown",
   "metadata": {
    "colab_type": "text",
    "id": "xt4lm1VkY0fh"
   },
   "source": [
    "앞에서는 1개의 특성(feature)을 가진 데이터 셋으로 선형회귀를 해보았다. 지금부터는 여러개의 특성을 가진 데이터 셋으로 션형회귀를 해보자."
   ]
  },
  {
   "cell_type": "code",
   "execution_count": null,
   "metadata": {
    "colab": {
     "base_uri": "https://localhost:8080/",
     "height": 395
    },
    "colab_type": "code",
    "executionInfo": {
     "elapsed": 1316,
     "status": "ok",
     "timestamp": 1592379128172,
     "user": {
      "displayName": "Ardino Lee",
      "photoUrl": "https://lh3.googleusercontent.com/a-/AOh14GhB_WDJA1NwHt0QGkYj1f8YnMmiS1ZeCBKt3hA2=s64",
      "userId": "09906365095310647737"
     },
     "user_tz": -540
    },
    "id": "-iYnh6KwY0fi",
    "outputId": "f1d6d51f-648f-43c2-e7e8-a3e4220b60ce"
   },
   "outputs": [],
   "source": [
    "X_multi, y_multi = make_regression(n_samples = 1000, n_features = 100, bias = 10, noise = 50)\n",
    "\n",
    "print('input data : \\n{}, \\n\\n output data : \\n{}'.format(X_multi[:1], y_multi[:1]))"
   ]
  },
  {
   "cell_type": "markdown",
   "metadata": {
    "colab_type": "text",
    "id": "Z6XgjQgJY0fk"
   },
   "source": [
    "여기서는 input data를 살펴보도록 하자.  \n",
    "1개의 input data에 100개의 각각 다른 값들이 들어있다. 그 이유는 n_features = 100, 즉 100개의 특성을 가지고 있는 데이터이다."
   ]
  },
  {
   "cell_type": "code",
   "execution_count": null,
   "metadata": {
    "colab": {},
    "colab_type": "code",
    "executionInfo": {
     "elapsed": 974,
     "status": "ok",
     "timestamp": 1592379128176,
     "user": {
      "displayName": "Ardino Lee",
      "photoUrl": "https://lh3.googleusercontent.com/a-/AOh14GhB_WDJA1NwHt0QGkYj1f8YnMmiS1ZeCBKt3hA2=s64",
      "userId": "09906365095310647737"
     },
     "user_tz": -540
    },
    "id": "E7EIk2LbY0fk"
   },
   "outputs": [],
   "source": [
    "X_train, X_test, y_train, y_test = train_test_split(X_multi, y_multi, test_size = 0.3, shuffle = True)\n",
    "# 생성한 가상의 데이터를 학습용과 검증용으로 나눠줍니다."
   ]
  },
  {
   "cell_type": "code",
   "execution_count": null,
   "metadata": {
    "colab": {},
    "colab_type": "code",
    "executionInfo": {
     "elapsed": 1161,
     "status": "ok",
     "timestamp": 1592379128552,
     "user": {
      "displayName": "Ardino Lee",
      "photoUrl": "https://lh3.googleusercontent.com/a-/AOh14GhB_WDJA1NwHt0QGkYj1f8YnMmiS1ZeCBKt3hA2=s64",
      "userId": "09906365095310647737"
     },
     "user_tz": -540
    },
    "id": "XYvsV_P1Y0fm"
   },
   "outputs": [],
   "source": [
    "hypothesis_multi = LinearRegression()\n",
    "# hypothesis = W0 + W1 * X1 + W2 * X2 + ... + W10 * X10\n",
    "# weight의 값은 10개 bias는 11개로 구성되어 있다."
   ]
  },
  {
   "cell_type": "code",
   "execution_count": null,
   "metadata": {
    "colab": {},
    "colab_type": "code",
    "executionInfo": {
     "elapsed": 959,
     "status": "ok",
     "timestamp": 1592379128554,
     "user": {
      "displayName": "Ardino Lee",
      "photoUrl": "https://lh3.googleusercontent.com/a-/AOh14GhB_WDJA1NwHt0QGkYj1f8YnMmiS1ZeCBKt3hA2=s64",
      "userId": "09906365095310647737"
     },
     "user_tz": -540
    },
    "id": "1_tL7HXMY0fr"
   },
   "outputs": [],
   "source": [
    "model_linear_multi = hypothesis_multi.fit(X_train, y_train)\n",
    "# 모델을 학습시킵니다."
   ]
  },
  {
   "cell_type": "code",
   "execution_count": null,
   "metadata": {
    "colab": {
     "base_uri": "https://localhost:8080/",
     "height": 557
    },
    "colab_type": "code",
    "executionInfo": {
     "elapsed": 761,
     "status": "ok",
     "timestamp": 1592379128555,
     "user": {
      "displayName": "Ardino Lee",
      "photoUrl": "https://lh3.googleusercontent.com/a-/AOh14GhB_WDJA1NwHt0QGkYj1f8YnMmiS1ZeCBKt3hA2=s64",
      "userId": "09906365095310647737"
     },
     "user_tz": -540
    },
    "id": "mTZ00aHOY0ft",
    "outputId": "8f826683-a169-4df1-b9cb-137019668e8c"
   },
   "outputs": [],
   "source": [
    "print('weight : \\n{}\\n\\n'.format(model_linear_multi.coef_))\n",
    "print('bias : \\n{}'.format(model_linear_multi.intercept_))"
   ]
  },
  {
   "cell_type": "code",
   "execution_count": null,
   "metadata": {
    "colab": {
     "base_uri": "https://localhost:8080/",
     "height": 53
    },
    "colab_type": "code",
    "executionInfo": {
     "elapsed": 573,
     "status": "ok",
     "timestamp": 1592379128557,
     "user": {
      "displayName": "Ardino Lee",
      "photoUrl": "https://lh3.googleusercontent.com/a-/AOh14GhB_WDJA1NwHt0QGkYj1f8YnMmiS1ZeCBKt3hA2=s64",
      "userId": "09906365095310647737"
     },
     "user_tz": -540
    },
    "id": "cSXTPok_Y0fv",
    "outputId": "f095cfa6-004c-4add-b5b0-5fcd35173777",
    "scrolled": true
   },
   "outputs": [],
   "source": [
    "print('학습 데이터 점수 : {:.2f}'.format(model_linear_multi.score(X_train, y_train)))\n",
    "print('검증 데이터 점수 : {:.2f}'.format(model_linear_multi.score(X_test, y_test)))"
   ]
  },
  {
   "cell_type": "markdown",
   "metadata": {
    "colab_type": "text",
    "id": "J4DWnbWCY0fw"
   },
   "source": [
    "noise = 100"
   ]
  },
  {
   "cell_type": "code",
   "execution_count": null,
   "metadata": {
    "colab": {},
    "colab_type": "code",
    "executionInfo": {
     "elapsed": 524,
     "status": "ok",
     "timestamp": 1592379128864,
     "user": {
      "displayName": "Ardino Lee",
      "photoUrl": "https://lh3.googleusercontent.com/a-/AOh14GhB_WDJA1NwHt0QGkYj1f8YnMmiS1ZeCBKt3hA2=s64",
      "userId": "09906365095310647737"
     },
     "user_tz": -540
    },
    "id": "YJUmb3k3Y0fy"
   },
   "outputs": [],
   "source": [
    "from sklearn.model_selection import train_test_split\n",
    "from sklearn.linear_model import LinearRegression\n",
    "X_2,y_2 = make_regression(n_samples = 1000, n_features = 1, bias = 10, noise = 200)"
   ]
  },
  {
   "cell_type": "code",
   "execution_count": null,
   "metadata": {
    "colab": {
     "base_uri": "https://localhost:8080/",
     "height": 265
    },
    "colab_type": "code",
    "executionInfo": {
     "elapsed": 1030,
     "status": "ok",
     "timestamp": 1592379130204,
     "user": {
      "displayName": "Ardino Lee",
      "photoUrl": "https://lh3.googleusercontent.com/a-/AOh14GhB_WDJA1NwHt0QGkYj1f8YnMmiS1ZeCBKt3hA2=s64",
      "userId": "09906365095310647737"
     },
     "user_tz": -540
    },
    "id": "vF8DdSlVY0f1",
    "outputId": "2bd8c676-3875-4bc4-c4b3-ade309c4f773",
    "scrolled": true
   },
   "outputs": [],
   "source": [
    "from matplotlib import pyplot as plt\n",
    "plt.scatter(X_2, y_2)\n",
    "plt.show()"
   ]
  },
  {
   "cell_type": "code",
   "execution_count": null,
   "metadata": {
    "colab": {},
    "colab_type": "code",
    "executionInfo": {
     "elapsed": 680,
     "status": "ok",
     "timestamp": 1592379130205,
     "user": {
      "displayName": "Ardino Lee",
      "photoUrl": "https://lh3.googleusercontent.com/a-/AOh14GhB_WDJA1NwHt0QGkYj1f8YnMmiS1ZeCBKt3hA2=s64",
      "userId": "09906365095310647737"
     },
     "user_tz": -540
    },
    "id": "1ksYu2_SY0f3"
   },
   "outputs": [],
   "source": [
    "X_train, X_test, y_train, y_test = train_test_split(X_2, y_2, test_size = 0.2, \n",
    "                                                    shuffle = True)\n",
    "hypothesis_noise100 = LinearRegression()\n",
    "model_linear_noise100 = hypothesis_noise100.fit(X_train, y_train)"
   ]
  },
  {
   "cell_type": "code",
   "execution_count": null,
   "metadata": {
    "colab": {
     "base_uri": "https://localhost:8080/",
     "height": 125
    },
    "colab_type": "code",
    "executionInfo": {
     "elapsed": 554,
     "status": "ok",
     "timestamp": 1592379131146,
     "user": {
      "displayName": "Ardino Lee",
      "photoUrl": "https://lh3.googleusercontent.com/a-/AOh14GhB_WDJA1NwHt0QGkYj1f8YnMmiS1ZeCBKt3hA2=s64",
      "userId": "09906365095310647737"
     },
     "user_tz": -540
    },
    "id": "5Z2ce5weY0f6",
    "outputId": "5dde2d85-c122-42e9-cee6-f518682d6da8"
   },
   "outputs": [],
   "source": [
    "print('weight : \\n{}\\n\\n'.format(model_linear_noise100.coef_))\n",
    "print('bias : \\n{}'.format(model_linear_noise100.intercept_))"
   ]
  },
  {
   "cell_type": "code",
   "execution_count": null,
   "metadata": {
    "colab": {
     "base_uri": "https://localhost:8080/",
     "height": 53
    },
    "colab_type": "code",
    "executionInfo": {
     "elapsed": 449,
     "status": "ok",
     "timestamp": 1592379131545,
     "user": {
      "displayName": "Ardino Lee",
      "photoUrl": "https://lh3.googleusercontent.com/a-/AOh14GhB_WDJA1NwHt0QGkYj1f8YnMmiS1ZeCBKt3hA2=s64",
      "userId": "09906365095310647737"
     },
     "user_tz": -540
    },
    "id": "c0fy-z6SY0f8",
    "outputId": "bf94323f-ea1c-459e-afc8-c94235eca342"
   },
   "outputs": [],
   "source": [
    "print('학습 데이터 점수 : {:.2f}'.format(model_linear_noise100.score(X_train, y_train)))\n",
    "print('검증 데이터 점수 : {:.2f}'.format(model_linear_noise100.score(X_test, y_test)))"
   ]
  },
  {
   "cell_type": "markdown",
   "metadata": {
    "colab_type": "text",
    "id": "LGE0qOzvY0f-"
   },
   "source": [
    "make_regression을 이용해 가상 데이터를 생성할 때 noise의 값에 따른 결과를 보여주고 있다."
   ]
  },
  {
   "cell_type": "markdown",
   "metadata": {
    "colab_type": "text",
    "id": "Dpgr-H3kLtLT"
   },
   "source": [
    "### 보스턴 주택데이터 예측하기"
   ]
  },
  {
   "cell_type": "code",
   "execution_count": 5,
   "metadata": {
    "colab": {},
    "colab_type": "code",
    "executionInfo": {
     "elapsed": 586,
     "status": "ok",
     "timestamp": 1592380565042,
     "user": {
      "displayName": "Ardino Lee",
      "photoUrl": "https://lh3.googleusercontent.com/a-/AOh14GhB_WDJA1NwHt0QGkYj1f8YnMmiS1ZeCBKt3hA2=s64",
      "userId": "09906365095310647737"
     },
     "user_tz": -540
    },
    "id": "-bVrdg9Lxnpp"
   },
   "outputs": [],
   "source": [
    "from sklearn.datasets import load_boston"
   ]
  },
  {
   "cell_type": "code",
   "execution_count": 6,
   "metadata": {
    "colab": {
     "base_uri": "https://localhost:8080/",
     "height": 1000
    },
    "colab_type": "code",
    "executionInfo": {
     "elapsed": 611,
     "status": "ok",
     "timestamp": 1592380567872,
     "user": {
      "displayName": "Ardino Lee",
      "photoUrl": "https://lh3.googleusercontent.com/a-/AOh14GhB_WDJA1NwHt0QGkYj1f8YnMmiS1ZeCBKt3hA2=s64",
      "userId": "09906365095310647737"
     },
     "user_tz": -540
    },
    "id": "ZpZwcyfiHNER",
    "outputId": "893d8ece-9b42-4a7d-8021-d345f117fb3d"
   },
   "outputs": [
    {
     "data": {
      "text/plain": [
       "{'data': array([[6.3200e-03, 1.8000e+01, 2.3100e+00, ..., 1.5300e+01, 3.9690e+02,\n",
       "         4.9800e+00],\n",
       "        [2.7310e-02, 0.0000e+00, 7.0700e+00, ..., 1.7800e+01, 3.9690e+02,\n",
       "         9.1400e+00],\n",
       "        [2.7290e-02, 0.0000e+00, 7.0700e+00, ..., 1.7800e+01, 3.9283e+02,\n",
       "         4.0300e+00],\n",
       "        ...,\n",
       "        [6.0760e-02, 0.0000e+00, 1.1930e+01, ..., 2.1000e+01, 3.9690e+02,\n",
       "         5.6400e+00],\n",
       "        [1.0959e-01, 0.0000e+00, 1.1930e+01, ..., 2.1000e+01, 3.9345e+02,\n",
       "         6.4800e+00],\n",
       "        [4.7410e-02, 0.0000e+00, 1.1930e+01, ..., 2.1000e+01, 3.9690e+02,\n",
       "         7.8800e+00]]),\n",
       " 'target': array([24. , 21.6, 34.7, 33.4, 36.2, 28.7, 22.9, 27.1, 16.5, 18.9, 15. ,\n",
       "        18.9, 21.7, 20.4, 18.2, 19.9, 23.1, 17.5, 20.2, 18.2, 13.6, 19.6,\n",
       "        15.2, 14.5, 15.6, 13.9, 16.6, 14.8, 18.4, 21. , 12.7, 14.5, 13.2,\n",
       "        13.1, 13.5, 18.9, 20. , 21. , 24.7, 30.8, 34.9, 26.6, 25.3, 24.7,\n",
       "        21.2, 19.3, 20. , 16.6, 14.4, 19.4, 19.7, 20.5, 25. , 23.4, 18.9,\n",
       "        35.4, 24.7, 31.6, 23.3, 19.6, 18.7, 16. , 22.2, 25. , 33. , 23.5,\n",
       "        19.4, 22. , 17.4, 20.9, 24.2, 21.7, 22.8, 23.4, 24.1, 21.4, 20. ,\n",
       "        20.8, 21.2, 20.3, 28. , 23.9, 24.8, 22.9, 23.9, 26.6, 22.5, 22.2,\n",
       "        23.6, 28.7, 22.6, 22. , 22.9, 25. , 20.6, 28.4, 21.4, 38.7, 43.8,\n",
       "        33.2, 27.5, 26.5, 18.6, 19.3, 20.1, 19.5, 19.5, 20.4, 19.8, 19.4,\n",
       "        21.7, 22.8, 18.8, 18.7, 18.5, 18.3, 21.2, 19.2, 20.4, 19.3, 22. ,\n",
       "        20.3, 20.5, 17.3, 18.8, 21.4, 15.7, 16.2, 18. , 14.3, 19.2, 19.6,\n",
       "        23. , 18.4, 15.6, 18.1, 17.4, 17.1, 13.3, 17.8, 14. , 14.4, 13.4,\n",
       "        15.6, 11.8, 13.8, 15.6, 14.6, 17.8, 15.4, 21.5, 19.6, 15.3, 19.4,\n",
       "        17. , 15.6, 13.1, 41.3, 24.3, 23.3, 27. , 50. , 50. , 50. , 22.7,\n",
       "        25. , 50. , 23.8, 23.8, 22.3, 17.4, 19.1, 23.1, 23.6, 22.6, 29.4,\n",
       "        23.2, 24.6, 29.9, 37.2, 39.8, 36.2, 37.9, 32.5, 26.4, 29.6, 50. ,\n",
       "        32. , 29.8, 34.9, 37. , 30.5, 36.4, 31.1, 29.1, 50. , 33.3, 30.3,\n",
       "        34.6, 34.9, 32.9, 24.1, 42.3, 48.5, 50. , 22.6, 24.4, 22.5, 24.4,\n",
       "        20. , 21.7, 19.3, 22.4, 28.1, 23.7, 25. , 23.3, 28.7, 21.5, 23. ,\n",
       "        26.7, 21.7, 27.5, 30.1, 44.8, 50. , 37.6, 31.6, 46.7, 31.5, 24.3,\n",
       "        31.7, 41.7, 48.3, 29. , 24. , 25.1, 31.5, 23.7, 23.3, 22. , 20.1,\n",
       "        22.2, 23.7, 17.6, 18.5, 24.3, 20.5, 24.5, 26.2, 24.4, 24.8, 29.6,\n",
       "        42.8, 21.9, 20.9, 44. , 50. , 36. , 30.1, 33.8, 43.1, 48.8, 31. ,\n",
       "        36.5, 22.8, 30.7, 50. , 43.5, 20.7, 21.1, 25.2, 24.4, 35.2, 32.4,\n",
       "        32. , 33.2, 33.1, 29.1, 35.1, 45.4, 35.4, 46. , 50. , 32.2, 22. ,\n",
       "        20.1, 23.2, 22.3, 24.8, 28.5, 37.3, 27.9, 23.9, 21.7, 28.6, 27.1,\n",
       "        20.3, 22.5, 29. , 24.8, 22. , 26.4, 33.1, 36.1, 28.4, 33.4, 28.2,\n",
       "        22.8, 20.3, 16.1, 22.1, 19.4, 21.6, 23.8, 16.2, 17.8, 19.8, 23.1,\n",
       "        21. , 23.8, 23.1, 20.4, 18.5, 25. , 24.6, 23. , 22.2, 19.3, 22.6,\n",
       "        19.8, 17.1, 19.4, 22.2, 20.7, 21.1, 19.5, 18.5, 20.6, 19. , 18.7,\n",
       "        32.7, 16.5, 23.9, 31.2, 17.5, 17.2, 23.1, 24.5, 26.6, 22.9, 24.1,\n",
       "        18.6, 30.1, 18.2, 20.6, 17.8, 21.7, 22.7, 22.6, 25. , 19.9, 20.8,\n",
       "        16.8, 21.9, 27.5, 21.9, 23.1, 50. , 50. , 50. , 50. , 50. , 13.8,\n",
       "        13.8, 15. , 13.9, 13.3, 13.1, 10.2, 10.4, 10.9, 11.3, 12.3,  8.8,\n",
       "         7.2, 10.5,  7.4, 10.2, 11.5, 15.1, 23.2,  9.7, 13.8, 12.7, 13.1,\n",
       "        12.5,  8.5,  5. ,  6.3,  5.6,  7.2, 12.1,  8.3,  8.5,  5. , 11.9,\n",
       "        27.9, 17.2, 27.5, 15. , 17.2, 17.9, 16.3,  7. ,  7.2,  7.5, 10.4,\n",
       "         8.8,  8.4, 16.7, 14.2, 20.8, 13.4, 11.7,  8.3, 10.2, 10.9, 11. ,\n",
       "         9.5, 14.5, 14.1, 16.1, 14.3, 11.7, 13.4,  9.6,  8.7,  8.4, 12.8,\n",
       "        10.5, 17.1, 18.4, 15.4, 10.8, 11.8, 14.9, 12.6, 14.1, 13. , 13.4,\n",
       "        15.2, 16.1, 17.8, 14.9, 14.1, 12.7, 13.5, 14.9, 20. , 16.4, 17.7,\n",
       "        19.5, 20.2, 21.4, 19.9, 19. , 19.1, 19.1, 20.1, 19.9, 19.6, 23.2,\n",
       "        29.8, 13.8, 13.3, 16.7, 12. , 14.6, 21.4, 23. , 23.7, 25. , 21.8,\n",
       "        20.6, 21.2, 19.1, 20.6, 15.2,  7. ,  8.1, 13.6, 20.1, 21.8, 24.5,\n",
       "        23.1, 19.7, 18.3, 21.2, 17.5, 16.8, 22.4, 20.6, 23.9, 22. , 11.9]),\n",
       " 'feature_names': array(['CRIM', 'ZN', 'INDUS', 'CHAS', 'NOX', 'RM', 'AGE', 'DIS', 'RAD',\n",
       "        'TAX', 'PTRATIO', 'B', 'LSTAT'], dtype='<U7'),\n",
       " 'DESCR': \".. _boston_dataset:\\n\\nBoston house prices dataset\\n---------------------------\\n\\n**Data Set Characteristics:**  \\n\\n    :Number of Instances: 506 \\n\\n    :Number of Attributes: 13 numeric/categorical predictive. Median Value (attribute 14) is usually the target.\\n\\n    :Attribute Information (in order):\\n        - CRIM     per capita crime rate by town\\n        - ZN       proportion of residential land zoned for lots over 25,000 sq.ft.\\n        - INDUS    proportion of non-retail business acres per town\\n        - CHAS     Charles River dummy variable (= 1 if tract bounds river; 0 otherwise)\\n        - NOX      nitric oxides concentration (parts per 10 million)\\n        - RM       average number of rooms per dwelling\\n        - AGE      proportion of owner-occupied units built prior to 1940\\n        - DIS      weighted distances to five Boston employment centres\\n        - RAD      index of accessibility to radial highways\\n        - TAX      full-value property-tax rate per $10,000\\n        - PTRATIO  pupil-teacher ratio by town\\n        - B        1000(Bk - 0.63)^2 where Bk is the proportion of black people by town\\n        - LSTAT    % lower status of the population\\n        - MEDV     Median value of owner-occupied homes in $1000's\\n\\n    :Missing Attribute Values: None\\n\\n    :Creator: Harrison, D. and Rubinfeld, D.L.\\n\\nThis is a copy of UCI ML housing dataset.\\nhttps://archive.ics.uci.edu/ml/machine-learning-databases/housing/\\n\\n\\nThis dataset was taken from the StatLib library which is maintained at Carnegie Mellon University.\\n\\nThe Boston house-price data of Harrison, D. and Rubinfeld, D.L. 'Hedonic\\nprices and the demand for clean air', J. Environ. Economics & Management,\\nvol.5, 81-102, 1978.   Used in Belsley, Kuh & Welsch, 'Regression diagnostics\\n...', Wiley, 1980.   N.B. Various transformations are used in the table on\\npages 244-261 of the latter.\\n\\nThe Boston house-price data has been used in many machine learning papers that address regression\\nproblems.   \\n     \\n.. topic:: References\\n\\n   - Belsley, Kuh & Welsch, 'Regression diagnostics: Identifying Influential Data and Sources of Collinearity', Wiley, 1980. 244-261.\\n   - Quinlan,R. (1993). Combining Instance-Based and Model-Based Learning. In Proceedings on the Tenth International Conference of Machine Learning, 236-243, University of Massachusetts, Amherst. Morgan Kaufmann.\\n\",\n",
       " 'filename': 'C:\\\\Users\\\\82106\\\\anaconda3\\\\lib\\\\site-packages\\\\sklearn\\\\datasets\\\\data\\\\boston_house_prices.csv'}"
      ]
     },
     "execution_count": 6,
     "metadata": {},
     "output_type": "execute_result"
    }
   ],
   "source": [
    "boston = load_boston()\n",
    "boston"
   ]
  },
  {
   "cell_type": "code",
   "execution_count": 7,
   "metadata": {
    "colab": {
     "base_uri": "https://localhost:8080/",
     "height": 251
    },
    "colab_type": "code",
    "executionInfo": {
     "elapsed": 573,
     "status": "ok",
     "timestamp": 1592380571538,
     "user": {
      "displayName": "Ardino Lee",
      "photoUrl": "https://lh3.googleusercontent.com/a-/AOh14GhB_WDJA1NwHt0QGkYj1f8YnMmiS1ZeCBKt3hA2=s64",
      "userId": "09906365095310647737"
     },
     "user_tz": -540
    },
    "id": "_6g6FAriyCqA",
    "outputId": "3cef7a79-510e-421d-ea61-08db0f7490db"
   },
   "outputs": [
    {
     "data": {
      "text/plain": [
       "array([[6.3200e-03, 1.8000e+01, 2.3100e+00, ..., 1.5300e+01, 3.9690e+02,\n",
       "        4.9800e+00],\n",
       "       [2.7310e-02, 0.0000e+00, 7.0700e+00, ..., 1.7800e+01, 3.9690e+02,\n",
       "        9.1400e+00],\n",
       "       [2.7290e-02, 0.0000e+00, 7.0700e+00, ..., 1.7800e+01, 3.9283e+02,\n",
       "        4.0300e+00],\n",
       "       ...,\n",
       "       [6.0760e-02, 0.0000e+00, 1.1930e+01, ..., 2.1000e+01, 3.9690e+02,\n",
       "        5.6400e+00],\n",
       "       [1.0959e-01, 0.0000e+00, 1.1930e+01, ..., 2.1000e+01, 3.9345e+02,\n",
       "        6.4800e+00],\n",
       "       [4.7410e-02, 0.0000e+00, 1.1930e+01, ..., 2.1000e+01, 3.9690e+02,\n",
       "        7.8800e+00]])"
      ]
     },
     "execution_count": 7,
     "metadata": {},
     "output_type": "execute_result"
    }
   ],
   "source": [
    "boston['data']"
   ]
  },
  {
   "cell_type": "code",
   "execution_count": 8,
   "metadata": {
    "colab": {
     "base_uri": "https://localhost:8080/",
     "height": 845
    },
    "colab_type": "code",
    "executionInfo": {
     "elapsed": 707,
     "status": "ok",
     "timestamp": 1592380583381,
     "user": {
      "displayName": "Ardino Lee",
      "photoUrl": "https://lh3.googleusercontent.com/a-/AOh14GhB_WDJA1NwHt0QGkYj1f8YnMmiS1ZeCBKt3hA2=s64",
      "userId": "09906365095310647737"
     },
     "user_tz": -540
    },
    "id": "UVolSnJ2ySsb",
    "outputId": "8d090172-f4e9-43d8-c506-39ee331af254"
   },
   "outputs": [
    {
     "data": {
      "text/plain": [
       "array([24. , 21.6, 34.7, 33.4, 36.2, 28.7, 22.9, 27.1, 16.5, 18.9, 15. ,\n",
       "       18.9, 21.7, 20.4, 18.2, 19.9, 23.1, 17.5, 20.2, 18.2, 13.6, 19.6,\n",
       "       15.2, 14.5, 15.6, 13.9, 16.6, 14.8, 18.4, 21. , 12.7, 14.5, 13.2,\n",
       "       13.1, 13.5, 18.9, 20. , 21. , 24.7, 30.8, 34.9, 26.6, 25.3, 24.7,\n",
       "       21.2, 19.3, 20. , 16.6, 14.4, 19.4, 19.7, 20.5, 25. , 23.4, 18.9,\n",
       "       35.4, 24.7, 31.6, 23.3, 19.6, 18.7, 16. , 22.2, 25. , 33. , 23.5,\n",
       "       19.4, 22. , 17.4, 20.9, 24.2, 21.7, 22.8, 23.4, 24.1, 21.4, 20. ,\n",
       "       20.8, 21.2, 20.3, 28. , 23.9, 24.8, 22.9, 23.9, 26.6, 22.5, 22.2,\n",
       "       23.6, 28.7, 22.6, 22. , 22.9, 25. , 20.6, 28.4, 21.4, 38.7, 43.8,\n",
       "       33.2, 27.5, 26.5, 18.6, 19.3, 20.1, 19.5, 19.5, 20.4, 19.8, 19.4,\n",
       "       21.7, 22.8, 18.8, 18.7, 18.5, 18.3, 21.2, 19.2, 20.4, 19.3, 22. ,\n",
       "       20.3, 20.5, 17.3, 18.8, 21.4, 15.7, 16.2, 18. , 14.3, 19.2, 19.6,\n",
       "       23. , 18.4, 15.6, 18.1, 17.4, 17.1, 13.3, 17.8, 14. , 14.4, 13.4,\n",
       "       15.6, 11.8, 13.8, 15.6, 14.6, 17.8, 15.4, 21.5, 19.6, 15.3, 19.4,\n",
       "       17. , 15.6, 13.1, 41.3, 24.3, 23.3, 27. , 50. , 50. , 50. , 22.7,\n",
       "       25. , 50. , 23.8, 23.8, 22.3, 17.4, 19.1, 23.1, 23.6, 22.6, 29.4,\n",
       "       23.2, 24.6, 29.9, 37.2, 39.8, 36.2, 37.9, 32.5, 26.4, 29.6, 50. ,\n",
       "       32. , 29.8, 34.9, 37. , 30.5, 36.4, 31.1, 29.1, 50. , 33.3, 30.3,\n",
       "       34.6, 34.9, 32.9, 24.1, 42.3, 48.5, 50. , 22.6, 24.4, 22.5, 24.4,\n",
       "       20. , 21.7, 19.3, 22.4, 28.1, 23.7, 25. , 23.3, 28.7, 21.5, 23. ,\n",
       "       26.7, 21.7, 27.5, 30.1, 44.8, 50. , 37.6, 31.6, 46.7, 31.5, 24.3,\n",
       "       31.7, 41.7, 48.3, 29. , 24. , 25.1, 31.5, 23.7, 23.3, 22. , 20.1,\n",
       "       22.2, 23.7, 17.6, 18.5, 24.3, 20.5, 24.5, 26.2, 24.4, 24.8, 29.6,\n",
       "       42.8, 21.9, 20.9, 44. , 50. , 36. , 30.1, 33.8, 43.1, 48.8, 31. ,\n",
       "       36.5, 22.8, 30.7, 50. , 43.5, 20.7, 21.1, 25.2, 24.4, 35.2, 32.4,\n",
       "       32. , 33.2, 33.1, 29.1, 35.1, 45.4, 35.4, 46. , 50. , 32.2, 22. ,\n",
       "       20.1, 23.2, 22.3, 24.8, 28.5, 37.3, 27.9, 23.9, 21.7, 28.6, 27.1,\n",
       "       20.3, 22.5, 29. , 24.8, 22. , 26.4, 33.1, 36.1, 28.4, 33.4, 28.2,\n",
       "       22.8, 20.3, 16.1, 22.1, 19.4, 21.6, 23.8, 16.2, 17.8, 19.8, 23.1,\n",
       "       21. , 23.8, 23.1, 20.4, 18.5, 25. , 24.6, 23. , 22.2, 19.3, 22.6,\n",
       "       19.8, 17.1, 19.4, 22.2, 20.7, 21.1, 19.5, 18.5, 20.6, 19. , 18.7,\n",
       "       32.7, 16.5, 23.9, 31.2, 17.5, 17.2, 23.1, 24.5, 26.6, 22.9, 24.1,\n",
       "       18.6, 30.1, 18.2, 20.6, 17.8, 21.7, 22.7, 22.6, 25. , 19.9, 20.8,\n",
       "       16.8, 21.9, 27.5, 21.9, 23.1, 50. , 50. , 50. , 50. , 50. , 13.8,\n",
       "       13.8, 15. , 13.9, 13.3, 13.1, 10.2, 10.4, 10.9, 11.3, 12.3,  8.8,\n",
       "        7.2, 10.5,  7.4, 10.2, 11.5, 15.1, 23.2,  9.7, 13.8, 12.7, 13.1,\n",
       "       12.5,  8.5,  5. ,  6.3,  5.6,  7.2, 12.1,  8.3,  8.5,  5. , 11.9,\n",
       "       27.9, 17.2, 27.5, 15. , 17.2, 17.9, 16.3,  7. ,  7.2,  7.5, 10.4,\n",
       "        8.8,  8.4, 16.7, 14.2, 20.8, 13.4, 11.7,  8.3, 10.2, 10.9, 11. ,\n",
       "        9.5, 14.5, 14.1, 16.1, 14.3, 11.7, 13.4,  9.6,  8.7,  8.4, 12.8,\n",
       "       10.5, 17.1, 18.4, 15.4, 10.8, 11.8, 14.9, 12.6, 14.1, 13. , 13.4,\n",
       "       15.2, 16.1, 17.8, 14.9, 14.1, 12.7, 13.5, 14.9, 20. , 16.4, 17.7,\n",
       "       19.5, 20.2, 21.4, 19.9, 19. , 19.1, 19.1, 20.1, 19.9, 19.6, 23.2,\n",
       "       29.8, 13.8, 13.3, 16.7, 12. , 14.6, 21.4, 23. , 23.7, 25. , 21.8,\n",
       "       20.6, 21.2, 19.1, 20.6, 15.2,  7. ,  8.1, 13.6, 20.1, 21.8, 24.5,\n",
       "       23.1, 19.7, 18.3, 21.2, 17.5, 16.8, 22.4, 20.6, 23.9, 22. , 11.9])"
      ]
     },
     "execution_count": 8,
     "metadata": {},
     "output_type": "execute_result"
    }
   ],
   "source": [
    "boston['target']"
   ]
  },
  {
   "cell_type": "code",
   "execution_count": 9,
   "metadata": {
    "colab": {
     "base_uri": "https://localhost:8080/",
     "height": 53
    },
    "colab_type": "code",
    "executionInfo": {
     "elapsed": 670,
     "status": "ok",
     "timestamp": 1592380594087,
     "user": {
      "displayName": "Ardino Lee",
      "photoUrl": "https://lh3.googleusercontent.com/a-/AOh14GhB_WDJA1NwHt0QGkYj1f8YnMmiS1ZeCBKt3hA2=s64",
      "userId": "09906365095310647737"
     },
     "user_tz": -540
    },
    "id": "d5G17SvnynLU",
    "outputId": "d23416a1-c1d3-42ea-d4b2-3054f1cb76d7"
   },
   "outputs": [
    {
     "data": {
      "text/plain": [
       "array(['CRIM', 'ZN', 'INDUS', 'CHAS', 'NOX', 'RM', 'AGE', 'DIS', 'RAD',\n",
       "       'TAX', 'PTRATIO', 'B', 'LSTAT'], dtype='<U7')"
      ]
     },
     "execution_count": 9,
     "metadata": {},
     "output_type": "execute_result"
    }
   ],
   "source": [
    "boston['feature_names']"
   ]
  },
  {
   "cell_type": "code",
   "execution_count": 10,
   "metadata": {
    "colab": {
     "base_uri": "https://localhost:8080/",
     "height": 35
    },
    "colab_type": "code",
    "executionInfo": {
     "elapsed": 428,
     "status": "ok",
     "timestamp": 1592380595055,
     "user": {
      "displayName": "Ardino Lee",
      "photoUrl": "https://lh3.googleusercontent.com/a-/AOh14GhB_WDJA1NwHt0QGkYj1f8YnMmiS1ZeCBKt3hA2=s64",
      "userId": "09906365095310647737"
     },
     "user_tz": -540
    },
    "id": "7L_jQuls1BMJ",
    "outputId": "041d9ca7-a6bf-4e7f-d453-f1353667e587"
   },
   "outputs": [
    {
     "data": {
      "text/plain": [
       "((506, 13), (506,))"
      ]
     },
     "execution_count": 10,
     "metadata": {},
     "output_type": "execute_result"
    }
   ],
   "source": [
    "boston['data'].shape, boston['target'].shape"
   ]
  },
  {
   "cell_type": "code",
   "execution_count": 11,
   "metadata": {
    "colab": {},
    "colab_type": "code",
    "executionInfo": {
     "elapsed": 509,
     "status": "ok",
     "timestamp": 1592380676086,
     "user": {
      "displayName": "Ardino Lee",
      "photoUrl": "https://lh3.googleusercontent.com/a-/AOh14GhB_WDJA1NwHt0QGkYj1f8YnMmiS1ZeCBKt3hA2=s64",
      "userId": "09906365095310647737"
     },
     "user_tz": -540
    },
    "id": "oqbYWlwfSM3i"
   },
   "outputs": [
    {
     "name": "stdout",
     "output_type": "stream",
     "text": [
      "Object `train_test_split` not found.\n"
     ]
    }
   ],
   "source": [
    "train_test_split?"
   ]
  },
  {
   "cell_type": "code",
   "execution_count": 12,
   "metadata": {
    "colab": {},
    "colab_type": "code",
    "executionInfo": {
     "elapsed": 578,
     "status": "ok",
     "timestamp": 1592380698685,
     "user": {
      "displayName": "Ardino Lee",
      "photoUrl": "https://lh3.googleusercontent.com/a-/AOh14GhB_WDJA1NwHt0QGkYj1f8YnMmiS1ZeCBKt3hA2=s64",
      "userId": "09906365095310647737"
     },
     "user_tz": -540
    },
    "id": "coJxJNEa1Q3q"
   },
   "outputs": [],
   "source": [
    "from sklearn.model_selection import train_test_split\n",
    "\n",
    "X_train, X_test, y_train, y_test = train_test_split(boston['data'], boston['target'],\n",
    "                                                    test_size=0.2,\n",
    "                                                    shuffle=True)"
   ]
  },
  {
   "cell_type": "code",
   "execution_count": 13,
   "metadata": {
    "colab": {},
    "colab_type": "code",
    "executionInfo": {
     "elapsed": 554,
     "status": "ok",
     "timestamp": 1592379145854,
     "user": {
      "displayName": "Ardino Lee",
      "photoUrl": "https://lh3.googleusercontent.com/a-/AOh14GhB_WDJA1NwHt0QGkYj1f8YnMmiS1ZeCBKt3hA2=s64",
      "userId": "09906365095310647737"
     },
     "user_tz": -540
    },
    "id": "SvaIJxdaMKN9"
   },
   "outputs": [
    {
     "name": "stdout",
     "output_type": "stream",
     "text": [
      "Object `LinearRegression` not found.\n"
     ]
    }
   ],
   "source": [
    "LinearRegression?"
   ]
  },
  {
   "cell_type": "code",
   "execution_count": null,
   "metadata": {
    "colab": {
     "base_uri": "https://localhost:8080/",
     "height": 143
    },
    "colab_type": "code",
    "executionInfo": {
     "elapsed": 575,
     "status": "ok",
     "timestamp": 1592380731798,
     "user": {
      "displayName": "Ardino Lee",
      "photoUrl": "https://lh3.googleusercontent.com/a-/AOh14GhB_WDJA1NwHt0QGkYj1f8YnMmiS1ZeCBKt3hA2=s64",
      "userId": "09906365095310647737"
     },
     "user_tz": -540
    },
    "id": "Nye0BPzd3num",
    "outputId": "583e4a3a-3ebe-49a9-c07a-cb1f0fd05c4b"
   },
   "outputs": [],
   "source": [
    "from sklearn.linear_model import LinearRegression\n",
    "\n",
    "hypothesis = LinearRegression()\n",
    "\n",
    "model_boston = hypothesis.fit(X_train, y_train)\n",
    "\n",
    "print('learning finished..')\n",
    "print('coef_: {}'.format(model_boston.coef_))\n",
    "print()\n",
    "print('bias: {}'.format(model_boston.intercept_))"
   ]
  },
  {
   "cell_type": "code",
   "execution_count": null,
   "metadata": {
    "colab": {
     "base_uri": "https://localhost:8080/",
     "height": 35
    },
    "colab_type": "code",
    "executionInfo": {
     "elapsed": 604,
     "status": "ok",
     "timestamp": 1592380788990,
     "user": {
      "displayName": "Ardino Lee",
      "photoUrl": "https://lh3.googleusercontent.com/a-/AOh14GhB_WDJA1NwHt0QGkYj1f8YnMmiS1ZeCBKt3hA2=s64",
      "userId": "09906365095310647737"
     },
     "user_tz": -540
    },
    "id": "qtNKjlAW56Gf",
    "outputId": "0a5cba6e-4b90-4acb-d122-fcfee7f40b1a"
   },
   "outputs": [],
   "source": [
    "model_boston.score(X_train, y_train), model_boston.score(X_test, y_test)"
   ]
  },
  {
   "cell_type": "code",
   "execution_count": null,
   "metadata": {
    "colab": {
     "base_uri": "https://localhost:8080/",
     "height": 395
    },
    "colab_type": "code",
    "executionInfo": {
     "elapsed": 803,
     "status": "ok",
     "timestamp": 1592380802692,
     "user": {
      "displayName": "Ardino Lee",
      "photoUrl": "https://lh3.googleusercontent.com/a-/AOh14GhB_WDJA1NwHt0QGkYj1f8YnMmiS1ZeCBKt3hA2=s64",
      "userId": "09906365095310647737"
     },
     "user_tz": -540
    },
    "id": "-RfIidFw6G1A",
    "outputId": "eadcec00-dd4e-4794-ad13-6fed26284135"
   },
   "outputs": [],
   "source": [
    "model_boston.predict(X_test)"
   ]
  },
  {
   "cell_type": "code",
   "execution_count": null,
   "metadata": {
    "colab": {},
    "colab_type": "code",
    "id": "IkqUSbqQSsJj"
   },
   "outputs": [],
   "source": []
  }
 ],
 "metadata": {
  "colab": {
   "collapsed_sections": [
    "Uoiuwap-Y0fQ"
   ],
   "name": "01_01 Linear_Regression.ipynb",
   "provenance": []
  },
  "kernelspec": {
   "display_name": "Python 3 (ipykernel)",
   "language": "python",
   "name": "python3"
  },
  "language_info": {
   "codemirror_mode": {
    "name": "ipython",
    "version": 3
   },
   "file_extension": ".py",
   "mimetype": "text/x-python",
   "name": "python",
   "nbconvert_exporter": "python",
   "pygments_lexer": "ipython3",
   "version": "3.9.7"
  },
  "vscode": {
   "interpreter": {
    "hash": "e508c96042fd7b3aa969c1a8875668ac50b0a6c54de6b2bab6d59ac763cd3db2"
   }
  }
 },
 "nbformat": 4,
 "nbformat_minor": 1
}
