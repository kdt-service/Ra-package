{
 "cells": [
  {
   "cell_type": "markdown",
   "id": "86e99ac9",
   "metadata": {},
   "source": [
    "## 일별시세량"
   ]
  },
  {
   "cell_type": "code",
   "execution_count": null,
   "id": "2e0a5282",
   "metadata": {},
   "outputs": [],
   "source": [
    "import requests"
   ]
  },
  {
   "cell_type": "code",
   "execution_count": null,
   "id": "ac5e4c5b",
   "metadata": {},
   "outputs": [],
   "source": [
    "from bs4 import BeautifulSoup"
   ]
  },
  {
   "cell_type": "code",
   "execution_count": null,
   "id": "db735514",
   "metadata": {},
   "outputs": [],
   "source": [
    "headers = {'User-Agent':'Mozilla/5.0 (Windows NT 10.0; Win64; x64) AppleWebKit/537.36 (KHTML, like Gecko) Chrome/110.0.0.0 Safari/537.36'}"
   ]
  },
  {
   "cell_type": "code",
   "execution_count": null,
   "id": "dac19454",
   "metadata": {},
   "outputs": [],
   "source": [
    "URL = 'https://m.stock.naver.com/api/index/KOSPI/price'"
   ]
  },
  {
   "cell_type": "code",
   "execution_count": null,
   "id": "3c4cf3bc",
   "metadata": {},
   "outputs": [],
   "source": [
    "params = {\n",
    "    'pagesize':10,\n",
    "    'page' : 1\n",
    "    }"
   ]
  },
  {
   "cell_type": "code",
   "execution_count": null,
   "id": "c9a08f5b",
   "metadata": {},
   "outputs": [],
   "source": [
    "response = requests.get(URL, params=params,headers=headers)"
   ]
  },
  {
   "cell_type": "code",
   "execution_count": null,
   "id": "87dd71f6",
   "metadata": {},
   "outputs": [],
   "source": [
    "response.status_code"
   ]
  },
  {
   "cell_type": "code",
   "execution_count": null,
   "id": "582794ce",
   "metadata": {
    "scrolled": true
   },
   "outputs": [],
   "source": [
    "type(response.text)"
   ]
  },
  {
   "cell_type": "code",
   "execution_count": null,
   "id": "955fceaf",
   "metadata": {},
   "outputs": [],
   "source": [
    "import json"
   ]
  },
  {
   "cell_type": "code",
   "execution_count": null,
   "id": "309d328f",
   "metadata": {},
   "outputs": [],
   "source": [
    "json_result = json.loads(response.text)"
   ]
  },
  {
   "cell_type": "code",
   "execution_count": null,
   "id": "381e26f3",
   "metadata": {},
   "outputs": [],
   "source": [
    "type(json_result)"
   ]
  },
  {
   "cell_type": "markdown",
   "id": "3f36d920",
   "metadata": {},
   "source": [
    "##### 결과 출력"
   ]
  },
  {
   "cell_type": "code",
   "execution_count": null,
   "id": "f81868dd",
   "metadata": {
    "scrolled": true
   },
   "outputs": [],
   "source": [
    "json_result"
   ]
  },
  {
   "cell_type": "markdown",
   "id": "fc2ee7ce",
   "metadata": {},
   "source": [
    "##### 분류 값 삽입"
   ]
  },
  {
   "cell_type": "code",
   "execution_count": null,
   "id": "104efcf4",
   "metadata": {},
   "outputs": [],
   "source": [
    "price_list = []\n",
    "\n",
    "for data in json_result:\n",
    "    price_list.append({\n",
    "        '날짜': data['localTradedAt'],\n",
    "        '종가': data['closePrice'],\n",
    "        '전일대비': data['compareToPreviousClosePrice'],\n",
    "        '등락률' : data['fluctuationsRatio'],\n",
    "        '시가' : data['openPrice'],\n",
    "        '고가' : data['highPrice'],\n",
    "        '저가' : data['lowPrice']\n",
    "    })\n",
    "    \n",
    "price_list"
   ]
  },
  {
   "cell_type": "markdown",
   "id": "65d441ab",
   "metadata": {},
   "source": [
    "##### 총 10페이지까지 출력"
   ]
  },
  {
   "cell_type": "code",
   "execution_count": null,
   "id": "d73f87ec",
   "metadata": {
    "scrolled": true
   },
   "outputs": [],
   "source": [
    "price_list = []\n",
    "\n",
    "for i in range(1, 6):\n",
    "    print('현재 파라미터', params)\n",
    "    params = {\n",
    "        'pageSize' : 20,\n",
    "        'page' : i,\n",
    "    }\n",
    "    print(f'현재 {i}페이지 진행 중...')\n",
    "    \n",
    "    response = requests.get(URL, params=params,headers=headers)\n",
    "    json_result = json.loads(response.text)\n",
    "    \n",
    "    \n",
    "    for data in json_result:\n",
    "        price_list.append({\n",
    "            '날짜': data['localTradedAt'],\n",
    "            '종가': data['closePrice'],\n",
    "            '전일대비': data['compareToPreviousClosePrice'],\n",
    "            '등락률' : data['fluctuationsRatio'],\n",
    "            '시가' : data['openPrice'],\n",
    "            '고가' : data['highPrice'],\n",
    "            '저가' : data['lowPrice']\n",
    "        })\n",
    "        \n",
    "price_list"
   ]
  },
  {
   "cell_type": "code",
   "execution_count": null,
   "id": "6a372b27",
   "metadata": {},
   "outputs": [],
   "source": [
    "len(price_list)"
   ]
  },
  {
   "cell_type": "markdown",
   "id": "38a55852",
   "metadata": {},
   "source": [
    "##### 데이터 저장(json, xlsx"
   ]
  },
  {
   "cell_type": "code",
   "execution_count": null,
   "id": "7951a040",
   "metadata": {},
   "outputs": [],
   "source": [
    "file = open(\"./dayprice.json\", \"w+\")\n",
    "file.write(json.dumps(price_list))"
   ]
  },
  {
   "cell_type": "code",
   "execution_count": null,
   "id": "c93c2c3d",
   "metadata": {},
   "outputs": [],
   "source": [
    "import pandas as pd\n",
    "\n",
    "df = pd.read_json(\"./dayprice.json\")\n",
    "writer = pd.ExcelWriter(\"dayprice.xlsx\")\n",
    "df.to_excel(writer, \"sheet1\")\n",
    "writer.save()"
   ]
  },
  {
   "cell_type": "code",
   "execution_count": null,
   "id": "94846002",
   "metadata": {},
   "outputs": [],
   "source": []
  },
  {
   "cell_type": "markdown",
   "id": "ee0b8fe8",
   "metadata": {},
   "source": [
    "##### 데이터 저장(csv)"
   ]
  },
  {
   "cell_type": "code",
   "execution_count": null,
   "id": "631816a3",
   "metadata": {},
   "outputs": [],
   "source": [
    "import pandas as pd"
   ]
  },
  {
   "cell_type": "code",
   "execution_count": null,
   "id": "b51edb33",
   "metadata": {},
   "outputs": [],
   "source": [
    "df=pd.DataFrame(price_list)"
   ]
  },
  {
   "cell_type": "code",
   "execution_count": null,
   "id": "907b34eb",
   "metadata": {},
   "outputs": [],
   "source": [
    "df.to_csv('data.csv', index=False)"
   ]
  },
  {
   "cell_type": "markdown",
   "id": "bb3edd42",
   "metadata": {},
   "source": [
    "##### 데이터 불러오기"
   ]
  },
  {
   "cell_type": "code",
   "execution_count": null,
   "id": "723b7c63",
   "metadata": {},
   "outputs": [],
   "source": [
    "import pandas as pd\n",
    "df=pd.read_csv('dayprice.csv' , sep=',', encoding='CP949')\n",
    "df"
   ]
  },
  {
   "cell_type": "code",
   "execution_count": null,
   "id": "23a43f80",
   "metadata": {},
   "outputs": [],
   "source": [
    "df_2 = df[['날짜','종가','전일대비','등락률','시가','고가','저가']]"
   ]
  },
  {
   "cell_type": "code",
   "execution_count": null,
   "id": "f36abb31",
   "metadata": {},
   "outputs": [],
   "source": [
    "df_2"
   ]
  },
  {
   "cell_type": "code",
   "execution_count": null,
   "id": "36755293",
   "metadata": {},
   "outputs": [],
   "source": []
  }
 ],
 "metadata": {
  "kernelspec": {
   "display_name": "Python 3 (ipykernel)",
   "language": "python",
   "name": "python3"
  },
  "language_info": {
   "codemirror_mode": {
    "name": "ipython",
    "version": 3
   },
   "file_extension": ".py",
   "mimetype": "text/x-python",
   "name": "python",
   "nbconvert_exporter": "python",
   "pygments_lexer": "ipython3",
   "version": "3.9.7"
  }
 },
 "nbformat": 4,
 "nbformat_minor": 5
}
