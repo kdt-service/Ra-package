{
 "cells": [
  {
   "cell_type": "markdown",
   "id": "14c374dc",
   "metadata": {},
   "source": [
    "# 데이터 분석 패키지"
   ]
  },
  {
   "cell_type": "markdown",
   "id": "fa717188",
   "metadata": {},
   "source": [
    "서브 프로젝트 1 주제"
   ]
  },
  {
   "cell_type": "markdown",
   "id": "a5dbc0b5",
   "metadata": {},
   "source": [
    "- 코스피 지수"
   ]
  },
  {
   "cell_type": "markdown",
   "id": "3183729f",
   "metadata": {},
   "source": [
    "URL ='https://m.stock.naver.com/domestic/index/KOSPI/total'"
   ]
  },
  {
   "cell_type": "markdown",
   "id": "35cb518f",
   "metadata": {},
   "source": [
    "##### -국내 주요경제지표를 탐색하기 위함."
   ]
  },
  {
   "cell_type": "markdown",
   "id": "8840d899",
   "metadata": {},
   "source": [
    "##### -코스피지수에 영향을 끼치는 요인들 파악하기 위함."
   ]
  },
  {
   "cell_type": "markdown",
   "id": "57062c5d",
   "metadata": {},
   "source": [
    "##### -코스피 지수의 3개월치 혹은 1개월치의 등락에 대해 일별시세 항목을 크롤링하여  수집 후 ( 날짜, 종가, 전일대비, 등락률,  시가 , 고가, 저가)  항목을 수집"
   ]
  },
  {
   "cell_type": "markdown",
   "id": "66a3429c",
   "metadata": {},
   "source": [
    "##### - 일별시세 항목에서 고가와 저가간에 금액 차이를 전처리하여 파악 "
   ]
  },
  {
   "cell_type": "markdown",
   "id": "143982ba",
   "metadata": {},
   "source": [
    "##### -구성종목의 등락에 따른 당일 시세량 변화 파악 (비동기방식 사용)\n",
    "###### - 구성종목에서 종목, 시세, 시가총액, 등락률 을  수집하여  시세의 등락과 시가총액과의 관계를 파악"
   ]
  },
  {
   "cell_type": "markdown",
   "id": "9f19843b",
   "metadata": {},
   "source": [
    "##### -앞으로의 변화를 예측"
   ]
  },
  {
   "cell_type": "code",
   "execution_count": null,
   "id": "b79902f0",
   "metadata": {},
   "outputs": [],
   "source": []
  },
  {
   "cell_type": "code",
   "execution_count": null,
   "id": "ad5a0806",
   "metadata": {},
   "outputs": [],
   "source": []
  }
 ],
 "metadata": {
  "kernelspec": {
   "display_name": "Python 3 (ipykernel)",
   "language": "python",
   "name": "python3"
  },
  "language_info": {
   "codemirror_mode": {
    "name": "ipython",
    "version": 3
   },
   "file_extension": ".py",
   "mimetype": "text/x-python",
   "name": "python",
   "nbconvert_exporter": "python",
   "pygments_lexer": "ipython3",
   "version": "3.9.7"
  }
 },
 "nbformat": 4,
 "nbformat_minor": 5
}
